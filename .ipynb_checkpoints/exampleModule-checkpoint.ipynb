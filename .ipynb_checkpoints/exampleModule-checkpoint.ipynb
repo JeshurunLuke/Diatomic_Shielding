{
 "cells": [
  {
   "cell_type": "code",
   "execution_count": 1,
   "metadata": {},
   "outputs": [
    {
     "data": {
      "application/vnd.webio.node+json": {
       "children": [],
       "instanceArgs": {
        "namespace": "html",
        "tag": "div"
       },
       "nodeType": "DOM",
       "props": {},
       "type": "node"
      },
      "text/html": [
       "<div style=\"padding: 1em; background-color: #f8d6da; border: 1px solid #f5c6cb; font-weight: bold;\">\n",
       "<p>The WebIO Jupyter extension was not detected. See the\n",
       "<a href=\"https://juliagizmos.github.io/WebIO.jl/latest/providers/ijulia/\" target=\"_blank\">\n",
       "    WebIO Jupyter integration documentation\n",
       "</a>\n",
       "for more information.\n",
       "</div>\n"
      ],
      "text/plain": [
       "WebIO._IJuliaInit()"
      ]
     },
     "metadata": {
      "application/vnd.webio.node+json": {
       "kernelId": "8e2e0479-c32a-4dbc-aea1-4d0da71a46a0"
      }
     },
     "output_type": "display_data"
    },
    {
     "data": {
      "text/plain": [
       "5.29177210903e-11"
      ]
     },
     "execution_count": 1,
     "metadata": {},
     "output_type": "execute_result"
    }
   ],
   "source": [
    "using Revise\n",
    "includet(\"shielding.jl\")\n",
    "\n",
    "#using .diatomic_jl.MoleculeTypes\n",
    "using .shielding_jl\n",
    "using PhysicalConstants.CODATA2018\n",
    "a0 = BohrRadius.val"
   ]
  },
  {
   "cell_type": "markdown",
   "metadata": {},
   "source": [
    "# Setting Up the Molecule"
   ]
  },
  {
   "cell_type": "code",
   "execution_count": 2,
   "metadata": {},
   "outputs": [],
   "source": [
    "tester = generateMolecule(Na23Cs133, 3, 6)\n",
    "H = generateHamiltonian(tester);"
   ]
  },
  {
   "cell_type": "markdown",
   "metadata": {},
   "source": [
    "# Scanning Parameters"
   ]
  },
  {
   "cell_type": "code",
   "execution_count": 3,
   "metadata": {},
   "outputs": [],
   "source": [
    "#Scanning Electric Field at high R making basis smaller for faster calculations\n",
    "tester = generateMolecule(Na23Cs133, 3, 0)\n",
    "H_Escan = generateHamiltonian(tester)\n",
    "\n",
    "Escan = [2.365e5:1e2:2.37e5...]\n",
    "\n",
    "sols_E = scan(H_Escan, 1e10, Escan);"
   ]
  },
  {
   "cell_type": "code",
   "execution_count": null,
   "metadata": {},
   "outputs": [],
   "source": [
    "Eset = 2.65*1e5\n",
    "#stateOI = State( [0.0, 0.0, 1.0, 1.0.0, 1.0, 1], H);\n",
    "r_scan = [collect(100:40:500);collect(500:400:3000);collect(3000:1000:7000)].*a0\n",
    "sols_R = scan(H, r_scan, Eset);"
   ]
  },
  {
   "cell_type": "code",
   "execution_count": 4,
   "metadata": {},
   "outputs": [],
   "source": [
    "using JLD2\n",
    "a = load(\"mytuple.jld2\")\n",
    "r_scan, sols_R = a[\"single_stored_object\"];"
   ]
  },
  {
   "cell_type": "markdown",
   "metadata": {},
   "source": [
    "## Plotting Utils"
   ]
  },
  {
   "cell_type": "markdown",
   "metadata": {},
   "source": [
    "## Avoided Crossing from E-Field\n",
    "### Demonstrates how you concatante plots with different states just pass in p"
   ]
  },
  {
   "cell_type": "code",
   "execution_count": 5,
   "metadata": {},
   "outputs": [
    {
     "data": {
      "application/vnd.plotly.v1+json": {
       "config": {
        "editable": false,
        "responsive": true,
        "scrollZoom": true,
        "showLink": false,
        "staticPlot": false
       },
       "data": [
        {
         "name": "State 24",
         "text": [
          "0.294 | 1, 0, 1, 0, 0, 0 > + 0.164 | 0, 0, 1, 0, 0, 0 > + 0.164 | 1, 0, 0, 0, 0, 0 >",
          "0.294 | 1, 0, 1, 0, 0, 0 > + 0.164 | 1, 0, 0, 0, 0, 0 > + 0.164 | 0, 0, 1, 0, 0, 0 >",
          "0.311 | 0, 0, 2, 0, 0, 0 > + 0.235 | 2, 0, 0, 0, 0, 0 > + 0.108 | 1, 0, 2, 0, 0, 0 >",
          "0.438 | 2, 0, 0, 0, 0, 0 > + 0.17 | 2, 0, 1, 0, 0, 0 > + 0.102 | 0, 0, 2, 0, 0, 0 >",
          "0.519 | 2, 0, 0, 0, 0, 0 > + 0.222 | 2, 0, 1, 0, 0, 0 > + 0.102 | 1, 0, 0, 0, 0, 0 >",
          "0.274 | 0, 0, 2, 0, 0, 0 > + 0.271 | 2, 0, 0, 0, 0, 0 > + 0.094 | 1, 0, 1, 0, 0, 0 >"
         ],
         "type": "scatter",
         "x": [
          2.365,
          2.366,
          2.367,
          2.368,
          2.369,
          2.37
         ],
         "y": [
          0.41985072210869545,
          0.41988425275569924,
          0.4199125909198315,
          0.41986541094348706,
          0.4198182313556196,
          0.419771052162978
         ]
        },
        {
         "name": "State 26",
         "text": [
          "0.358 | 0, 0, 2, 0, 0, 0 > + 0.185 | 1, 0, 2, 0, 0, 0 > + 0.145 | 2, 0, 0, 0, 0, 0 >",
          "0.368 | 2, 0, 0, 0, 0, 0 > + 0.188 | 2, 0, 1, 0, 0, 0 > + 0.136 | 0, 0, 2, 0, 0, 0 >",
          "0.294 | 1, 0, 1, 0, 0, 0 > + 0.164 | 1, 0, 0, 0, 0, 0 > + 0.164 | 0, 0, 1, 0, 0, 0 >",
          "0.294 | 1, 0, 1, 0, 0, 0 > + 0.164 | 1, 0, 0, 0, 0, 0 > + 0.164 | 0, 0, 1, 0, 0, 0 >",
          "0.293 | 1, 0, 1, 0, 0, 0 > + 0.164 | 1, 0, 0, 0, 0, 0 > + 0.164 | 0, 0, 1, 0, 0, 0 >",
          "0.293 | 1, 0, 1, 0, 0, 0 > + 0.164 | 0, 0, 1, 0, 0, 0 > + 0.164 | 1, 0, 0, 0, 0, 0 >"
         ],
         "type": "scatter",
         "x": [
          2.365,
          2.366,
          2.367,
          2.368,
          2.369,
          2.37
         ],
         "y": [
          0.42000695201085214,
          0.41995977127787815,
          0.4199177594529691,
          0.4199512421897355,
          0.4199847009552434,
          0.42001813573876995
         ]
        }
       ],
       "frames": [],
       "layout": {
        "height": 400,
        "margin": {
         "b": 50,
         "l": 50,
         "r": 50,
         "t": 60
        },
        "plot_bgcolor": "white",
        "template": {
         "data": {
          "bar": [
           {
            "error_x": {
             "color": "#2a3f5f"
            },
            "error_y": {
             "color": "#2a3f5f"
            },
            "marker": {
             "line": {
              "color": "#E5ECF6",
              "width": 0.5
             }
            },
            "type": "bar"
           }
          ],
          "barpolar": [
           {
            "marker": {
             "line": {
              "color": "#E5ECF6",
              "width": 0.5
             }
            },
            "type": "barpolar"
           }
          ],
          "carpet": [
           {
            "aaxis": {
             "endlinecolor": "#2a3f5f",
             "gridcolor": "white",
             "linecolor": "white",
             "minorgridcolor": "white",
             "startlinecolor": "#2a3f5f"
            },
            "baxis": {
             "endlinecolor": "#2a3f5f",
             "gridcolor": "white",
             "linecolor": "white",
             "minorgridcolor": "white",
             "startlinecolor": "#2a3f5f"
            },
            "type": "carpet"
           }
          ],
          "choropleth": [
           {
            "colorbar": {
             "outlinewidth": 0,
             "ticks": ""
            },
            "type": "choropleth"
           }
          ],
          "contour": [
           {
            "colorbar": {
             "outlinewidth": 0,
             "ticks": ""
            },
            "colorscale": [
             [
              0,
              "#0d0887"
             ],
             [
              0.1111111111111111,
              "#46039f"
             ],
             [
              0.2222222222222222,
              "#7201a8"
             ],
             [
              0.3333333333333333,
              "#9c179e"
             ],
             [
              0.4444444444444444,
              "#bd3786"
             ],
             [
              0.5555555555555556,
              "#d8576b"
             ],
             [
              0.6666666666666666,
              "#ed7953"
             ],
             [
              0.7777777777777778,
              "#fb9f3a"
             ],
             [
              0.8888888888888888,
              "#fdca26"
             ],
             [
              1,
              "#f0f921"
             ]
            ],
            "type": "contour"
           }
          ],
          "contourcarpet": [
           {
            "colorbar": {
             "outlinewidth": 0,
             "ticks": ""
            },
            "type": "contourcarpet"
           }
          ],
          "heatmap": [
           {
            "colorbar": {
             "outlinewidth": 0,
             "ticks": ""
            },
            "colorscale": [
             [
              0,
              "#0d0887"
             ],
             [
              0.1111111111111111,
              "#46039f"
             ],
             [
              0.2222222222222222,
              "#7201a8"
             ],
             [
              0.3333333333333333,
              "#9c179e"
             ],
             [
              0.4444444444444444,
              "#bd3786"
             ],
             [
              0.5555555555555556,
              "#d8576b"
             ],
             [
              0.6666666666666666,
              "#ed7953"
             ],
             [
              0.7777777777777778,
              "#fb9f3a"
             ],
             [
              0.8888888888888888,
              "#fdca26"
             ],
             [
              1,
              "#f0f921"
             ]
            ],
            "type": "heatmap"
           }
          ],
          "heatmapgl": [
           {
            "colorbar": {
             "outlinewidth": 0,
             "ticks": ""
            },
            "colorscale": [
             [
              0,
              "#0d0887"
             ],
             [
              0.1111111111111111,
              "#46039f"
             ],
             [
              0.2222222222222222,
              "#7201a8"
             ],
             [
              0.3333333333333333,
              "#9c179e"
             ],
             [
              0.4444444444444444,
              "#bd3786"
             ],
             [
              0.5555555555555556,
              "#d8576b"
             ],
             [
              0.6666666666666666,
              "#ed7953"
             ],
             [
              0.7777777777777778,
              "#fb9f3a"
             ],
             [
              0.8888888888888888,
              "#fdca26"
             ],
             [
              1,
              "#f0f921"
             ]
            ],
            "type": "heatmapgl"
           }
          ],
          "histogram": [
           {
            "marker": {
             "colorbar": {
              "outlinewidth": 0,
              "ticks": ""
             }
            },
            "type": "histogram"
           }
          ],
          "histogram2d": [
           {
            "colorbar": {
             "outlinewidth": 0,
             "ticks": ""
            },
            "colorscale": [
             [
              0,
              "#0d0887"
             ],
             [
              0.1111111111111111,
              "#46039f"
             ],
             [
              0.2222222222222222,
              "#7201a8"
             ],
             [
              0.3333333333333333,
              "#9c179e"
             ],
             [
              0.4444444444444444,
              "#bd3786"
             ],
             [
              0.5555555555555556,
              "#d8576b"
             ],
             [
              0.6666666666666666,
              "#ed7953"
             ],
             [
              0.7777777777777778,
              "#fb9f3a"
             ],
             [
              0.8888888888888888,
              "#fdca26"
             ],
             [
              1,
              "#f0f921"
             ]
            ],
            "type": "histogram2d"
           }
          ],
          "histogram2dcontour": [
           {
            "colorbar": {
             "outlinewidth": 0,
             "ticks": ""
            },
            "colorscale": [
             [
              0,
              "#0d0887"
             ],
             [
              0.1111111111111111,
              "#46039f"
             ],
             [
              0.2222222222222222,
              "#7201a8"
             ],
             [
              0.3333333333333333,
              "#9c179e"
             ],
             [
              0.4444444444444444,
              "#bd3786"
             ],
             [
              0.5555555555555556,
              "#d8576b"
             ],
             [
              0.6666666666666666,
              "#ed7953"
             ],
             [
              0.7777777777777778,
              "#fb9f3a"
             ],
             [
              0.8888888888888888,
              "#fdca26"
             ],
             [
              1,
              "#f0f921"
             ]
            ],
            "type": "histogram2dcontour"
           }
          ],
          "mesh3d": [
           {
            "colorbar": {
             "outlinewidth": 0,
             "ticks": ""
            },
            "type": "mesh3d"
           }
          ],
          "parcoords": [
           {
            "line": {
             "colorbar": {
              "outlinewidth": 0,
              "ticks": ""
             }
            },
            "type": "parcoords"
           }
          ],
          "pie": [
           {
            "automargin": true,
            "type": "pie"
           }
          ],
          "scatter": [
           {
            "marker": {
             "colorbar": {
              "outlinewidth": 0,
              "ticks": ""
             }
            },
            "type": "scatter"
           }
          ],
          "scatter3d": [
           {
            "line": {
             "colorbar": {
              "outlinewidth": 0,
              "ticks": ""
             }
            },
            "marker": {
             "colorbar": {
              "outlinewidth": 0,
              "ticks": ""
             }
            },
            "type": "scatter3d"
           }
          ],
          "scattercarpet": [
           {
            "marker": {
             "colorbar": {
              "outlinewidth": 0,
              "ticks": ""
             }
            },
            "type": "scattercarpet"
           }
          ],
          "scattergeo": [
           {
            "marker": {
             "colorbar": {
              "outlinewidth": 0,
              "ticks": ""
             }
            },
            "type": "scattergeo"
           }
          ],
          "scattergl": [
           {
            "marker": {
             "colorbar": {
              "outlinewidth": 0,
              "ticks": ""
             }
            },
            "type": "scattergl"
           }
          ],
          "scattermapbox": [
           {
            "marker": {
             "colorbar": {
              "outlinewidth": 0,
              "ticks": ""
             }
            },
            "type": "scattermapbox"
           }
          ],
          "scatterpolar": [
           {
            "marker": {
             "colorbar": {
              "outlinewidth": 0,
              "ticks": ""
             }
            },
            "type": "scatterpolar"
           }
          ],
          "scatterpolargl": [
           {
            "marker": {
             "colorbar": {
              "outlinewidth": 0,
              "ticks": ""
             }
            },
            "type": "scatterpolargl"
           }
          ],
          "scatterternary": [
           {
            "marker": {
             "colorbar": {
              "outlinewidth": 0,
              "ticks": ""
             }
            },
            "type": "scatterternary"
           }
          ],
          "surface": [
           {
            "colorbar": {
             "outlinewidth": 0,
             "ticks": ""
            },
            "colorscale": [
             [
              0,
              "#0d0887"
             ],
             [
              0.1111111111111111,
              "#46039f"
             ],
             [
              0.2222222222222222,
              "#7201a8"
             ],
             [
              0.3333333333333333,
              "#9c179e"
             ],
             [
              0.4444444444444444,
              "#bd3786"
             ],
             [
              0.5555555555555556,
              "#d8576b"
             ],
             [
              0.6666666666666666,
              "#ed7953"
             ],
             [
              0.7777777777777778,
              "#fb9f3a"
             ],
             [
              0.8888888888888888,
              "#fdca26"
             ],
             [
              1,
              "#f0f921"
             ]
            ],
            "type": "surface"
           }
          ],
          "table": [
           {
            "cells": {
             "fill": {
              "color": "#EBF0F8"
             },
             "line": {
              "color": "white"
             }
            },
            "header": {
             "fill": {
              "color": "#C8D4E3"
             },
             "line": {
              "color": "white"
             }
            },
            "type": "table"
           }
          ]
         },
         "layout": {
          "annotationdefaults": {
           "arrowcolor": "#2a3f5f",
           "arrowhead": 0,
           "arrowwidth": 1
          },
          "autotypenumbers": "strict",
          "coloraxis": {
           "colorbar": {
            "outlinewidth": 0,
            "ticks": ""
           }
          },
          "colorscale": {
           "diverging": [
            [
             0,
             "#8e0152"
            ],
            [
             0.1,
             "#c51b7d"
            ],
            [
             0.2,
             "#de77ae"
            ],
            [
             0.3,
             "#f1b6da"
            ],
            [
             0.4,
             "#fde0ef"
            ],
            [
             0.5,
             "#f7f7f7"
            ],
            [
             0.6,
             "#e6f5d0"
            ],
            [
             0.7,
             "#b8e186"
            ],
            [
             0.8,
             "#7fbc41"
            ],
            [
             0.9,
             "#4d9221"
            ],
            [
             1,
             "#276419"
            ]
           ],
           "sequential": [
            [
             0,
             "#0d0887"
            ],
            [
             0.1111111111111111,
             "#46039f"
            ],
            [
             0.2222222222222222,
             "#7201a8"
            ],
            [
             0.3333333333333333,
             "#9c179e"
            ],
            [
             0.4444444444444444,
             "#bd3786"
            ],
            [
             0.5555555555555556,
             "#d8576b"
            ],
            [
             0.6666666666666666,
             "#ed7953"
            ],
            [
             0.7777777777777778,
             "#fb9f3a"
            ],
            [
             0.8888888888888888,
             "#fdca26"
            ],
            [
             1,
             "#f0f921"
            ]
           ],
           "sequentialminus": [
            [
             0,
             "#0d0887"
            ],
            [
             0.1111111111111111,
             "#46039f"
            ],
            [
             0.2222222222222222,
             "#7201a8"
            ],
            [
             0.3333333333333333,
             "#9c179e"
            ],
            [
             0.4444444444444444,
             "#bd3786"
            ],
            [
             0.5555555555555556,
             "#d8576b"
            ],
            [
             0.6666666666666666,
             "#ed7953"
            ],
            [
             0.7777777777777778,
             "#fb9f3a"
            ],
            [
             0.8888888888888888,
             "#fdca26"
            ],
            [
             1,
             "#f0f921"
            ]
           ]
          },
          "colorway": [
           "#636efa",
           "#EF553B",
           "#00cc96",
           "#ab63fa",
           "#FFA15A",
           "#19d3f3",
           "#FF6692",
           "#B6E880",
           "#FF97FF",
           "#FECB52"
          ],
          "font": {
           "color": "#2a3f5f"
          },
          "geo": {
           "bgcolor": "white",
           "lakecolor": "white",
           "landcolor": "#E5ECF6",
           "showlakes": true,
           "showland": true,
           "subunitcolor": "white"
          },
          "hoverlabel": {
           "align": "left"
          },
          "hovermode": "closest",
          "mapbox": {
           "style": "light"
          },
          "paper_bgcolor": "white",
          "plot_bgcolor": "#E5ECF6",
          "polar": {
           "angularaxis": {
            "gridcolor": "white",
            "linecolor": "white",
            "ticks": ""
           },
           "bgcolor": "#E5ECF6",
           "radialaxis": {
            "gridcolor": "white",
            "linecolor": "white",
            "ticks": ""
           }
          },
          "scene": {
           "xaxis": {
            "backgroundcolor": "#E5ECF6",
            "gridcolor": "white",
            "gridwidth": 2,
            "linecolor": "white",
            "showbackground": true,
            "ticks": "",
            "zerolinecolor": "white"
           },
           "yaxis": {
            "backgroundcolor": "#E5ECF6",
            "gridcolor": "white",
            "gridwidth": 2,
            "linecolor": "white",
            "showbackground": true,
            "ticks": "",
            "zerolinecolor": "white"
           },
           "zaxis": {
            "backgroundcolor": "#E5ECF6",
            "gridcolor": "white",
            "gridwidth": 2,
            "linecolor": "white",
            "showbackground": true,
            "ticks": "",
            "zerolinecolor": "white"
           }
          },
          "shapedefaults": {
           "line": {
            "color": "#2a3f5f"
           }
          },
          "ternary": {
           "aaxis": {
            "gridcolor": "white",
            "linecolor": "white",
            "ticks": ""
           },
           "baxis": {
            "gridcolor": "white",
            "linecolor": "white",
            "ticks": ""
           },
           "bgcolor": "#E5ECF6",
           "caxis": {
            "gridcolor": "white",
            "linecolor": "white",
            "ticks": ""
           }
          },
          "title": {
           "x": 0.05
          },
          "xaxis": {
           "automargin": true,
           "gridcolor": "white",
           "linecolor": "white",
           "ticks": "",
           "title": {
            "standoff": 15
           },
           "zerolinecolor": "white",
           "zerolinewidth": 2
          },
          "yaxis": {
           "automargin": true,
           "gridcolor": "white",
           "linecolor": "white",
           "ticks": "",
           "title": {
            "standoff": 15
           },
           "zerolinecolor": "white",
           "zerolinewidth": 2
          }
         }
        },
        "title": "Energy Spectrum",
        "width": 1000,
        "xaxis": {
         "gridcolor": "lightgrey",
         "linecolor": "black",
         "mirror": true,
         "showline": true,
         "ticks": "outside",
         "title": "E-Field (V/cm)"
        },
        "yaxis": {
         "gridcolor": "lightgrey",
         "linecolor": "black",
         "mirror": true,
         "showline": true,
         "ticks": "outside",
         "title": "Energy (K)"
        }
       }
      },
      "text/html": [
       "<div\n",
       "    class=\"webio-mountpoint\"\n",
       "    data-webio-mountpoint=\"8840486613589439466\"\n",
       ">\n",
       "    <script>\n",
       "    (function(){\n",
       "    // Some integrations (namely, IJulia/Jupyter) use an alternate render pathway than\n",
       "    // just putting the html on the page. If WebIO isn't defined, then it's pretty likely\n",
       "    // that we're in one of those situations and the integration just isn't installed\n",
       "    // correctly.\n",
       "    if (typeof window.WebIO === \"undefined\") {\n",
       "        document\n",
       "            .querySelector('[data-webio-mountpoint=\"8840486613589439466\"]')\n",
       "            .innerHTML = (\n",
       "                '<div style=\"padding: 1em; background-color: #f8d6da; border: 1px solid #f5c6cb; font-weight: bold;\">' +\n",
       "                '<p><strong>WebIO not detected.</strong></p>' +\n",
       "                '<p>Please read ' +\n",
       "                '<a href=\"https://juliagizmos.github.io/WebIO.jl/latest/troubleshooting/not-detected/\" target=\"_blank\">the troubleshooting guide</a> ' +\n",
       "                'for more information on how to resolve this issue.</p>' +\n",
       "                '<p><a href=\"https://juliagizmos.github.io/WebIO.jl/latest/troubleshooting/not-detected/\" target=\"_blank\">https://juliagizmos.github.io/WebIO.jl/latest/troubleshooting/not-detected/</a></p>' +\n",
       "                '</div>'\n",
       "            );\n",
       "        return;\n",
       "    }\n",
       "    WebIO.mount(\n",
       "        document.querySelector('[data-webio-mountpoint=\"8840486613589439466\"]'),\n",
       "        {\"props\":{},\"nodeType\":\"Scope\",\"type\":\"node\",\"instanceArgs\":{\"imports\":{\"data\":[{\"name\":\"Plotly\",\"type\":\"js\",\"url\":\"\\/assetserver\\/b039e8b2816b3419c8cf3a0d65d34e1c494930ad-plotly.min.js\"},{\"name\":null,\"type\":\"js\",\"url\":\"\\/assetserver\\/cca053ecfc4e8e565aa8ba96281f9266c41c681a-plotly_webio.bundle.js\"}],\"type\":\"async_block\"},\"id\":\"11345808255241461190\",\"handlers\":{\"_toImage\":[\"(function (options){return this.Plotly.toImage(this.plotElem,options).then((function (data){return WebIO.setval({\\\"name\\\":\\\"image\\\",\\\"scope\\\":\\\"11345808255241461190\\\",\\\"id\\\":\\\"4610981554064140088\\\",\\\"type\\\":\\\"observable\\\"},data)}))})\"],\"__get_gd_contents\":[\"(function (prop){prop==\\\"data\\\" ? (WebIO.setval({\\\"name\\\":\\\"__gd_contents\\\",\\\"scope\\\":\\\"11345808255241461190\\\",\\\"id\\\":\\\"10285756213792661284\\\",\\\"type\\\":\\\"observable\\\"},this.plotElem.data)) : undefined; return prop==\\\"layout\\\" ? (WebIO.setval({\\\"name\\\":\\\"__gd_contents\\\",\\\"scope\\\":\\\"11345808255241461190\\\",\\\"id\\\":\\\"10285756213792661284\\\",\\\"type\\\":\\\"observable\\\"},this.plotElem.layout)) : undefined})\"],\"_downloadImage\":[\"(function (options){return this.Plotly.downloadImage(this.plotElem,options)})\"],\"_commands\":[\"(function (args){var fn=args.shift(); var elem=this.plotElem; var Plotly=this.Plotly; args.unshift(elem); return Plotly[fn].apply(this,args)})\"]},\"systemjs_options\":null,\"mount_callbacks\":[\"function () {\\n    var handler = ((function (Plotly,PlotlyWebIO){PlotlyWebIO.init(WebIO); var gd=this.dom.querySelector(\\\"#plot-64f59ea2-a680-48f5-986e-ed683293ac90\\\"); this.plotElem=gd; this.Plotly=Plotly; (window.Blink!==undefined) ? (gd.style.width=\\\"100%\\\", gd.style.height=\\\"100vh\\\", gd.style.marginLeft=\\\"0%\\\", gd.style.marginTop=\\\"0vh\\\") : undefined; window.onresize=(function (){return Plotly.Plots.resize(gd)}); Plotly.newPlot(gd,[],{\\\"template\\\":{\\\"layout\\\":{\\\"coloraxis\\\":{\\\"colorbar\\\":{\\\"ticks\\\":\\\"\\\",\\\"outlinewidth\\\":0}},\\\"xaxis\\\":{\\\"gridcolor\\\":\\\"white\\\",\\\"zerolinewidth\\\":2,\\\"title\\\":{\\\"standoff\\\":15},\\\"ticks\\\":\\\"\\\",\\\"zerolinecolor\\\":\\\"white\\\",\\\"automargin\\\":true,\\\"linecolor\\\":\\\"white\\\"},\\\"hovermode\\\":\\\"closest\\\",\\\"paper_bgcolor\\\":\\\"white\\\",\\\"geo\\\":{\\\"showlakes\\\":true,\\\"showland\\\":true,\\\"landcolor\\\":\\\"#E5ECF6\\\",\\\"bgcolor\\\":\\\"white\\\",\\\"subunitcolor\\\":\\\"white\\\",\\\"lakecolor\\\":\\\"white\\\"},\\\"colorscale\\\":{\\\"sequential\\\":[[0.0,\\\"#0d0887\\\"],[0.1111111111111111,\\\"#46039f\\\"],[0.2222222222222222,\\\"#7201a8\\\"],[0.3333333333333333,\\\"#9c179e\\\"],[0.4444444444444444,\\\"#bd3786\\\"],[0.5555555555555556,\\\"#d8576b\\\"],[0.6666666666666666,\\\"#ed7953\\\"],[0.7777777777777778,\\\"#fb9f3a\\\"],[0.8888888888888888,\\\"#fdca26\\\"],[1.0,\\\"#f0f921\\\"]],\\\"diverging\\\":[[0,\\\"#8e0152\\\"],[0.1,\\\"#c51b7d\\\"],[0.2,\\\"#de77ae\\\"],[0.3,\\\"#f1b6da\\\"],[0.4,\\\"#fde0ef\\\"],[0.5,\\\"#f7f7f7\\\"],[0.6,\\\"#e6f5d0\\\"],[0.7,\\\"#b8e186\\\"],[0.8,\\\"#7fbc41\\\"],[0.9,\\\"#4d9221\\\"],[1,\\\"#276419\\\"]],\\\"sequentialminus\\\":[[0.0,\\\"#0d0887\\\"],[0.1111111111111111,\\\"#46039f\\\"],[0.2222222222222222,\\\"#7201a8\\\"],[0.3333333333333333,\\\"#9c179e\\\"],[0.4444444444444444,\\\"#bd3786\\\"],[0.5555555555555556,\\\"#d8576b\\\"],[0.6666666666666666,\\\"#ed7953\\\"],[0.7777777777777778,\\\"#fb9f3a\\\"],[0.8888888888888888,\\\"#fdca26\\\"],[1.0,\\\"#f0f921\\\"]]},\\\"yaxis\\\":{\\\"gridcolor\\\":\\\"white\\\",\\\"zerolinewidth\\\":2,\\\"title\\\":{\\\"standoff\\\":15},\\\"ticks\\\":\\\"\\\",\\\"zerolinecolor\\\":\\\"white\\\",\\\"automargin\\\":true,\\\"linecolor\\\":\\\"white\\\"},\\\"shapedefaults\\\":{\\\"line\\\":{\\\"color\\\":\\\"#2a3f5f\\\"}},\\\"hoverlabel\\\":{\\\"align\\\":\\\"left\\\"},\\\"mapbox\\\":{\\\"style\\\":\\\"light\\\"},\\\"polar\\\":{\\\"angularaxis\\\":{\\\"gridcolor\\\":\\\"white\\\",\\\"ticks\\\":\\\"\\\",\\\"linecolor\\\":\\\"white\\\"},\\\"bgcolor\\\":\\\"#E5ECF6\\\",\\\"radialaxis\\\":{\\\"gridcolor\\\":\\\"white\\\",\\\"ticks\\\":\\\"\\\",\\\"linecolor\\\":\\\"white\\\"}},\\\"autotypenumbers\\\":\\\"strict\\\",\\\"font\\\":{\\\"color\\\":\\\"#2a3f5f\\\"},\\\"ternary\\\":{\\\"baxis\\\":{\\\"gridcolor\\\":\\\"white\\\",\\\"ticks\\\":\\\"\\\",\\\"linecolor\\\":\\\"white\\\"},\\\"bgcolor\\\":\\\"#E5ECF6\\\",\\\"caxis\\\":{\\\"gridcolor\\\":\\\"white\\\",\\\"ticks\\\":\\\"\\\",\\\"linecolor\\\":\\\"white\\\"},\\\"aaxis\\\":{\\\"gridcolor\\\":\\\"white\\\",\\\"ticks\\\":\\\"\\\",\\\"linecolor\\\":\\\"white\\\"}},\\\"annotationdefaults\\\":{\\\"arrowhead\\\":0,\\\"arrowwidth\\\":1,\\\"arrowcolor\\\":\\\"#2a3f5f\\\"},\\\"plot_bgcolor\\\":\\\"#E5ECF6\\\",\\\"title\\\":{\\\"x\\\":0.05},\\\"scene\\\":{\\\"xaxis\\\":{\\\"gridcolor\\\":\\\"white\\\",\\\"gridwidth\\\":2,\\\"backgroundcolor\\\":\\\"#E5ECF6\\\",\\\"ticks\\\":\\\"\\\",\\\"showbackground\\\":true,\\\"zerolinecolor\\\":\\\"white\\\",\\\"linecolor\\\":\\\"white\\\"},\\\"zaxis\\\":{\\\"gridcolor\\\":\\\"white\\\",\\\"gridwidth\\\":2,\\\"backgroundcolor\\\":\\\"#E5ECF6\\\",\\\"ticks\\\":\\\"\\\",\\\"showbackground\\\":true,\\\"zerolinecolor\\\":\\\"white\\\",\\\"linecolor\\\":\\\"white\\\"},\\\"yaxis\\\":{\\\"gridcolor\\\":\\\"white\\\",\\\"gridwidth\\\":2,\\\"backgroundcolor\\\":\\\"#E5ECF6\\\",\\\"ticks\\\":\\\"\\\",\\\"showbackground\\\":true,\\\"zerolinecolor\\\":\\\"white\\\",\\\"linecolor\\\":\\\"white\\\"}},\\\"colorway\\\":[\\\"#636efa\\\",\\\"#EF553B\\\",\\\"#00cc96\\\",\\\"#ab63fa\\\",\\\"#FFA15A\\\",\\\"#19d3f3\\\",\\\"#FF6692\\\",\\\"#B6E880\\\",\\\"#FF97FF\\\",\\\"#FECB52\\\"]},\\\"data\\\":{\\\"barpolar\\\":[{\\\"type\\\":\\\"barpolar\\\",\\\"marker\\\":{\\\"line\\\":{\\\"color\\\":\\\"#E5ECF6\\\",\\\"width\\\":0.5}}}],\\\"carpet\\\":[{\\\"aaxis\\\":{\\\"gridcolor\\\":\\\"white\\\",\\\"endlinecolor\\\":\\\"#2a3f5f\\\",\\\"minorgridcolor\\\":\\\"white\\\",\\\"startlinecolor\\\":\\\"#2a3f5f\\\",\\\"linecolor\\\":\\\"white\\\"},\\\"type\\\":\\\"carpet\\\",\\\"baxis\\\":{\\\"gridcolor\\\":\\\"white\\\",\\\"endlinecolor\\\":\\\"#2a3f5f\\\",\\\"minorgridcolor\\\":\\\"white\\\",\\\"startlinecolor\\\":\\\"#2a3f5f\\\",\\\"linecolor\\\":\\\"white\\\"}}],\\\"scatterpolar\\\":[{\\\"type\\\":\\\"scatterpolar\\\",\\\"marker\\\":{\\\"colorbar\\\":{\\\"ticks\\\":\\\"\\\",\\\"outlinewidth\\\":0}}}],\\\"parcoords\\\":[{\\\"line\\\":{\\\"colorbar\\\":{\\\"ticks\\\":\\\"\\\",\\\"outlinewidth\\\":0}},\\\"type\\\":\\\"parcoords\\\"}],\\\"scatter\\\":[{\\\"type\\\":\\\"scatter\\\",\\\"marker\\\":{\\\"colorbar\\\":{\\\"ticks\\\":\\\"\\\",\\\"outlinewidth\\\":0}}}],\\\"histogram2dcontour\\\":[{\\\"colorbar\\\":{\\\"ticks\\\":\\\"\\\",\\\"outlinewidth\\\":0},\\\"type\\\":\\\"histogram2dcontour\\\",\\\"colorscale\\\":[[0.0,\\\"#0d0887\\\"],[0.1111111111111111,\\\"#46039f\\\"],[0.2222222222222222,\\\"#7201a8\\\"],[0.3333333333333333,\\\"#9c179e\\\"],[0.4444444444444444,\\\"#bd3786\\\"],[0.5555555555555556,\\\"#d8576b\\\"],[0.6666666666666666,\\\"#ed7953\\\"],[0.7777777777777778,\\\"#fb9f3a\\\"],[0.8888888888888888,\\\"#fdca26\\\"],[1.0,\\\"#f0f921\\\"]]}],\\\"contour\\\":[{\\\"colorbar\\\":{\\\"ticks\\\":\\\"\\\",\\\"outlinewidth\\\":0},\\\"type\\\":\\\"contour\\\",\\\"colorscale\\\":[[0.0,\\\"#0d0887\\\"],[0.1111111111111111,\\\"#46039f\\\"],[0.2222222222222222,\\\"#7201a8\\\"],[0.3333333333333333,\\\"#9c179e\\\"],[0.4444444444444444,\\\"#bd3786\\\"],[0.5555555555555556,\\\"#d8576b\\\"],[0.6666666666666666,\\\"#ed7953\\\"],[0.7777777777777778,\\\"#fb9f3a\\\"],[0.8888888888888888,\\\"#fdca26\\\"],[1.0,\\\"#f0f921\\\"]]}],\\\"scattercarpet\\\":[{\\\"type\\\":\\\"scattercarpet\\\",\\\"marker\\\":{\\\"colorbar\\\":{\\\"ticks\\\":\\\"\\\",\\\"outlinewidth\\\":0}}}],\\\"mesh3d\\\":[{\\\"colorbar\\\":{\\\"ticks\\\":\\\"\\\",\\\"outlinewidth\\\":0},\\\"type\\\":\\\"mesh3d\\\"}],\\\"surface\\\":[{\\\"colorbar\\\":{\\\"ticks\\\":\\\"\\\",\\\"outlinewidth\\\":0},\\\"type\\\":\\\"surface\\\",\\\"colorscale\\\":[[0.0,\\\"#0d0887\\\"],[0.1111111111111111,\\\"#46039f\\\"],[0.2222222222222222,\\\"#7201a8\\\"],[0.3333333333333333,\\\"#9c179e\\\"],[0.4444444444444444,\\\"#bd3786\\\"],[0.5555555555555556,\\\"#d8576b\\\"],[0.6666666666666666,\\\"#ed7953\\\"],[0.7777777777777778,\\\"#fb9f3a\\\"],[0.8888888888888888,\\\"#fdca26\\\"],[1.0,\\\"#f0f921\\\"]]}],\\\"scattermapbox\\\":[{\\\"type\\\":\\\"scattermapbox\\\",\\\"marker\\\":{\\\"colorbar\\\":{\\\"ticks\\\":\\\"\\\",\\\"outlinewidth\\\":0}}}],\\\"scattergeo\\\":[{\\\"type\\\":\\\"scattergeo\\\",\\\"marker\\\":{\\\"colorbar\\\":{\\\"ticks\\\":\\\"\\\",\\\"outlinewidth\\\":0}}}],\\\"histogram\\\":[{\\\"type\\\":\\\"histogram\\\",\\\"marker\\\":{\\\"colorbar\\\":{\\\"ticks\\\":\\\"\\\",\\\"outlinewidth\\\":0}}}],\\\"pie\\\":[{\\\"type\\\":\\\"pie\\\",\\\"automargin\\\":true}],\\\"choropleth\\\":[{\\\"colorbar\\\":{\\\"ticks\\\":\\\"\\\",\\\"outlinewidth\\\":0},\\\"type\\\":\\\"choropleth\\\"}],\\\"heatmapgl\\\":[{\\\"colorbar\\\":{\\\"ticks\\\":\\\"\\\",\\\"outlinewidth\\\":0},\\\"type\\\":\\\"heatmapgl\\\",\\\"colorscale\\\":[[0.0,\\\"#0d0887\\\"],[0.1111111111111111,\\\"#46039f\\\"],[0.2222222222222222,\\\"#7201a8\\\"],[0.3333333333333333,\\\"#9c179e\\\"],[0.4444444444444444,\\\"#bd3786\\\"],[0.5555555555555556,\\\"#d8576b\\\"],[0.6666666666666666,\\\"#ed7953\\\"],[0.7777777777777778,\\\"#fb9f3a\\\"],[0.8888888888888888,\\\"#fdca26\\\"],[1.0,\\\"#f0f921\\\"]]}],\\\"bar\\\":[{\\\"type\\\":\\\"bar\\\",\\\"error_y\\\":{\\\"color\\\":\\\"#2a3f5f\\\"},\\\"error_x\\\":{\\\"color\\\":\\\"#2a3f5f\\\"},\\\"marker\\\":{\\\"line\\\":{\\\"color\\\":\\\"#E5ECF6\\\",\\\"width\\\":0.5}}}],\\\"heatmap\\\":[{\\\"colorbar\\\":{\\\"ticks\\\":\\\"\\\",\\\"outlinewidth\\\":0},\\\"type\\\":\\\"heatmap\\\",\\\"colorscale\\\":[[0.0,\\\"#0d0887\\\"],[0.1111111111111111,\\\"#46039f\\\"],[0.2222222222222222,\\\"#7201a8\\\"],[0.3333333333333333,\\\"#9c179e\\\"],[0.4444444444444444,\\\"#bd3786\\\"],[0.5555555555555556,\\\"#d8576b\\\"],[0.6666666666666666,\\\"#ed7953\\\"],[0.7777777777777778,\\\"#fb9f3a\\\"],[0.8888888888888888,\\\"#fdca26\\\"],[1.0,\\\"#f0f921\\\"]]}],\\\"contourcarpet\\\":[{\\\"colorbar\\\":{\\\"ticks\\\":\\\"\\\",\\\"outlinewidth\\\":0},\\\"type\\\":\\\"contourcarpet\\\"}],\\\"table\\\":[{\\\"type\\\":\\\"table\\\",\\\"header\\\":{\\\"line\\\":{\\\"color\\\":\\\"white\\\"},\\\"fill\\\":{\\\"color\\\":\\\"#C8D4E3\\\"}},\\\"cells\\\":{\\\"line\\\":{\\\"color\\\":\\\"white\\\"},\\\"fill\\\":{\\\"color\\\":\\\"#EBF0F8\\\"}}}],\\\"scatter3d\\\":[{\\\"line\\\":{\\\"colorbar\\\":{\\\"ticks\\\":\\\"\\\",\\\"outlinewidth\\\":0}},\\\"type\\\":\\\"scatter3d\\\",\\\"marker\\\":{\\\"colorbar\\\":{\\\"ticks\\\":\\\"\\\",\\\"outlinewidth\\\":0}}}],\\\"scattergl\\\":[{\\\"type\\\":\\\"scattergl\\\",\\\"marker\\\":{\\\"colorbar\\\":{\\\"ticks\\\":\\\"\\\",\\\"outlinewidth\\\":0}}}],\\\"histogram2d\\\":[{\\\"colorbar\\\":{\\\"ticks\\\":\\\"\\\",\\\"outlinewidth\\\":0},\\\"type\\\":\\\"histogram2d\\\",\\\"colorscale\\\":[[0.0,\\\"#0d0887\\\"],[0.1111111111111111,\\\"#46039f\\\"],[0.2222222222222222,\\\"#7201a8\\\"],[0.3333333333333333,\\\"#9c179e\\\"],[0.4444444444444444,\\\"#bd3786\\\"],[0.5555555555555556,\\\"#d8576b\\\"],[0.6666666666666666,\\\"#ed7953\\\"],[0.7777777777777778,\\\"#fb9f3a\\\"],[0.8888888888888888,\\\"#fdca26\\\"],[1.0,\\\"#f0f921\\\"]]}],\\\"scatterternary\\\":[{\\\"type\\\":\\\"scatterternary\\\",\\\"marker\\\":{\\\"colorbar\\\":{\\\"ticks\\\":\\\"\\\",\\\"outlinewidth\\\":0}}}],\\\"scatterpolargl\\\":[{\\\"type\\\":\\\"scatterpolargl\\\",\\\"marker\\\":{\\\"colorbar\\\":{\\\"ticks\\\":\\\"\\\",\\\"outlinewidth\\\":0}}}]}},\\\"margin\\\":{\\\"l\\\":50,\\\"b\\\":50,\\\"r\\\":50,\\\"t\\\":60}},{\\\"showLink\\\":false,\\\"editable\\\":false,\\\"responsive\\\":true,\\\"staticPlot\\\":false,\\\"scrollZoom\\\":true}); gd.on(\\\"plotly_hover\\\",(function (data){var filtered_data=WebIO.PlotlyCommands.filterEventData(gd,data,\\\"hover\\\"); return !(filtered_data.isnil) ? (WebIO.setval({\\\"name\\\":\\\"hover\\\",\\\"scope\\\":\\\"11345808255241461190\\\",\\\"id\\\":\\\"12140446927713694737\\\",\\\"type\\\":\\\"observable\\\"},filtered_data.out)) : undefined})); gd.on(\\\"plotly_unhover\\\",(function (){return WebIO.setval({\\\"name\\\":\\\"hover\\\",\\\"scope\\\":\\\"11345808255241461190\\\",\\\"id\\\":\\\"12140446927713694737\\\",\\\"type\\\":\\\"observable\\\"},{})})); gd.on(\\\"plotly_selected\\\",(function (data){var filtered_data=WebIO.PlotlyCommands.filterEventData(gd,data,\\\"selected\\\"); return !(filtered_data.isnil) ? (WebIO.setval({\\\"name\\\":\\\"selected\\\",\\\"scope\\\":\\\"11345808255241461190\\\",\\\"id\\\":\\\"3393791251342332649\\\",\\\"type\\\":\\\"observable\\\"},filtered_data.out)) : undefined})); gd.on(\\\"plotly_deselect\\\",(function (){return WebIO.setval({\\\"name\\\":\\\"selected\\\",\\\"scope\\\":\\\"11345808255241461190\\\",\\\"id\\\":\\\"3393791251342332649\\\",\\\"type\\\":\\\"observable\\\"},{})})); gd.on(\\\"plotly_relayout\\\",(function (data){var filtered_data=WebIO.PlotlyCommands.filterEventData(gd,data,\\\"relayout\\\"); return !(filtered_data.isnil) ? (WebIO.setval({\\\"name\\\":\\\"relayout\\\",\\\"scope\\\":\\\"11345808255241461190\\\",\\\"id\\\":\\\"12275676021790611075\\\",\\\"type\\\":\\\"observable\\\"},filtered_data.out)) : undefined})); return gd.on(\\\"plotly_click\\\",(function (data){var filtered_data=WebIO.PlotlyCommands.filterEventData(gd,data,\\\"click\\\"); return !(filtered_data.isnil) ? (WebIO.setval({\\\"name\\\":\\\"click\\\",\\\"scope\\\":\\\"11345808255241461190\\\",\\\"id\\\":\\\"16493370714148875650\\\",\\\"type\\\":\\\"observable\\\"},filtered_data.out)) : undefined}))}));\\n    (WebIO.importBlock({\\\"data\\\":[{\\\"name\\\":\\\"Plotly\\\",\\\"type\\\":\\\"js\\\",\\\"url\\\":\\\"\\/assetserver\\/b039e8b2816b3419c8cf3a0d65d34e1c494930ad-plotly.min.js\\\"},{\\\"name\\\":null,\\\"type\\\":\\\"js\\\",\\\"url\\\":\\\"\\/assetserver\\/cca053ecfc4e8e565aa8ba96281f9266c41c681a-plotly_webio.bundle.js\\\"}],\\\"type\\\":\\\"async_block\\\"})).then((imports) => handler.apply(this, imports));\\n}\\n\"],\"observables\":{\"_toImage\":{\"sync\":false,\"id\":\"13750572022466601169\",\"value\":{}},\"hover\":{\"sync\":false,\"id\":\"12140446927713694737\",\"value\":{}},\"selected\":{\"sync\":false,\"id\":\"3393791251342332649\",\"value\":{}},\"__gd_contents\":{\"sync\":false,\"id\":\"10285756213792661284\",\"value\":{}},\"click\":{\"sync\":false,\"id\":\"16493370714148875650\",\"value\":{}},\"image\":{\"sync\":true,\"id\":\"4610981554064140088\",\"value\":\"\"},\"__get_gd_contents\":{\"sync\":false,\"id\":\"14465470899030705824\",\"value\":\"\"},\"_downloadImage\":{\"sync\":false,\"id\":\"17897881544513463235\",\"value\":{}},\"relayout\":{\"sync\":false,\"id\":\"12275676021790611075\",\"value\":{}},\"_commands\":{\"sync\":false,\"id\":\"4922538700904393194\",\"value\":[\"update\",{},{\"xaxis\":{\"showline\":true,\"gridcolor\":\"lightgrey\",\"ticks\":\"outside\",\"title\":\"E-Field (V\\/cm)\",\"mirror\":true,\"linecolor\":\"black\"},\"template\":{\"data\":{\"scatterpolargl\":[{\"type\":\"scatterpolargl\",\"marker\":{\"colorbar\":{\"ticks\":\"\",\"outlinewidth\":0}}}],\"carpet\":[{\"baxis\":{\"gridcolor\":\"white\",\"endlinecolor\":\"#2a3f5f\",\"minorgridcolor\":\"white\",\"startlinecolor\":\"#2a3f5f\",\"linecolor\":\"white\"},\"type\":\"carpet\",\"aaxis\":{\"gridcolor\":\"white\",\"endlinecolor\":\"#2a3f5f\",\"minorgridcolor\":\"white\",\"startlinecolor\":\"#2a3f5f\",\"linecolor\":\"white\"}}],\"scatterpolar\":[{\"type\":\"scatterpolar\",\"marker\":{\"colorbar\":{\"ticks\":\"\",\"outlinewidth\":0}}}],\"parcoords\":[{\"line\":{\"colorbar\":{\"ticks\":\"\",\"outlinewidth\":0}},\"type\":\"parcoords\"}],\"scatter\":[{\"type\":\"scatter\",\"marker\":{\"colorbar\":{\"ticks\":\"\",\"outlinewidth\":0}}}],\"histogram2dcontour\":[{\"colorbar\":{\"ticks\":\"\",\"outlinewidth\":0},\"type\":\"histogram2dcontour\",\"colorscale\":[[0.0,\"#0d0887\"],[0.1111111111111111,\"#46039f\"],[0.2222222222222222,\"#7201a8\"],[0.3333333333333333,\"#9c179e\"],[0.4444444444444444,\"#bd3786\"],[0.5555555555555556,\"#d8576b\"],[0.6666666666666666,\"#ed7953\"],[0.7777777777777778,\"#fb9f3a\"],[0.8888888888888888,\"#fdca26\"],[1.0,\"#f0f921\"]]}],\"contour\":[{\"colorbar\":{\"ticks\":\"\",\"outlinewidth\":0},\"type\":\"contour\",\"colorscale\":[[0.0,\"#0d0887\"],[0.1111111111111111,\"#46039f\"],[0.2222222222222222,\"#7201a8\"],[0.3333333333333333,\"#9c179e\"],[0.4444444444444444,\"#bd3786\"],[0.5555555555555556,\"#d8576b\"],[0.6666666666666666,\"#ed7953\"],[0.7777777777777778,\"#fb9f3a\"],[0.8888888888888888,\"#fdca26\"],[1.0,\"#f0f921\"]]}],\"scattercarpet\":[{\"type\":\"scattercarpet\",\"marker\":{\"colorbar\":{\"ticks\":\"\",\"outlinewidth\":0}}}],\"mesh3d\":[{\"colorbar\":{\"ticks\":\"\",\"outlinewidth\":0},\"type\":\"mesh3d\"}],\"surface\":[{\"colorbar\":{\"ticks\":\"\",\"outlinewidth\":0},\"type\":\"surface\",\"colorscale\":[[0.0,\"#0d0887\"],[0.1111111111111111,\"#46039f\"],[0.2222222222222222,\"#7201a8\"],[0.3333333333333333,\"#9c179e\"],[0.4444444444444444,\"#bd3786\"],[0.5555555555555556,\"#d8576b\"],[0.6666666666666666,\"#ed7953\"],[0.7777777777777778,\"#fb9f3a\"],[0.8888888888888888,\"#fdca26\"],[1.0,\"#f0f921\"]]}],\"scattermapbox\":[{\"type\":\"scattermapbox\",\"marker\":{\"colorbar\":{\"ticks\":\"\",\"outlinewidth\":0}}}],\"scattergeo\":[{\"type\":\"scattergeo\",\"marker\":{\"colorbar\":{\"ticks\":\"\",\"outlinewidth\":0}}}],\"histogram\":[{\"type\":\"histogram\",\"marker\":{\"colorbar\":{\"ticks\":\"\",\"outlinewidth\":0}}}],\"pie\":[{\"type\":\"pie\",\"automargin\":true}],\"choropleth\":[{\"colorbar\":{\"ticks\":\"\",\"outlinewidth\":0},\"type\":\"choropleth\"}],\"heatmapgl\":[{\"colorbar\":{\"ticks\":\"\",\"outlinewidth\":0},\"type\":\"heatmapgl\",\"colorscale\":[[0.0,\"#0d0887\"],[0.1111111111111111,\"#46039f\"],[0.2222222222222222,\"#7201a8\"],[0.3333333333333333,\"#9c179e\"],[0.4444444444444444,\"#bd3786\"],[0.5555555555555556,\"#d8576b\"],[0.6666666666666666,\"#ed7953\"],[0.7777777777777778,\"#fb9f3a\"],[0.8888888888888888,\"#fdca26\"],[1.0,\"#f0f921\"]]}],\"bar\":[{\"type\":\"bar\",\"error_y\":{\"color\":\"#2a3f5f\"},\"error_x\":{\"color\":\"#2a3f5f\"},\"marker\":{\"line\":{\"color\":\"#E5ECF6\",\"width\":0.5}}}],\"heatmap\":[{\"colorbar\":{\"ticks\":\"\",\"outlinewidth\":0},\"type\":\"heatmap\",\"colorscale\":[[0.0,\"#0d0887\"],[0.1111111111111111,\"#46039f\"],[0.2222222222222222,\"#7201a8\"],[0.3333333333333333,\"#9c179e\"],[0.4444444444444444,\"#bd3786\"],[0.5555555555555556,\"#d8576b\"],[0.6666666666666666,\"#ed7953\"],[0.7777777777777778,\"#fb9f3a\"],[0.8888888888888888,\"#fdca26\"],[1.0,\"#f0f921\"]]}],\"contourcarpet\":[{\"colorbar\":{\"ticks\":\"\",\"outlinewidth\":0},\"type\":\"contourcarpet\"}],\"table\":[{\"type\":\"table\",\"header\":{\"line\":{\"color\":\"white\"},\"fill\":{\"color\":\"#C8D4E3\"}},\"cells\":{\"line\":{\"color\":\"white\"},\"fill\":{\"color\":\"#EBF0F8\"}}}],\"scatter3d\":[{\"line\":{\"colorbar\":{\"ticks\":\"\",\"outlinewidth\":0}},\"type\":\"scatter3d\",\"marker\":{\"colorbar\":{\"ticks\":\"\",\"outlinewidth\":0}}}],\"scattergl\":[{\"type\":\"scattergl\",\"marker\":{\"colorbar\":{\"ticks\":\"\",\"outlinewidth\":0}}}],\"histogram2d\":[{\"colorbar\":{\"ticks\":\"\",\"outlinewidth\":0},\"type\":\"histogram2d\",\"colorscale\":[[0.0,\"#0d0887\"],[0.1111111111111111,\"#46039f\"],[0.2222222222222222,\"#7201a8\"],[0.3333333333333333,\"#9c179e\"],[0.4444444444444444,\"#bd3786\"],[0.5555555555555556,\"#d8576b\"],[0.6666666666666666,\"#ed7953\"],[0.7777777777777778,\"#fb9f3a\"],[0.8888888888888888,\"#fdca26\"],[1.0,\"#f0f921\"]]}],\"scatterternary\":[{\"type\":\"scatterternary\",\"marker\":{\"colorbar\":{\"ticks\":\"\",\"outlinewidth\":0}}}],\"barpolar\":[{\"type\":\"barpolar\",\"marker\":{\"line\":{\"color\":\"#E5ECF6\",\"width\":0.5}}}]},\"layout\":{\"xaxis\":{\"gridcolor\":\"white\",\"zerolinewidth\":2,\"title\":{\"standoff\":15},\"ticks\":\"\",\"zerolinecolor\":\"white\",\"automargin\":true,\"linecolor\":\"white\"},\"hovermode\":\"closest\",\"paper_bgcolor\":\"white\",\"geo\":{\"showlakes\":true,\"showland\":true,\"landcolor\":\"#E5ECF6\",\"bgcolor\":\"white\",\"subunitcolor\":\"white\",\"lakecolor\":\"white\"},\"colorscale\":{\"sequential\":[[0.0,\"#0d0887\"],[0.1111111111111111,\"#46039f\"],[0.2222222222222222,\"#7201a8\"],[0.3333333333333333,\"#9c179e\"],[0.4444444444444444,\"#bd3786\"],[0.5555555555555556,\"#d8576b\"],[0.6666666666666666,\"#ed7953\"],[0.7777777777777778,\"#fb9f3a\"],[0.8888888888888888,\"#fdca26\"],[1.0,\"#f0f921\"]],\"diverging\":[[0,\"#8e0152\"],[0.1,\"#c51b7d\"],[0.2,\"#de77ae\"],[0.3,\"#f1b6da\"],[0.4,\"#fde0ef\"],[0.5,\"#f7f7f7\"],[0.6,\"#e6f5d0\"],[0.7,\"#b8e186\"],[0.8,\"#7fbc41\"],[0.9,\"#4d9221\"],[1,\"#276419\"]],\"sequentialminus\":[[0.0,\"#0d0887\"],[0.1111111111111111,\"#46039f\"],[0.2222222222222222,\"#7201a8\"],[0.3333333333333333,\"#9c179e\"],[0.4444444444444444,\"#bd3786\"],[0.5555555555555556,\"#d8576b\"],[0.6666666666666666,\"#ed7953\"],[0.7777777777777778,\"#fb9f3a\"],[0.8888888888888888,\"#fdca26\"],[1.0,\"#f0f921\"]]},\"yaxis\":{\"gridcolor\":\"white\",\"zerolinewidth\":2,\"title\":{\"standoff\":15},\"ticks\":\"\",\"zerolinecolor\":\"white\",\"automargin\":true,\"linecolor\":\"white\"},\"shapedefaults\":{\"line\":{\"color\":\"#2a3f5f\"}},\"font\":{\"color\":\"#2a3f5f\"},\"annotationdefaults\":{\"arrowhead\":0,\"arrowwidth\":1,\"arrowcolor\":\"#2a3f5f\"},\"plot_bgcolor\":\"#E5ECF6\",\"title\":{\"x\":0.05},\"coloraxis\":{\"colorbar\":{\"ticks\":\"\",\"outlinewidth\":0}},\"hoverlabel\":{\"align\":\"left\"},\"mapbox\":{\"style\":\"light\"},\"polar\":{\"angularaxis\":{\"gridcolor\":\"white\",\"ticks\":\"\",\"linecolor\":\"white\"},\"bgcolor\":\"#E5ECF6\",\"radialaxis\":{\"gridcolor\":\"white\",\"ticks\":\"\",\"linecolor\":\"white\"}},\"autotypenumbers\":\"strict\",\"ternary\":{\"aaxis\":{\"gridcolor\":\"white\",\"ticks\":\"\",\"linecolor\":\"white\"},\"bgcolor\":\"#E5ECF6\",\"caxis\":{\"gridcolor\":\"white\",\"ticks\":\"\",\"linecolor\":\"white\"},\"baxis\":{\"gridcolor\":\"white\",\"ticks\":\"\",\"linecolor\":\"white\"}},\"scene\":{\"xaxis\":{\"gridcolor\":\"white\",\"gridwidth\":2,\"backgroundcolor\":\"#E5ECF6\",\"ticks\":\"\",\"showbackground\":true,\"zerolinecolor\":\"white\",\"linecolor\":\"white\"},\"zaxis\":{\"gridcolor\":\"white\",\"gridwidth\":2,\"backgroundcolor\":\"#E5ECF6\",\"ticks\":\"\",\"showbackground\":true,\"zerolinecolor\":\"white\",\"linecolor\":\"white\"},\"yaxis\":{\"gridcolor\":\"white\",\"gridwidth\":2,\"backgroundcolor\":\"#E5ECF6\",\"ticks\":\"\",\"showbackground\":true,\"zerolinecolor\":\"white\",\"linecolor\":\"white\"}},\"colorway\":[\"#636efa\",\"#EF553B\",\"#00cc96\",\"#ab63fa\",\"#FFA15A\",\"#19d3f3\",\"#FF6692\",\"#B6E880\",\"#FF97FF\",\"#FECB52\"]}},\"height\":400,\"margin\":{\"l\":50,\"b\":50,\"r\":50,\"t\":60},\"title\":\"Energy Spectrum\",\"yaxis\":{\"showline\":true,\"gridcolor\":\"lightgrey\",\"ticks\":\"outside\",\"title\":\"Energy (K)\",\"mirror\":true,\"linecolor\":\"black\"},\"plot_bgcolor\":\"white\",\"width\":1000}]}}},\"children\":[{\"props\":{\"id\":\"plot-64f59ea2-a680-48f5-986e-ed683293ac90\"},\"nodeType\":\"DOM\",\"type\":\"node\",\"instanceArgs\":{\"namespace\":\"html\",\"tag\":\"div\"},\"children\":[]}]},\n",
       "        window,\n",
       "    );\n",
       "    })()\n",
       "    </script>\n",
       "</div>\n"
      ],
      "text/plain": [
       "data: [\n",
       "  \"scatter with fields name, text, type, x, and y\",\n",
       "  \"scatter with fields name, text, type, x, and y\"\n",
       "]\n",
       "\n",
       "layout: \"layout with fields height, margin, plot_bgcolor, template, title, width, xaxis, and yaxis\"\n",
       "\n"
      ]
     },
     "execution_count": 5,
     "metadata": {},
     "output_type": "execute_result"
    }
   ],
   "source": [
    "p = plotScan(H_Escan, sols_E, stateOI = [[0.0, 0.0], [0, 1.0], [0, 1.0]]) # stateOI = [[mL, L], [mN2, N2], [mN1, N1]]\n",
    "p = plotScan(p, H_Escan, sols_E, stateOI = [[0.0, 0.0], [0, 2.0], [0, 0.0]])\n",
    "p"
   ]
  },
  {
   "cell_type": "markdown",
   "metadata": {},
   "source": [
    "## Demonstrates plot from R scan \n",
    "### shows you how to change properties of the plot\n",
    "### shows you how to include multiple L's"
   ]
  },
  {
   "cell_type": "code",
   "execution_count": 6,
   "metadata": {},
   "outputs": [
    {
     "data": {
      "application/vnd.plotly.v1+json": {
       "config": {
        "editable": false,
        "responsive": true,
        "scrollZoom": true,
        "showLink": false,
        "staticPlot": false
       },
       "data": [
        {
         "name": "State 701",
         "text": [
          "0.033 | 2, 2, 2, -2, 2, 2 > + 0.033 | 2, -2, 2, 2, 2, 2 > + 0.032 | 2, -2, 2, 2, 4, 2 >",
          "0.045 | 1, 0, 1, -1, 4, 0 > + 0.045 | 1, -1, 1, 0, 4, 0 > + 0.043 | 1, -1, 1, 0, 6, 0 >",
          "0.082 | 2, 0, 0, 0, 2, -1 > + 0.082 | 0, 0, 2, 0, 2, -1 > + 0.052 | 1, 0, 2, 0, 2, -1 >",
          "0.156 | 1, 0, 1, 0, 6, -5 > + 0.133 | 1, 0, 0, 0, 6, -5 > + 0.133 | 0, 0, 1, 0, 6, -5 >",
          "0.075 | 1, 0, 0, 0, 4, 1 > + 0.075 | 0, 0, 1, 0, 4, 1 > + 0.063 | 2, 0, 1, 0, 4, 1 >",
          "0.077 | 1, 0, 0, 0, 4, -1 > + 0.077 | 0, 0, 1, 0, 4, -1 > + 0.069 | 1, 0, 1, 0, 4, -1 >",
          "0.095 | 1, 0, 1, 0, 6, 0 > + 0.076 | 1, 0, 1, 0, 0, 0 > + 0.061 | 1, 0, 0, 0, 6, 0 >",
          "0.097 | 1, 0, 1, 0, 0, 0 > + 0.076 | 1, 0, 1, 0, 6, 0 > + 0.073 | 0, 0, 1, 0, 0, 0 >",
          "0.12 | 1, 0, 1, 0, 0, 0 > + 0.089 | 0, 0, 1, 0, 0, 0 > + 0.089 | 1, 0, 0, 0, 0, 0 >",
          "0.147 | 1, 0, 1, 0, 0, 0 > + 0.105 | 0, 0, 1, 0, 0, 0 > + 0.105 | 1, 0, 0, 0, 0, 0 >",
          "0.176 | 1, 0, 1, 0, 0, 0 > + 0.122 | 1, 0, 0, 0, 0, 0 > + 0.122 | 0, 0, 1, 0, 0, 0 >",
          "0.176 | 1, 0, 1, 0, 0, 0 > + 0.122 | 1, 0, 0, 0, 0, 0 > + 0.122 | 0, 0, 1, 0, 0, 0 >",
          "0.125 | 1, 0, 1, 0, 2, 0 > + 0.11 | 1, 0, 1, 0, 0, 0 > + 0.079 | 1, 0, 0, 0, 2, 0 >",
          "0.121 | 1, 0, 1, 0, 2, 0 > + 0.106 | 1, 0, 1, 0, 0, 0 > + 0.08 | 0, 0, 1, 0, 2, 0 >",
          "0.118 | 1, 0, 1, 0, 0, 0 > + 0.111 | 1, 0, 1, 0, 2, 0 > + 0.079 | 0, 0, 1, 0, 0, 0 >",
          "0.131 | 1, 0, 1, 0, 0, 0 > + 0.099 | 1, 0, 1, 0, 2, 0 > + 0.088 | 1, 0, 0, 0, 0, 0 >",
          "0.144 | 1, 0, 1, 0, 0, 0 > + 0.097 | 0, 0, 1, 0, 0, 0 > + 0.097 | 1, 0, 0, 0, 0, 0 >",
          "0.156 | 1, 0, 1, 0, 0, 0 > + 0.105 | 0, 0, 1, 0, 0, 0 > + 0.105 | 1, 0, 0, 0, 0, 0 >",
          "0.158 | 1, 0, 1, 0, 0, 0 > + 0.106 | 0, 0, 1, 0, 0, 0 > + 0.106 | 1, 0, 0, 0, 0, 0 >",
          "0.181 | 1, 0, 1, 0, 0, 0 > + 0.122 | 0, 0, 1, 0, 0, 0 > + 0.122 | 1, 0, 0, 0, 0, 0 >",
          "0.196 | 1, 0, 1, 0, 0, 0 > + 0.132 | 0, 0, 1, 0, 0, 0 > + 0.132 | 1, 0, 0, 0, 0, 0 >",
          "0.207 | 1, 0, 1, 0, 0, 0 > + 0.139 | 0, 0, 1, 0, 0, 0 > + 0.139 | 1, 0, 0, 0, 0, 0 >",
          "0.214 | 1, 0, 1, 0, 0, 0 > + 0.144 | 1, 0, 0, 0, 0, 0 > + 0.144 | 0, 0, 1, 0, 0, 0 >"
         ],
         "type": "scatter",
         "x": [
          100,
          140,
          180,
          220,
          260,
          300.00000000000006,
          340,
          380,
          420,
          460,
          500,
          500,
          900,
          1299.9999999999998,
          1700,
          2100,
          2500,
          2900,
          3000,
          4000,
          5000,
          6000,
          7000
         ],
         "y": [
          0.08274173203840246,
          0.40432968940124836,
          0.45882964843564367,
          0.4327093553286794,
          0.42927904350551455,
          0.42923751613260636,
          0.4289856513809416,
          0.4287827263187553,
          0.4286608416167274,
          0.4285822128098169,
          0.4285281363191377,
          0.4285281363191377,
          0.4283930621240461,
          0.4283966681876962,
          0.4283994998083546,
          0.42840068604941023,
          0.4284012198148859,
          0.4284014833163739,
          0.4284015266989521,
          0.428401742224467,
          0.4284018056037548,
          0.4284018290231393,
          0.4284018391551503
         ]
        },
        {
         "name": "State 706",
         "text": [
          "0.061 | 1, -1, 2, -1, 6, -2 > + 0.061 | 2, -1, 1, -1, 6, -2 > + 0.048 | 1, -1, 2, 0, 6, -3 >",
          "0.078 | 1, -1, 2, -2, 2, 1 > + 0.078 | 2, -2, 1, -1, 2, 1 > + 0.063 | 1, -1, 2, -2, 6, 1 >",
          "0.085 | 1, 0, 2, 1, 6, -6 > + 0.085 | 2, 1, 1, 0, 6, -6 > + 0.053 | 2, -1, 1, 0, 4, -4 >",
          "0.126 | 1, 0, 1, 0, 6, 0 > + 0.058 | 1, 0, 1, 0, 0, 0 > + 0.044 | 2, 0, 0, 0, 6, 0 >",
          "0.09 | 1, 0, 0, 0, 4, 3 > + 0.09 | 0, 0, 1, 0, 4, 3 > + 0.078 | 1, 0, 1, 0, 6, 3 >",
          "0.084 | 1, 0, 0, 0, 0, 0 > + 0.084 | 0, 0, 1, 0, 0, 0 > + 0.075 | 1, 0, 1, 0, 0, 0 >",
          "0.1 | 1, 0, 1, 0, 4, -3 > + 0.096 | 0, 0, 1, 0, 4, -3 > + 0.096 | 1, 0, 0, 0, 4, -3 >",
          "0.115 | 1, 0, 1, 0, 4, 3 > + 0.101 | 0, 0, 1, 0, 4, 3 > + 0.101 | 1, 0, 0, 0, 4, 3 >",
          "0.145 | 1, 0, 1, 0, 4, 3 > + 0.115 | 0, 0, 1, 0, 4, 3 > + 0.115 | 1, 0, 0, 0, 4, 3 >",
          "0.204 | 1, 0, 1, 0, 4, 3 > + 0.148 | 1, 0, 0, 0, 4, 3 > + 0.148 | 0, 0, 1, 0, 4, 3 >",
          "0.229 | 1, 0, 1, 0, 4, 3 > + 0.156 | 1, 0, 0, 0, 4, 3 > + 0.156 | 0, 0, 1, 0, 4, 3 >",
          "0.229 | 1, 0, 1, 0, 4, 3 > + 0.156 | 1, 0, 0, 0, 4, 3 > + 0.156 | 0, 0, 1, 0, 4, 3 >",
          "0.139 | 1, 0, 1, 0, 2, -2 > + 0.094 | 1, 0, 0, 0, 2, -2 > + 0.094 | 0, 0, 1, 0, 2, -2 >",
          "0.172 | 1, 0, 1, 0, 2, 2 > + 0.116 | 1, 0, 0, 0, 2, 2 > + 0.116 | 0, 0, 1, 0, 2, 2 >",
          "0.199 | 1, 0, 1, 0, 2, 2 > + 0.134 | 1, 0, 0, 0, 2, 2 > + 0.134 | 0, 0, 1, 0, 2, 2 >",
          "0.213 | 1, 0, 1, 0, 2, 2 > + 0.143 | 0, 0, 1, 0, 2, 2 > + 0.143 | 1, 0, 0, 0, 2, 2 >",
          "0.22 | 1, 0, 1, 0, 2, 2 > + 0.148 | 1, 0, 0, 0, 2, 2 > + 0.148 | 0, 0, 1, 0, 2, 2 >",
          "0.225 | 1, 0, 1, 0, 2, -2 > + 0.151 | 0, 0, 1, 0, 2, -2 > + 0.151 | 1, 0, 0, 0, 2, -2 >",
          "0.225 | 1, 0, 1, 0, 2, -2 > + 0.152 | 1, 0, 0, 0, 2, -2 > + 0.152 | 0, 0, 1, 0, 2, -2 >",
          "0.23 | 1, 0, 1, 0, 2, 2 > + 0.155 | 0, 0, 1, 0, 2, 2 > + 0.155 | 1, 0, 0, 0, 2, 2 >",
          "0.232 | 1, 0, 1, 0, 2, 2 > + 0.156 | 0, 0, 1, 0, 2, 2 > + 0.156 | 1, 0, 0, 0, 2, 2 >",
          "0.233 | 1, 0, 1, 0, 2, 2 > + 0.157 | 1, 0, 0, 0, 2, 2 > + 0.157 | 0, 0, 1, 0, 2, 2 >",
          "0.233 | 1, 0, 1, 0, 2, -2 > + 0.157 | 1, 0, 0, 0, 2, -2 > + 0.157 | 0, 0, 1, 0, 2, -2 >"
         ],
         "type": "scatter",
         "x": [
          100,
          140,
          180,
          220,
          260,
          300.00000000000006,
          340,
          380,
          420,
          460,
          500,
          500,
          900,
          1299.9999999999998,
          1700,
          2100,
          2500,
          2900,
          3000,
          4000,
          5000,
          6000,
          7000
         ],
         "y": [
          0.08378710881227137,
          0.41073658221492576,
          0.46472171680283525,
          0.43391973929133854,
          0.42952783371641123,
          0.42945634729408894,
          0.4290955206600273,
          0.42890864285797825,
          0.42877763101176997,
          0.4286815503432581,
          0.42860496662362385,
          0.42860496662362385,
          0.42841699528016036,
          0.4284080096521158,
          0.4284053030430872,
          0.4284040327804144,
          0.42840334019570236,
          0.42840292583776235,
          0.42840284869257567,
          0.4284023822524475,
          0.42840217811104836,
          0.42840207181431234,
          0.4284020097691033
         ]
        },
        {
         "name": "State 704",
         "text": [
          "0.053 | 2, 0, 2, 0, 2, 1 > + 0.026 | 0, 0, 0, 0, 6, 1 > + 0.024 | 1, 0, 1, 1, 6, 0 >",
          "0.082 | 1, -1, 1, -1, 2, 1 > + 0.043 | 1, -1, 1, -1, 4, 1 > + 0.037 | 0, 0, 2, -2, 4, 1 >",
          "0.086 | 1, 0, 1, 0, 6, 2 > + 0.036 | 1, 1, 1, -1, 2, 2 > + 0.036 | 1, -1, 1, 1, 2, 2 >",
          "0.171 | 1, 0, 2, 0, 6, 6 > + 0.171 | 2, 0, 1, 0, 6, 6 > + 0.161 | 0, 0, 1, 0, 6, 6 >",
          "0.093 | 1, 0, 0, 0, 2, 2 > + 0.093 | 0, 0, 1, 0, 2, 2 > + 0.085 | 2, 0, 1, 0, 2, 2 >",
          "0.095 | 1, 0, 0, 0, 4, -3 > + 0.095 | 0, 0, 1, 0, 4, -3 > + 0.088 | 1, 0, 1, 0, 4, -3 >",
          "0.112 | 1, 0, 1, 0, 6, -2 > + 0.081 | 1, 0, 1, 0, 2, -2 > + 0.071 | 1, 0, 0, 0, 6, -2 >",
          "0.084 | 1, 0, 1, 0, 4, 1 > + 0.076 | 0, 0, 1, 0, 4, 1 > + 0.076 | 1, 0, 0, 0, 4, 1 >",
          "0.157 | 1, 0, 1, 0, 2, 1 > + 0.108 | 0, 0, 1, 0, 2, 1 > + 0.108 | 1, 0, 0, 0, 2, 1 >",
          "0.201 | 1, 0, 1, 0, 2, -1 > + 0.13 | 1, 0, 0, 0, 2, -1 > + 0.13 | 0, 0, 1, 0, 2, -1 >",
          "0.168 | 1, 0, 1, 0, 2, -2 > + 0.122 | 0, 0, 1, 0, 2, -2 > + 0.122 | 1, 0, 0, 0, 2, -2 >",
          "0.168 | 1, 0, 1, 0, 2, -2 > + 0.122 | 0, 0, 1, 0, 2, -2 > + 0.122 | 1, 0, 0, 0, 2, -2 >",
          "0.096 | 1, 0, 1, 0, 0, 0 > + 0.085 | 1, 0, 1, 0, 4, 0 > + 0.066 | 1, 0, 0, 0, 0, 0 >",
          "0.114 | 1, 0, 1, 0, 0, 0 > + 0.078 | 1, 0, 0, 0, 0, 0 > + 0.078 | 0, 0, 1, 0, 0, 0 >",
          "0.111 | 1, 0, 1, 0, 0, 0 > + 0.089 | 1, 0, 1, 0, 2, 0 > + 0.075 | 0, 0, 1, 0, 0, 0 >",
          "0.111 | 1, 0, 1, 0, 2, 0 > + 0.101 | 1, 0, 1, 0, 0, 0 > + 0.075 | 0, 0, 1, 0, 2, 0 >",
          "0.129 | 1, 0, 1, 0, 2, 0 > + 0.089 | 1, 0, 1, 0, 0, 0 > + 0.087 | 0, 0, 1, 0, 2, 0 >",
          "0.144 | 1, 0, 1, 0, 2, 0 > + 0.097 | 1, 0, 0, 0, 2, 0 > + 0.097 | 0, 0, 1, 0, 2, 0 >",
          "0.147 | 1, 0, 1, 0, 2, 0 > + 0.099 | 1, 0, 0, 0, 2, 0 > + 0.099 | 0, 0, 1, 0, 2, 0 >",
          "0.175 | 1, 0, 1, 0, 2, 0 > + 0.117 | 0, 0, 1, 0, 2, 0 > + 0.117 | 1, 0, 0, 0, 2, 0 >",
          "0.192 | 1, 0, 1, 0, 2, 0 > + 0.129 | 0, 0, 1, 0, 2, 0 > + 0.129 | 1, 0, 0, 0, 2, 0 >",
          "0.204 | 1, 0, 1, 0, 2, 0 > + 0.137 | 0, 0, 1, 0, 2, 0 > + 0.137 | 1, 0, 0, 0, 2, 0 >",
          "0.232 | 1, 0, 1, 0, 2, -1 > + 0.156 | 1, 0, 0, 0, 2, -1 > + 0.156 | 0, 0, 1, 0, 2, -1 >"
         ],
         "type": "scatter",
         "x": [
          100,
          140,
          180,
          220,
          260,
          300.00000000000006,
          340,
          380,
          420,
          460,
          500,
          500,
          900,
          1299.9999999999998,
          1700,
          2100,
          2500,
          2900,
          3000,
          4000,
          5000,
          6000,
          7000
         ],
         "y": [
          0.08361558197339075,
          0.4104399870094466,
          0.4606770599676494,
          0.43318394224276535,
          0.42950698865708886,
          0.4293401431900802,
          0.4290492552866526,
          0.42887138926994967,
          0.4287345859550207,
          0.4286157830990856,
          0.4285500432751733,
          0.4285500432751733,
          0.4284145803533152,
          0.42840628164256944,
          0.42840421721494915,
          0.4284033181837692,
          0.42840284729495787,
          0.42840257224710815,
          0.42840252156679953,
          0.4284022176968949,
          0.42840208446495165,
          0.428402013758999,
          0.428401972188932
         ]
        },
        {
         "name": "State 702",
         "text": [
          "0.039 | 1, 1, 2, -1, 6, 1 > + 0.039 | 2, -1, 1, 1, 6, 1 > + 0.035 | 1, 0, 2, -1, 6, 2 >",
          "0.035 | 0, 0, 2, -2, 4, 4 > + 0.035 | 2, -2, 0, 0, 4, 4 > + 0.034 | 1, 1, 2, -1, 6, 2 >",
          "0.082 | 0, 0, 2, 0, 2, 1 > + 0.082 | 2, 0, 0, 0, 2, 1 > + 0.052 | 2, 0, 1, 0, 2, 1 >",
          "0.102 | 2, 0, 0, 0, 2, 1 > + 0.102 | 0, 0, 2, 0, 2, 1 > + 0.074 | 2, 0, 1, 0, 2, 1 >",
          "0.075 | 1, 0, 0, 0, 4, -1 > + 0.075 | 0, 0, 1, 0, 4, -1 > + 0.063 | 2, 0, 1, 0, 4, -1 >",
          "0.077 | 0, 0, 1, 0, 4, 1 > + 0.077 | 1, 0, 0, 0, 4, 1 > + 0.069 | 1, 0, 1, 0, 4, 1 >",
          "0.078 | 1, 0, 1, 0, 4, -1 > + 0.078 | 1, 0, 0, 0, 4, -1 > + 0.078 | 0, 0, 1, 0, 4, -1 >",
          "0.105 | 1, 0, 1, 0, 2, 2 > + 0.093 | 1, 0, 1, 0, 6, 2 > + 0.079 | 0, 0, 1, 0, 2, 2 >",
          "0.128 | 1, 0, 1, 0, 2, 2 > + 0.096 | 0, 0, 1, 0, 2, 2 > + 0.096 | 1, 0, 0, 0, 2, 2 >",
          "0.15 | 1, 0, 1, 0, 2, -2 > + 0.111 | 1, 0, 0, 0, 2, -2 > + 0.111 | 0, 0, 1, 0, 2, -2 >",
          "0.21 | 1, 0, 1, 0, 2, -1 > + 0.134 | 0, 0, 1, 0, 2, -1 > + 0.134 | 1, 0, 0, 0, 2, -1 >",
          "0.21 | 1, 0, 1, 0, 2, -1 > + 0.134 | 0, 0, 1, 0, 2, -1 > + 0.134 | 1, 0, 0, 0, 2, -1 >",
          "0.195 | 1, 0, 1, 0, 2, 1 > + 0.128 | 0, 0, 1, 0, 2, 1 > + 0.128 | 1, 0, 0, 0, 2, 1 >",
          "0.196 | 1, 0, 1, 0, 2, -1 > + 0.131 | 1, 0, 0, 0, 2, -1 > + 0.131 | 0, 0, 1, 0, 2, -1 >",
          "0.207 | 1, 0, 1, 0, 2, 1 > + 0.138 | 1, 0, 0, 0, 2, 1 > + 0.138 | 0, 0, 1, 0, 2, 1 >",
          "0.214 | 1, 0, 1, 0, 2, -1 > + 0.144 | 0, 0, 1, 0, 2, -1 > + 0.144 | 1, 0, 0, 0, 2, -1 >",
          "0.219 | 1, 0, 1, 0, 2, 1 > + 0.147 | 1, 0, 0, 0, 2, 1 > + 0.147 | 0, 0, 1, 0, 2, 1 >",
          "0.223 | 1, 0, 1, 0, 2, 1 > + 0.15 | 0, 0, 1, 0, 2, 1 > + 0.15 | 1, 0, 0, 0, 2, 1 >",
          "0.224 | 1, 0, 1, 0, 2, -1 > + 0.15 | 1, 0, 0, 0, 2, -1 > + 0.15 | 0, 0, 1, 0, 2, -1 >",
          "0.228 | 1, 0, 1, 0, 2, 1 > + 0.153 | 0, 0, 1, 0, 2, 1 > + 0.153 | 1, 0, 0, 0, 2, 1 >",
          "0.146 | 1, 0, 1, 0, 2, 1 > + 0.098 | 1, 0, 0, 0, 2, 1 > + 0.098 | 0, 0, 1, 0, 2, 1 >",
          "0.232 | 1, 0, 1, 0, 2, 1 > + 0.156 | 0, 0, 1, 0, 2, 1 > + 0.156 | 1, 0, 0, 0, 2, 1 >",
          "0.211 | 1, 0, 1, 0, 2, 0 > + 0.142 | 0, 0, 1, 0, 2, 0 > + 0.142 | 1, 0, 0, 0, 2, 0 >"
         ],
         "type": "scatter",
         "x": [
          100,
          140,
          180,
          220,
          260,
          300.00000000000006,
          340,
          380,
          420,
          460,
          500,
          500,
          900,
          1299.9999999999998,
          1700,
          2100,
          2500,
          2900,
          3000,
          4000,
          5000,
          6000,
          7000
         ],
         "y": [
          0.08321523180594685,
          0.4058461844663282,
          0.4588296484356441,
          0.43301920508359204,
          0.4292790435055155,
          0.4292375161326065,
          0.4290408414446212,
          0.42882061877383376,
          0.4286881676287736,
          0.4286052507085136,
          0.42854132248304916,
          0.42854132248304916,
          0.4284047564652623,
          0.4284026086458221,
          0.4284026944363891,
          0.4284026153704793,
          0.42840249459421037,
          0.4284023839715155,
          0.42840235941786936,
          0.4284021772583932,
          0.42840207390395585,
          0.42840201186091276,
          0.4284019714268592
         ]
        },
        {
         "name": "State 703",
         "text": [
          "0.039 | 1, -1, 2, 1, 6, -1 > + 0.039 | 2, 1, 1, -1, 6, -1 > + 0.035 | 1, 0, 2, 1, 6, -2 >",
          "0.035 | 0, 0, 2, 2, 4, -4 > + 0.035 | 2, 2, 0, 0, 4, -4 > + 0.034 | 2, 1, 1, -1, 6, -2 >",
          "0.083 | 1, 0, 1, 0, 6, 0 > + 0.03 | 2, 0, 0, 0, 6, 0 > + 0.03 | 0, 0, 2, 0, 6, 0 >",
          "0.102 | 2, 0, 0, 0, 2, -1 > + 0.102 | 0, 0, 2, 0, 2, -1 > + 0.074 | 2, 0, 1, 0, 2, -1 >",
          "0.055 | 1, 0, 0, 0, 2, 0 > + 0.055 | 0, 0, 1, 0, 2, 0 > + 0.051 | 2, 0, 1, 0, 2, 0 >",
          "0.095 | 1, 0, 0, 0, 4, 3 > + 0.095 | 0, 0, 1, 0, 4, 3 > + 0.088 | 1, 0, 1, 0, 4, 3 >",
          "0.078 | 1, 0, 1, 0, 4, 1 > + 0.078 | 0, 0, 1, 0, 4, 1 > + 0.078 | 1, 0, 0, 0, 4, 1 >",
          "0.105 | 1, 0, 1, 0, 2, -2 > + 0.093 | 1, 0, 1, 0, 6, -2 > + 0.079 | 0, 0, 1, 0, 2, -2 >",
          "0.128 | 1, 0, 1, 0, 2, -2 > + 0.096 | 0, 0, 1, 0, 2, -2 > + 0.096 | 1, 0, 0, 0, 2, -2 >",
          "0.15 | 1, 0, 1, 0, 2, 2 > + 0.111 | 1, 0, 0, 0, 2, 2 > + 0.111 | 0, 0, 1, 0, 2, 2 >",
          "0.21 | 1, 0, 1, 0, 2, 1 > + 0.134 | 1, 0, 0, 0, 2, 1 > + 0.134 | 0, 0, 1, 0, 2, 1 >",
          "0.21 | 1, 0, 1, 0, 2, 1 > + 0.134 | 1, 0, 0, 0, 2, 1 > + 0.134 | 0, 0, 1, 0, 2, 1 >",
          "0.195 | 1, 0, 1, 0, 2, -1 > + 0.128 | 0, 0, 1, 0, 2, -1 > + 0.128 | 1, 0, 0, 0, 2, -1 >",
          "0.196 | 1, 0, 1, 0, 2, 1 > + 0.131 | 1, 0, 0, 0, 2, 1 > + 0.131 | 0, 0, 1, 0, 2, 1 >",
          "0.207 | 1, 0, 1, 0, 2, -1 > + 0.138 | 0, 0, 1, 0, 2, -1 > + 0.138 | 1, 0, 0, 0, 2, -1 >",
          "0.214 | 1, 0, 1, 0, 2, 1 > + 0.144 | 0, 0, 1, 0, 2, 1 > + 0.144 | 1, 0, 0, 0, 2, 1 >",
          "0.219 | 1, 0, 1, 0, 2, -1 > + 0.147 | 0, 0, 1, 0, 2, -1 > + 0.147 | 1, 0, 0, 0, 2, -1 >",
          "0.223 | 1, 0, 1, 0, 2, -1 > + 0.15 | 0, 0, 1, 0, 2, -1 > + 0.15 | 1, 0, 0, 0, 2, -1 >",
          "0.224 | 1, 0, 1, 0, 2, 1 > + 0.15 | 1, 0, 0, 0, 2, 1 > + 0.15 | 0, 0, 1, 0, 2, 1 >",
          "0.228 | 1, 0, 1, 0, 2, -1 > + 0.153 | 1, 0, 0, 0, 2, -1 > + 0.153 | 0, 0, 1, 0, 2, -1 >",
          "0.146 | 1, 0, 1, 0, 2, -1 > + 0.098 | 1, 0, 0, 0, 2, -1 > + 0.098 | 0, 0, 1, 0, 2, -1 >",
          "0.232 | 1, 0, 1, 0, 2, -1 > + 0.156 | 1, 0, 0, 0, 2, -1 > + 0.156 | 0, 0, 1, 0, 2, -1 >",
          "0.232 | 1, 0, 1, 0, 2, 1 > + 0.156 | 0, 0, 1, 0, 2, 1 > + 0.156 | 1, 0, 0, 0, 2, 1 >"
         ],
         "type": "scatter",
         "x": [
          100,
          140,
          180,
          220,
          260,
          300.00000000000006,
          340,
          380,
          420,
          460,
          500,
          500,
          900,
          1299.9999999999998,
          1700,
          2100,
          2500,
          2900,
          3000,
          4000,
          5000,
          6000,
          7000
         ],
         "y": [
          0.083215231805947,
          0.4058461844663296,
          0.4591987417142185,
          0.43301920508359265,
          0.42943534352415424,
          0.4293401431900792,
          0.42904084144462246,
          0.4288206187738339,
          0.4286881676287745,
          0.42860525070851374,
          0.4285413224830501,
          0.4285413224830501,
          0.4284047564652639,
          0.4284026086458243,
          0.42840269443639045,
          0.42840261537048074,
          0.4284024945942146,
          0.4284023839715159,
          0.4284023594178722,
          0.4284021772583974,
          0.42840207390395585,
          0.4284020118609165,
          0.4284019721889313
         ]
        },
        {
         "name": "State 705",
         "text": [
          "0.053 | 2, 0, 2, 0, 2, -1 > + 0.026 | 0, 0, 0, 0, 6, -1 > + 0.024 | 1, 0, 1, -1, 6, 0 >",
          "0.082 | 1, 1, 1, 1, 2, -1 > + 0.043 | 1, 1, 1, 1, 4, -1 > + 0.037 | 0, 0, 2, 2, 4, -1 >",
          "0.086 | 1, 0, 1, 0, 6, -2 > + 0.036 | 1, -1, 1, 1, 2, -2 > + 0.036 | 1, 1, 1, -1, 2, -2 >",
          "0.171 | 2, 0, 1, 0, 6, -6 > + 0.171 | 1, 0, 2, 0, 6, -6 > + 0.161 | 1, 0, 0, 0, 6, -6 >",
          "0.093 | 1, 0, 0, 0, 2, -2 > + 0.093 | 0, 0, 1, 0, 2, -2 > + 0.085 | 2, 0, 1, 0, 2, -2 >",
          "0.12 | 1, 0, 1, 0, 6, 0 > + 0.076 | 1, 0, 0, 0, 6, 0 > + 0.076 | 0, 0, 1, 0, 6, 0 >",
          "0.112 | 1, 0, 1, 0, 6, 2 > + 0.081 | 1, 0, 1, 0, 2, 2 > + 0.071 | 1, 0, 0, 0, 6, 2 >",
          "0.084 | 1, 0, 1, 0, 4, -1 > + 0.076 | 1, 0, 0, 0, 4, -1 > + 0.076 | 0, 0, 1, 0, 4, -1 >",
          "0.157 | 1, 0, 1, 0, 2, -1 > + 0.108 | 0, 0, 1, 0, 2, -1 > + 0.108 | 1, 0, 0, 0, 2, -1 >",
          "0.201 | 1, 0, 1, 0, 2, 1 > + 0.13 | 0, 0, 1, 0, 2, 1 > + 0.13 | 1, 0, 0, 0, 2, 1 >",
          "0.168 | 1, 0, 1, 0, 2, 2 > + 0.122 | 0, 0, 1, 0, 2, 2 > + 0.122 | 1, 0, 0, 0, 2, 2 >",
          "0.168 | 1, 0, 1, 0, 2, 2 > + 0.122 | 0, 0, 1, 0, 2, 2 > + 0.122 | 1, 0, 0, 0, 2, 2 >",
          "0.139 | 1, 0, 1, 0, 2, 2 > + 0.094 | 0, 0, 1, 0, 2, 2 > + 0.094 | 1, 0, 0, 0, 2, 2 >",
          "0.172 | 1, 0, 1, 0, 2, -2 > + 0.116 | 1, 0, 0, 0, 2, -2 > + 0.116 | 0, 0, 1, 0, 2, -2 >",
          "0.199 | 1, 0, 1, 0, 2, -2 > + 0.134 | 0, 0, 1, 0, 2, -2 > + 0.134 | 1, 0, 0, 0, 2, -2 >",
          "0.213 | 1, 0, 1, 0, 2, -2 > + 0.143 | 0, 0, 1, 0, 2, -2 > + 0.143 | 1, 0, 0, 0, 2, -2 >",
          "0.22 | 1, 0, 1, 0, 2, -2 > + 0.148 | 0, 0, 1, 0, 2, -2 > + 0.148 | 1, 0, 0, 0, 2, -2 >",
          "0.225 | 1, 0, 1, 0, 2, 2 > + 0.151 | 0, 0, 1, 0, 2, 2 > + 0.151 | 1, 0, 0, 0, 2, 2 >",
          "0.225 | 1, 0, 1, 0, 2, 2 > + 0.152 | 1, 0, 0, 0, 2, 2 > + 0.152 | 0, 0, 1, 0, 2, 2 >",
          "0.23 | 1, 0, 1, 0, 2, -2 > + 0.155 | 0, 0, 1, 0, 2, -2 > + 0.155 | 1, 0, 0, 0, 2, -2 >",
          "0.232 | 1, 0, 1, 0, 2, -2 > + 0.156 | 1, 0, 0, 0, 2, -2 > + 0.156 | 0, 0, 1, 0, 2, -2 >",
          "0.233 | 1, 0, 1, 0, 2, -2 > + 0.157 | 0, 0, 1, 0, 2, -2 > + 0.157 | 1, 0, 0, 0, 2, -2 >",
          "0.233 | 1, 0, 1, 0, 2, 2 > + 0.157 | 1, 0, 0, 0, 2, 2 > + 0.157 | 0, 0, 1, 0, 2, 2 >"
         ],
         "type": "scatter",
         "x": [
          100,
          140,
          180,
          220,
          260,
          300.00000000000006,
          340,
          380,
          420,
          460,
          500,
          500,
          900,
          1299.9999999999998,
          1700,
          2100,
          2500,
          2900,
          3000,
          4000,
          5000,
          6000,
          7000
         ],
         "y": [
          0.08361558197339113,
          0.4104399870094471,
          0.46067705996765035,
          0.433183942242766,
          0.42950698865708903,
          0.42935255092388047,
          0.42904925528665333,
          0.4288713892699532,
          0.4287345859550216,
          0.4286157830990862,
          0.42855004327517365,
          0.42855004327517365,
          0.4284169952801597,
          0.4284080096521154,
          0.42840530304308616,
          0.42840403278041356,
          0.4284033401957,
          0.4284029258377623,
          0.4284028486925748,
          0.4284023822524452,
          0.4284021781110483,
          0.42840207181431206,
          0.4284020097691003
         ]
        },
        {
         "name": "State 715",
         "text": [
          "0.045 | 2, 2, 1, 0, 6, 2 > + 0.045 | 1, 0, 2, 2, 6, 2 > + 0.042 | 1, 1, 2, 0, 6, 3 >",
          "0.025 | 0, 0, 2, -1, 6, -1 > + 0.025 | 2, -1, 0, 0, 6, -1 > + 0.025 | 0, 0, 2, 1, 6, -3 >",
          "0.062 | 2, 0, 0, 0, 6, 2 > + 0.062 | 0, 0, 2, 0, 6, 2 > + 0.044 | 1, 0, 0, 0, 6, 2 >",
          "0.096 | 2, 0, 0, 0, 4, 1 > + 0.096 | 0, 0, 2, 0, 4, 1 > + 0.07 | 1, 0, 0, 0, 4, 1 >",
          "0.175 | 0, 0, 1, 0, 6, -6 > + 0.175 | 1, 0, 0, 0, 6, -6 > + 0.152 | 1, 0, 2, 0, 6, -6 >",
          "0.205 | 1, 0, 1, 0, 6, -4 > + 0.109 | 0, 0, 1, 0, 6, -4 > + 0.109 | 1, 0, 0, 0, 6, -4 >",
          "0.22 | 1, 0, 1, 0, 6, -4 > + 0.135 | 0, 0, 1, 0, 6, -4 > + 0.135 | 1, 0, 0, 0, 6, -4 >",
          "0.207 | 1, 0, 1, 0, 6, -5 > + 0.165 | 1, 0, 0, 0, 6, -5 > + 0.165 | 0, 0, 1, 0, 6, -5 >",
          "0.213 | 1, 0, 1, 0, 6, -5 > + 0.164 | 0, 0, 1, 0, 6, -5 > + 0.164 | 1, 0, 0, 0, 6, -5 >",
          "0.23 | 1, 0, 1, 0, 6, -3 > + 0.138 | 0, 0, 1, 0, 6, -3 > + 0.138 | 1, 0, 0, 0, 6, -3 >",
          "0.181 | 1, 0, 1, 0, 6, 0 > + 0.112 | 1, 0, 0, 0, 6, 0 > + 0.112 | 0, 0, 1, 0, 6, 0 >",
          "0.181 | 1, 0, 1, 0, 6, 0 > + 0.112 | 1, 0, 0, 0, 6, 0 > + 0.112 | 0, 0, 1, 0, 6, 0 >",
          "0.205 | 1, 0, 1, 0, 4, 4 > + 0.141 | 1, 0, 0, 0, 4, 4 > + 0.141 | 0, 0, 1, 0, 4, 4 >",
          "0.223 | 1, 0, 1, 0, 4, 4 > + 0.151 | 0, 0, 1, 0, 4, 4 > + 0.151 | 1, 0, 0, 0, 4, 4 >",
          "0.229 | 1, 0, 1, 0, 4, 4 > + 0.154 | 0, 0, 1, 0, 4, 4 > + 0.154 | 1, 0, 0, 0, 4, 4 >",
          "0.231 | 1, 0, 1, 0, 4, 4 > + 0.156 | 0, 0, 1, 0, 4, 4 > + 0.156 | 1, 0, 0, 0, 4, 4 >",
          "0.232 | 1, 0, 1, 0, 4, -4 > + 0.156 | 1, 0, 0, 0, 4, -4 > + 0.156 | 0, 0, 1, 0, 4, -4 >",
          "0.233 | 1, 0, 1, 0, 4, -4 > + 0.157 | 1, 0, 0, 0, 4, -4 > + 0.157 | 0, 0, 1, 0, 4, -4 >",
          "0.233 | 1, 0, 1, 0, 4, -4 > + 0.157 | 0, 0, 1, 0, 4, -4 > + 0.157 | 1, 0, 0, 0, 4, -4 >",
          "0.234 | 1, 0, 1, 0, 4, -4 > + 0.157 | 1, 0, 0, 0, 4, -4 > + 0.157 | 0, 0, 1, 0, 4, -4 >",
          "0.234 | 1, 0, 1, 0, 4, 4 > + 0.157 | 1, 0, 0, 0, 4, 4 > + 0.157 | 0, 0, 1, 0, 4, 4 >",
          "0.234 | 1, 0, 1, 0, 4, -4 > + 0.158 | 1, 0, 0, 0, 4, -4 > + 0.158 | 0, 0, 1, 0, 4, -4 >",
          "0.234 | 1, 0, 1, 0, 4, -4 > + 0.158 | 0, 0, 1, 0, 4, -4 > + 0.158 | 1, 0, 0, 0, 4, -4 >"
         ],
         "type": "scatter",
         "x": [
          100,
          140,
          180,
          220,
          260,
          300.00000000000006,
          340,
          380,
          420,
          460,
          500,
          500,
          900,
          1299.9999999999998,
          1700,
          2100,
          2500,
          2900,
          3000,
          4000,
          5000,
          6000,
          7000
         ],
         "y": [
          0.08894196524016149,
          0.41422451084698275,
          0.4665332701464208,
          0.43669709416927893,
          0.4316446697195509,
          0.43018003844471975,
          0.42937009788531544,
          0.42904702557734353,
          0.42887009802799747,
          0.42874531612909655,
          0.4286501197327471,
          0.4286501197327471,
          0.4284438082735681,
          0.4284196124321886,
          0.4284115995690572,
          0.4284079877185009,
          0.42840606056626185,
          0.4284049142997334,
          0.4284047007692792,
          0.4284034018111457,
          0.4284028232590145,
          0.42840251672298735,
          0.42840233510810516
         ]
        },
        {
         "name": "State 713",
         "text": [
          "0.119 | 2, 2, 2, -2, 4, 4 > + 0.119 | 2, -2, 2, 2, 4, 4 > + 0.043 | 1, 1, 3, -3, 6, 6 >",
          "0.072 | 1, -1, 2, 1, 6, -6 > + 0.072 | 2, 1, 1, -1, 6, -6 > + 0.06 | 2, 0, 0, 0, 6, -6 >",
          "0.065 | 2, 0, 0, 0, 6, -1 > + 0.065 | 0, 0, 2, 0, 6, -1 > + 0.054 | 1, 0, 0, 0, 6, -1 >",
          "0.09 | 0, 0, 2, 0, 4, 2 > + 0.09 | 2, 0, 0, 0, 4, 2 > + 0.06 | 1, 0, 2, 0, 4, 2 >",
          "0.171 | 1, 0, 1, 0, 6, -5 > + 0.158 | 0, 0, 1, 0, 6, -5 > + 0.158 | 1, 0, 0, 0, 6, -5 >",
          "0.186 | 1, 0, 1, 0, 6, -5 > + 0.165 | 0, 0, 1, 0, 6, -5 > + 0.165 | 1, 0, 0, 0, 6, -5 >",
          "0.198 | 1, 0, 1, 0, 6, -5 > + 0.166 | 0, 0, 1, 0, 6, -5 > + 0.166 | 1, 0, 0, 0, 6, -5 >",
          "0.136 | 1, 0, 1, 0, 2, -1 > + 0.129 | 1, 0, 1, 0, 6, -1 > + 0.072 | 1, 0, 0, 0, 2, -1 >",
          "0.073 | 1, 0, 1, 0, 4, -2 > + 0.067 | 1, 0, 1, 0, 2, -2 > + 0.065 | 0, 0, 1, 0, 2, -2 >",
          "0.092 | 1, 0, 1, 0, 4, 2 > + 0.074 | 1, 0, 0, 0, 4, 2 > + 0.074 | 0, 0, 1, 0, 4, 2 >",
          "0.13 | 1, 0, 1, 0, 4, -2 > + 0.095 | 1, 0, 0, 0, 4, -2 > + 0.095 | 0, 0, 1, 0, 4, -2 >",
          "0.13 | 1, 0, 1, 0, 4, -2 > + 0.095 | 1, 0, 0, 0, 4, -2 > + 0.095 | 0, 0, 1, 0, 4, -2 >",
          "0.115 | 1, 0, 1, 0, 4, 2 > + 0.089 | 1, 0, 1, 0, 2, 2 > + 0.077 | 0, 0, 1, 0, 4, 2 >",
          "0.22 | 1, 0, 1, 0, 4, -3 > + 0.148 | 1, 0, 0, 0, 4, -3 > + 0.148 | 0, 0, 1, 0, 4, -3 >",
          "0.226 | 1, 0, 1, 0, 4, 3 > + 0.152 | 1, 0, 0, 0, 4, 3 > + 0.152 | 0, 0, 1, 0, 4, 3 >",
          "0.229 | 1, 0, 1, 0, 4, -3 > + 0.154 | 0, 0, 1, 0, 4, -3 > + 0.154 | 1, 0, 0, 0, 4, -3 >",
          "0.23 | 1, 0, 1, 0, 4, -3 > + 0.155 | 0, 0, 1, 0, 4, -3 > + 0.155 | 1, 0, 0, 0, 4, -3 >",
          "0.232 | 1, 0, 1, 0, 4, -3 > + 0.156 | 0, 0, 1, 0, 4, -3 > + 0.156 | 1, 0, 0, 0, 4, -3 >",
          "0.232 | 1, 0, 1, 0, 4, 3 > + 0.156 | 1, 0, 0, 0, 4, 3 > + 0.156 | 0, 0, 1, 0, 4, 3 >",
          "0.233 | 1, 0, 1, 0, 4, -3 > + 0.157 | 0, 0, 1, 0, 4, -3 > + 0.157 | 1, 0, 0, 0, 4, -3 >",
          "0.234 | 1, 0, 1, 0, 4, -3 > + 0.157 | 1, 0, 0, 0, 4, -3 > + 0.157 | 0, 0, 1, 0, 4, -3 >",
          "0.234 | 1, 0, 1, 0, 4, -3 > + 0.157 | 1, 0, 0, 0, 4, -3 > + 0.157 | 0, 0, 1, 0, 4, -3 >",
          "0.234 | 1, 0, 1, 0, 4, -3 > + 0.157 | 0, 0, 1, 0, 4, -3 > + 0.157 | 1, 0, 0, 0, 4, -3 >"
         ],
         "type": "scatter",
         "x": [
          100,
          140,
          180,
          220,
          260,
          300.00000000000006,
          340,
          380,
          420,
          460,
          500,
          500,
          900,
          1299.9999999999998,
          1700,
          2100,
          2500,
          2900,
          3000,
          4000,
          5000,
          6000,
          7000
         ],
         "y": [
          0.08891019965936367,
          0.4139629498706661,
          0.4664826820464659,
          0.4362858518299573,
          0.43079784582394076,
          0.42985500134943355,
          0.4293407394090969,
          0.42904272386083525,
          0.42882292007098555,
          0.4287162218343834,
          0.42864275988361067,
          0.42864275988361067,
          0.42843361269578323,
          0.4284156756406748,
          0.42840984505334145,
          0.42840706609143253,
          0.42840551930162213,
          0.4284045701591555,
          0.4284043904263464,
          0.4284032725503715,
          0.4284027576149886,
          0.4284024789459112,
          0.4284023114143758
         ]
        },
        {
         "name": "State 711",
         "text": [
          "0.045 | 2, 1, 0, 0, 6, 2 > + 0.045 | 0, 0, 2, 1, 6, 2 > + 0.034 | 1, 1, 2, 0, 6, 2 >",
          "0.036 | 2, 0, 1, 1, 6, -5 > + 0.036 | 1, 1, 2, 0, 6, -5 > + 0.032 | 0, 0, 0, 0, 6, -4 >",
          "0.06 | 0, 0, 2, 0, 6, 3 > + 0.06 | 2, 0, 0, 0, 6, 3 > + 0.043 | 1, 0, 2, 0, 6, 3 >",
          "0.08 | 0, 0, 2, 0, 2, 0 > + 0.08 | 2, 0, 0, 0, 2, 0 > + 0.053 | 0, 0, 1, 0, 2, 0 >",
          "0.117 | 1, 0, 1, 0, 6, -2 > + 0.079 | 1, 0, 1, 0, 2, -2 > + 0.055 | 1, 0, 0, 0, 6, -2 >",
          "0.143 | 0, 0, 1, 0, 4, 4 > + 0.143 | 1, 0, 0, 0, 4, 4 > + 0.112 | 1, 0, 2, 0, 4, 4 >",
          "0.16 | 0, 0, 1, 0, 4, -4 > + 0.16 | 1, 0, 0, 0, 4, -4 > + 0.15 | 1, 0, 1, 0, 4, -4 >",
          "0.141 | 1, 0, 1, 0, 6, 4 > + 0.094 | 1, 0, 1, 0, 4, 4 > + 0.082 | 1, 0, 0, 0, 6, 4 >",
          "0.137 | 1, 0, 1, 0, 6, 4 > + 0.097 | 1, 0, 1, 0, 4, 4 > + 0.083 | 1, 0, 0, 0, 6, 4 >",
          "0.144 | 1, 0, 1, 0, 6, -1 > + 0.098 | 0, 0, 1, 0, 6, -1 > + 0.098 | 1, 0, 0, 0, 6, -1 >",
          "0.12 | 1, 0, 1, 0, 6, 1 > + 0.102 | 1, 0, 1, 0, 4, 1 > + 0.084 | 1, 0, 0, 0, 6, 1 >",
          "0.12 | 1, 0, 1, 0, 6, 1 > + 0.102 | 1, 0, 1, 0, 4, 1 > + 0.084 | 1, 0, 0, 0, 6, 1 >",
          "0.209 | 1, 0, 1, 0, 4, 3 > + 0.141 | 1, 0, 0, 0, 4, 3 > + 0.141 | 0, 0, 1, 0, 4, 3 >",
          "0.157 | 1, 0, 1, 0, 4, 2 > + 0.105 | 0, 0, 1, 0, 4, 2 > + 0.105 | 1, 0, 0, 0, 4, 2 >",
          "0.188 | 1, 0, 1, 0, 4, 2 > + 0.126 | 1, 0, 0, 0, 4, 2 > + 0.126 | 0, 0, 1, 0, 4, 2 >",
          "0.205 | 1, 0, 1, 0, 4, 2 > + 0.138 | 0, 0, 1, 0, 4, 2 > + 0.138 | 1, 0, 0, 0, 4, 2 >",
          "0.215 | 1, 0, 1, 0, 4, -2 > + 0.145 | 0, 0, 1, 0, 4, -2 > + 0.145 | 1, 0, 0, 0, 4, -2 >",
          "0.221 | 1, 0, 1, 0, 4, 2 > + 0.148 | 0, 0, 1, 0, 4, 2 > + 0.148 | 1, 0, 0, 0, 4, 2 >",
          "0.222 | 1, 0, 1, 0, 4, 2 > + 0.149 | 0, 0, 1, 0, 4, 2 > + 0.149 | 1, 0, 0, 0, 4, 2 >",
          "0.228 | 1, 0, 1, 0, 4, -2 > + 0.153 | 1, 0, 0, 0, 4, -2 > + 0.153 | 0, 0, 1, 0, 4, -2 >",
          "0.23 | 1, 0, 1, 0, 4, -2 > + 0.155 | 1, 0, 0, 0, 4, -2 > + 0.155 | 0, 0, 1, 0, 4, -2 >",
          "0.232 | 1, 0, 1, 0, 4, 2 > + 0.156 | 1, 0, 0, 0, 4, 2 > + 0.156 | 0, 0, 1, 0, 4, 2 >",
          "0.233 | 1, 0, 1, 0, 4, -2 > + 0.156 | 0, 0, 1, 0, 4, -2 > + 0.156 | 1, 0, 0, 0, 4, -2 >"
         ],
         "type": "scatter",
         "x": [
          100,
          140,
          180,
          220,
          260,
          300.00000000000006,
          340,
          380,
          420,
          460,
          500,
          500,
          900,
          1299.9999999999998,
          1700,
          2100,
          2500,
          2900,
          3000,
          4000,
          5000,
          6000,
          7000
         ],
         "y": [
          0.08837169906184436,
          0.4122145791724606,
          0.4664270135679661,
          0.435352739278057,
          0.43056716349738705,
          0.4296400952189787,
          0.4293121348417766,
          0.42899207366860476,
          0.42879752642932284,
          0.4286869738335335,
          0.428625314403521,
          0.428625314403521,
          0.4284326462058221,
          0.42841491039004886,
          0.42840922400002784,
          0.4284066550745353,
          0.4284052471650665,
          0.42840438414988596,
          0.42840422036175013,
          0.4284031951972946,
          0.428402716550365,
          0.4284024546764384,
          0.42840229592036183
         ]
        },
        {
         "name": "State 708",
         "text": [
          "0.031 | 1, 1, 2, -1, 6, 2 > + 0.031 | 2, -1, 1, 1, 6, 2 > + 0.026 | 2, 2, 1, 0, 6, 0 >",
          "0.06 | 1, -1, 1, -1, 2, -1 > + 0.037 | 2, -1, 1, -1, 4, -1 > + 0.037 | 1, -1, 2, -1, 4, -1 >",
          "0.055 | 0, 0, 2, 0, 6, -4 > + 0.055 | 2, 0, 0, 0, 6, -4 > + 0.045 | 2, 0, 1, 0, 6, -4 >",
          "0.138 | 1, 0, 1, 0, 6, 2 > + 0.069 | 1, 0, 1, 0, 2, 2 > + 0.048 | 0, 0, 2, 0, 6, 2 >",
          "0.137 | 1, 0, 0, 0, 4, 4 > + 0.137 | 0, 0, 1, 0, 4, 4 > + 0.124 | 2, 0, 1, 0, 4, 4 >",
          "0.117 | 1, 0, 1, 0, 6, 2 > + 0.084 | 1, 0, 0, 0, 6, 2 > + 0.084 | 0, 0, 1, 0, 6, 2 >",
          "0.058 | 1, 0, 0, 0, 2, 0 > + 0.058 | 0, 0, 1, 0, 2, 0 > + 0.054 | 1, 0, 0, 0, 0, 0 >",
          "0.052 | 1, 0, 0, 0, 2, 0 > + 0.052 | 0, 0, 1, 0, 2, 0 > + 0.052 | 1, 0, 1, 0, 4, 0 >",
          "0.173 | 1, 0, 1, 0, 6, 1 > + 0.108 | 0, 0, 1, 0, 6, 1 > + 0.108 | 1, 0, 0, 0, 6, 1 >",
          "0.124 | 1, 0, 1, 0, 6, -4 > + 0.109 | 1, 0, 1, 0, 4, -4 > + 0.08 | 1, 0, 0, 0, 4, -4 >",
          "0.123 | 1, 0, 1, 0, 4, 4 > + 0.109 | 1, 0, 1, 0, 6, 4 > + 0.09 | 1, 0, 0, 0, 4, 4 >",
          "0.123 | 1, 0, 1, 0, 4, 4 > + 0.109 | 1, 0, 1, 0, 6, 4 > + 0.09 | 1, 0, 0, 0, 4, 4 >",
          "0.165 | 1, 0, 1, 0, 4, -1 > + 0.109 | 0, 0, 1, 0, 4, -1 > + 0.109 | 1, 0, 0, 0, 4, -1 >",
          "0.177 | 1, 0, 1, 0, 4, 1 > + 0.119 | 0, 0, 1, 0, 4, 1 > + 0.119 | 1, 0, 0, 0, 4, 1 >",
          "0.194 | 1, 0, 1, 0, 4, 1 > + 0.13 | 0, 0, 1, 0, 4, 1 > + 0.13 | 1, 0, 0, 0, 4, 1 >",
          "0.205 | 1, 0, 1, 0, 4, 1 > + 0.138 | 1, 0, 0, 0, 4, 1 > + 0.138 | 0, 0, 1, 0, 4, 1 >",
          "0.213 | 1, 0, 1, 0, 4, -1 > + 0.143 | 0, 0, 1, 0, 4, -1 > + 0.143 | 1, 0, 0, 0, 4, -1 >",
          "0.218 | 1, 0, 1, 0, 4, 1 > + 0.147 | 0, 0, 1, 0, 4, 1 > + 0.147 | 1, 0, 0, 0, 4, 1 >",
          "0.218 | 1, 0, 1, 0, 4, 1 > + 0.147 | 0, 0, 1, 0, 4, 1 > + 0.147 | 1, 0, 0, 0, 4, 1 >",
          "0.224 | 1, 0, 1, 0, 4, -1 > + 0.15 | 1, 0, 0, 0, 4, -1 > + 0.15 | 0, 0, 1, 0, 4, -1 >",
          "0.229 | 1, 0, 1, 0, 4, 1 > + 0.154 | 0, 0, 1, 0, 4, 1 > + 0.154 | 1, 0, 0, 0, 4, 1 >",
          "0.23 | 1, 0, 1, 0, 4, 1 > + 0.155 | 0, 0, 1, 0, 4, 1 > + 0.155 | 1, 0, 0, 0, 4, 1 >",
          "0.232 | 1, 0, 1, 0, 4, -1 > + 0.156 | 1, 0, 0, 0, 4, -1 > + 0.156 | 0, 0, 1, 0, 4, -1 >"
         ],
         "type": "scatter",
         "x": [
          100,
          140,
          180,
          220,
          260,
          300.00000000000006,
          340,
          380,
          420,
          460,
          500,
          500,
          900,
          1299.9999999999998,
          1700,
          2100,
          2500,
          2900,
          3000,
          4000,
          5000,
          6000,
          7000
         ],
         "y": [
          0.08508185932242814,
          0.4108180688116506,
          0.4659701282103775,
          0.434902748168888,
          0.42979248799724235,
          0.42946375947043236,
          0.42918516477566776,
          0.42896047756608313,
          0.4287899717168357,
          0.4286850960634162,
          0.4286149930511639,
          0.4286149930511639,
          0.4284287405699793,
          0.42841343253479297,
          0.4284086286447381,
          0.4284063512902456,
          0.42840506813083207,
          0.42840426862078146,
          0.42840411572856835,
          0.42840314973085464,
          0.4284026926806773,
          0.4284024405976882,
          0.4284022869250401
         ]
        },
        {
         "name": "State 707",
         "text": [
          "0.061 | 2, 1, 1, 1, 6, 2 > + 0.061 | 1, 1, 2, 1, 6, 2 > + 0.048 | 2, 0, 1, 1, 6, 3 >",
          "0.078 | 1, 1, 2, 2, 2, -1 > + 0.078 | 2, 2, 1, 1, 2, -1 > + 0.063 | 2, 2, 1, 1, 6, -1 >",
          "0.085 | 2, -1, 1, 0, 6, 6 > + 0.085 | 1, 0, 2, -1, 6, 6 > + 0.053 | 2, 1, 1, 0, 4, 4 >",
          "0.138 | 1, 0, 1, 0, 6, -2 > + 0.069 | 1, 0, 1, 0, 2, -2 > + 0.048 | 0, 0, 2, 0, 6, -2 >",
          "0.09 | 0, 0, 1, 0, 4, -3 > + 0.09 | 1, 0, 0, 0, 4, -3 > + 0.078 | 1, 0, 1, 0, 6, -3 >",
          "0.117 | 1, 0, 1, 0, 6, -2 > + 0.084 | 1, 0, 0, 0, 6, -2 > + 0.084 | 0, 0, 1, 0, 6, -2 >",
          "0.1 | 1, 0, 1, 0, 4, 3 > + 0.096 | 0, 0, 1, 0, 4, 3 > + 0.096 | 1, 0, 0, 0, 4, 3 >",
          "0.115 | 1, 0, 1, 0, 4, -3 > + 0.101 | 1, 0, 0, 0, 4, -3 > + 0.101 | 0, 0, 1, 0, 4, -3 >",
          "0.145 | 1, 0, 1, 0, 4, -3 > + 0.115 | 0, 0, 1, 0, 4, -3 > + 0.115 | 1, 0, 0, 0, 4, -3 >",
          "0.204 | 1, 0, 1, 0, 4, -3 > + 0.148 | 0, 0, 1, 0, 4, -3 > + 0.148 | 1, 0, 0, 0, 4, -3 >",
          "0.229 | 1, 0, 1, 0, 4, -3 > + 0.156 | 1, 0, 0, 0, 4, -3 > + 0.156 | 0, 0, 1, 0, 4, -3 >",
          "0.229 | 1, 0, 1, 0, 4, -3 > + 0.156 | 1, 0, 0, 0, 4, -3 > + 0.156 | 0, 0, 1, 0, 4, -3 >",
          "0.165 | 1, 0, 1, 0, 4, 1 > + 0.109 | 0, 0, 1, 0, 4, 1 > + 0.109 | 1, 0, 0, 0, 4, 1 >",
          "0.177 | 1, 0, 1, 0, 4, -1 > + 0.119 | 1, 0, 0, 0, 4, -1 > + 0.119 | 0, 0, 1, 0, 4, -1 >",
          "0.181 | 1, 0, 1, 0, 4, 0 > + 0.121 | 1, 0, 0, 0, 4, 0 > + 0.121 | 0, 0, 1, 0, 4, 0 >",
          "0.198 | 1, 0, 1, 0, 4, 0 > + 0.133 | 0, 0, 1, 0, 4, 0 > + 0.133 | 1, 0, 0, 0, 4, 0 >",
          "0.209 | 1, 0, 1, 0, 4, 0 > + 0.14 | 0, 0, 1, 0, 4, 0 > + 0.14 | 1, 0, 0, 0, 4, 0 >",
          "0.215 | 1, 0, 1, 0, 4, 0 > + 0.145 | 0, 0, 1, 0, 4, 0 > + 0.145 | 1, 0, 0, 0, 4, 0 >",
          "0.216 | 1, 0, 1, 0, 4, 0 > + 0.145 | 1, 0, 0, 0, 4, 0 > + 0.145 | 0, 0, 1, 0, 4, 0 >",
          "0.224 | 1, 0, 1, 0, 4, 0 > + 0.151 | 0, 0, 1, 0, 4, 0 > + 0.151 | 1, 0, 0, 0, 4, 0 >",
          "0.228 | 1, 0, 1, 0, 4, 0 > + 0.153 | 1, 0, 0, 0, 4, 0 > + 0.153 | 0, 0, 1, 0, 4, 0 >",
          "0.23 | 1, 0, 1, 0, 4, 0 > + 0.155 | 0, 0, 1, 0, 4, 0 > + 0.155 | 1, 0, 0, 0, 4, 0 >",
          "0.231 | 1, 0, 1, 0, 4, 0 > + 0.155 | 0, 0, 1, 0, 4, 0 > + 0.155 | 1, 0, 0, 0, 4, 0 >"
         ],
         "type": "scatter",
         "x": [
          100,
          140,
          180,
          220,
          260,
          300.00000000000006,
          340,
          380,
          420,
          460,
          500,
          500,
          900,
          1299.9999999999998,
          1700,
          2100,
          2500,
          2900,
          3000,
          4000,
          5000,
          6000,
          7000
         ],
         "y": [
          0.08378710881227426,
          0.41073658221492587,
          0.46472171680283586,
          0.43490274816888763,
          0.4295278337164125,
          0.42946375947043086,
          0.42909552066002893,
          0.4289086428579804,
          0.4287776310117719,
          0.42868155034325883,
          0.4286049666236242,
          0.4286049666236242,
          0.42842874056997915,
          0.4284134325347896,
          0.428408581928228,
          0.4284062937072285,
          0.4284050239006216,
          0.4284042365405704,
          0.42840408612637126,
          0.42840313562116156,
          0.4284026850535894,
          0.42840243604273315,
          0.42840228399580466
         ]
        },
        {
         "name": "State 709",
         "text": [
          "0.031 | 2, 1, 1, -1, 6, -2 > + 0.031 | 1, -1, 2, 1, 6, -2 > + 0.026 | 2, -2, 1, 0, 6, 0 >",
          "0.06 | 1, 1, 1, 1, 2, 1 > + 0.037 | 1, 1, 2, 1, 4, 1 > + 0.037 | 2, 1, 1, 1, 4, 1 >",
          "0.055 | 2, 0, 0, 0, 6, 4 > + 0.055 | 0, 0, 2, 0, 6, 4 > + 0.045 | 2, 0, 1, 0, 6, 4 >",
          "0.071 | 0, 0, 2, 0, 6, 3 > + 0.071 | 2, 0, 0, 0, 6, 3 > + 0.07 | 2, 0, 0, 0, 4, 3 >",
          "0.137 | 0, 0, 1, 0, 4, -4 > + 0.137 | 1, 0, 0, 0, 4, -4 > + 0.124 | 1, 0, 2, 0, 4, -4 >",
          "0.155 | 1, 0, 1, 0, 2, -2 > + 0.152 | 1, 0, 0, 0, 2, -2 > + 0.152 | 0, 0, 1, 0, 2, -2 >",
          "0.101 | 1, 0, 0, 0, 2, -2 > + 0.101 | 0, 0, 1, 0, 2, -2 > + 0.089 | 1, 0, 1, 0, 2, -2 >",
          "0.082 | 0, 0, 1, 0, 2, -2 > + 0.082 | 1, 0, 0, 0, 2, -2 > + 0.079 | 1, 0, 1, 0, 2, -2 >",
          "0.173 | 1, 0, 1, 0, 6, -1 > + 0.108 | 0, 0, 1, 0, 6, -1 > + 0.108 | 1, 0, 0, 0, 6, -1 >",
          "0.124 | 1, 0, 1, 0, 6, 4 > + 0.109 | 1, 0, 1, 0, 4, 4 > + 0.08 | 1, 0, 0, 0, 4, 4 >",
          "0.123 | 1, 0, 1, 0, 4, -4 > + 0.109 | 1, 0, 1, 0, 6, -4 > + 0.09 | 0, 0, 1, 0, 4, -4 >",
          "0.123 | 1, 0, 1, 0, 4, -4 > + 0.109 | 1, 0, 1, 0, 6, -4 > + 0.09 | 0, 0, 1, 0, 4, -4 >",
          "0.117 | 1, 0, 1, 0, 4, 0 > + 0.077 | 0, 0, 1, 0, 4, 0 > + 0.077 | 1, 0, 0, 0, 4, 0 >",
          "0.151 | 1, 0, 1, 0, 4, 0 > + 0.101 | 0, 0, 1, 0, 4, 0 > + 0.101 | 1, 0, 0, 0, 4, 0 >",
          "0.194 | 1, 0, 1, 0, 4, -1 > + 0.13 | 1, 0, 0, 0, 4, -1 > + 0.13 | 0, 0, 1, 0, 4, -1 >",
          "0.205 | 1, 0, 1, 0, 4, -1 > + 0.138 | 1, 0, 0, 0, 4, -1 > + 0.138 | 0, 0, 1, 0, 4, -1 >",
          "0.213 | 1, 0, 1, 0, 4, 1 > + 0.143 | 1, 0, 0, 0, 4, 1 > + 0.143 | 0, 0, 1, 0, 4, 1 >",
          "0.218 | 1, 0, 1, 0, 4, -1 > + 0.147 | 1, 0, 0, 0, 4, -1 > + 0.147 | 0, 0, 1, 0, 4, -1 >",
          "0.218 | 1, 0, 1, 0, 4, -1 > + 0.147 | 0, 0, 1, 0, 4, -1 > + 0.147 | 1, 0, 0, 0, 4, -1 >",
          "0.224 | 1, 0, 1, 0, 4, 1 > + 0.15 | 1, 0, 0, 0, 4, 1 > + 0.15 | 0, 0, 1, 0, 4, 1 >",
          "0.229 | 1, 0, 1, 0, 4, -1 > + 0.154 | 1, 0, 0, 0, 4, -1 > + 0.154 | 0, 0, 1, 0, 4, -1 >",
          "0.23 | 1, 0, 1, 0, 4, -1 > + 0.155 | 0, 0, 1, 0, 4, -1 > + 0.155 | 1, 0, 0, 0, 4, -1 >",
          "0.232 | 1, 0, 1, 0, 4, 1 > + 0.156 | 0, 0, 1, 0, 4, 1 > + 0.156 | 1, 0, 0, 0, 4, 1 >"
         ],
         "type": "scatter",
         "x": [
          100,
          140,
          180,
          220,
          260,
          300.00000000000006,
          340,
          380,
          420,
          460,
          500,
          500,
          900,
          1299.9999999999998,
          1700,
          2100,
          2500,
          2900,
          3000,
          4000,
          5000,
          6000,
          7000
         ],
         "y": [
          0.08508185932242854,
          0.41081806881165156,
          0.46597012821037775,
          0.43495760206862294,
          0.4297924879972427,
          0.4295190544115482,
          0.42921490153420394,
          0.42898282843977037,
          0.4287899717168382,
          0.4286850960634163,
          0.428614993051165,
          0.428614993051165,
          0.4284307934784293,
          0.4284136163105306,
          0.42840862864474033,
          0.428406351290247,
          0.42840506813083556,
          0.4284042686207833,
          0.4284041157285685,
          0.42840314973085486,
          0.4284026926806793,
          0.4284024405976903,
          0.4284022869250418
         ]
        },
        {
         "name": "State 710",
         "text": [
          "0.045 | 0, 0, 2, -1, 6, -2 > + 0.045 | 2, -1, 0, 0, 6, -2 > + 0.034 | 2, 0, 1, -1, 6, -2 >",
          "0.036 | 2, 0, 1, -1, 6, 5 > + 0.036 | 1, -1, 2, 0, 6, 5 > + 0.032 | 0, 0, 0, 0, 6, 4 >",
          "0.06 | 0, 0, 2, 0, 6, -3 > + 0.06 | 2, 0, 0, 0, 6, -3 > + 0.043 | 1, 0, 2, 0, 6, -3 >",
          "0.071 | 0, 0, 2, 0, 6, -3 > + 0.071 | 2, 0, 0, 0, 6, -3 > + 0.07 | 2, 0, 0, 0, 4, -3 >",
          "0.103 | 1, 0, 1, 0, 6, 0 > + 0.073 | 1, 0, 1, 0, 0, 0 > + 0.051 | 1, 0, 0, 0, 0, 0 >",
          "0.155 | 1, 0, 1, 0, 2, 2 > + 0.152 | 1, 0, 0, 0, 2, 2 > + 0.152 | 0, 0, 1, 0, 2, 2 >",
          "0.101 | 0, 0, 1, 0, 2, 2 > + 0.101 | 1, 0, 0, 0, 2, 2 > + 0.089 | 1, 0, 1, 0, 2, 2 >",
          "0.082 | 0, 0, 1, 0, 2, 2 > + 0.082 | 1, 0, 0, 0, 2, 2 > + 0.079 | 1, 0, 1, 0, 2, 2 >",
          "0.137 | 1, 0, 1, 0, 6, -4 > + 0.097 | 1, 0, 1, 0, 4, -4 > + 0.083 | 0, 0, 1, 0, 6, -4 >",
          "0.144 | 1, 0, 1, 0, 6, 1 > + 0.098 | 1, 0, 0, 0, 6, 1 > + 0.098 | 0, 0, 1, 0, 6, 1 >",
          "0.142 | 1, 0, 1, 0, 2, 0 > + 0.096 | 0, 0, 1, 0, 2, 0 > + 0.096 | 1, 0, 0, 0, 2, 0 >",
          "0.142 | 1, 0, 1, 0, 2, 0 > + 0.096 | 0, 0, 1, 0, 2, 0 > + 0.096 | 1, 0, 0, 0, 2, 0 >",
          "0.209 | 1, 0, 1, 0, 4, -3 > + 0.141 | 1, 0, 0, 0, 4, -3 > + 0.141 | 0, 0, 1, 0, 4, -3 >",
          "0.157 | 1, 0, 1, 0, 4, -2 > + 0.105 | 1, 0, 0, 0, 4, -2 > + 0.105 | 0, 0, 1, 0, 4, -2 >",
          "0.188 | 1, 0, 1, 0, 4, -2 > + 0.126 | 1, 0, 0, 0, 4, -2 > + 0.126 | 0, 0, 1, 0, 4, -2 >",
          "0.205 | 1, 0, 1, 0, 4, -2 > + 0.138 | 1, 0, 0, 0, 4, -2 > + 0.138 | 0, 0, 1, 0, 4, -2 >",
          "0.215 | 1, 0, 1, 0, 4, 2 > + 0.145 | 1, 0, 0, 0, 4, 2 > + 0.145 | 0, 0, 1, 0, 4, 2 >",
          "0.221 | 1, 0, 1, 0, 4, -2 > + 0.148 | 1, 0, 0, 0, 4, -2 > + 0.148 | 0, 0, 1, 0, 4, -2 >",
          "0.222 | 1, 0, 1, 0, 4, -2 > + 0.149 | 0, 0, 1, 0, 4, -2 > + 0.149 | 1, 0, 0, 0, 4, -2 >",
          "0.228 | 1, 0, 1, 0, 4, 2 > + 0.153 | 0, 0, 1, 0, 4, 2 > + 0.153 | 1, 0, 0, 0, 4, 2 >",
          "0.23 | 1, 0, 1, 0, 4, 2 > + 0.155 | 0, 0, 1, 0, 4, 2 > + 0.155 | 1, 0, 0, 0, 4, 2 >",
          "0.232 | 1, 0, 1, 0, 4, -2 > + 0.156 | 1, 0, 0, 0, 4, -2 > + 0.156 | 0, 0, 1, 0, 4, -2 >",
          "0.233 | 1, 0, 1, 0, 4, 2 > + 0.156 | 1, 0, 0, 0, 4, 2 > + 0.156 | 0, 0, 1, 0, 4, 2 >"
         ],
         "type": "scatter",
         "x": [
          100,
          140,
          180,
          220,
          260,
          300.00000000000006,
          340,
          380,
          420,
          460,
          500,
          500,
          900,
          1299.9999999999998,
          1700,
          2100,
          2500,
          2900,
          3000,
          4000,
          5000,
          6000,
          7000
         ],
         "y": [
          0.08837169906184333,
          0.41221457917246046,
          0.46642701356796595,
          0.43495760206862333,
          0.4302304659534777,
          0.4295190544115494,
          0.4292149015342048,
          0.4289828284397713,
          0.4287975264293217,
          0.42868697383353205,
          0.4286224901255516,
          0.4286224901255516,
          0.4284326462058212,
          0.42841491039004864,
          0.42840922400002646,
          0.42840665507453274,
          0.42840524716506617,
          0.42840438414988524,
          0.42840422036174947,
          0.42840319519729453,
          0.4284027165503639,
          0.4284024546764383,
          0.42840229592035967
         ]
        },
        {
         "name": "State 712",
         "text": [
          "0.119 | 2, 2, 2, -2, 4, -4 > + 0.119 | 2, -2, 2, 2, 4, -4 > + 0.043 | 3, 3, 1, -1, 6, -6 >",
          "0.072 | 2, -1, 1, 1, 6, 6 > + 0.072 | 1, 1, 2, -1, 6, 6 > + 0.06 | 2, 0, 0, 0, 6, 6 >",
          "0.068 | 2, 0, 0, 0, 6, 0 > + 0.068 | 0, 0, 2, 0, 6, 0 > + 0.059 | 1, 0, 0, 0, 6, 0 >",
          "0.09 | 0, 0, 2, 0, 4, -2 > + 0.09 | 2, 0, 0, 0, 4, -2 > + 0.06 | 2, 0, 1, 0, 4, -2 >",
          "0.117 | 1, 0, 1, 0, 6, 2 > + 0.079 | 1, 0, 1, 0, 2, 2 > + 0.055 | 1, 0, 0, 0, 6, 2 >",
          "0.143 | 1, 0, 0, 0, 4, -4 > + 0.143 | 0, 0, 1, 0, 4, -4 > + 0.112 | 2, 0, 1, 0, 4, -4 >",
          "0.16 | 0, 0, 1, 0, 4, 4 > + 0.16 | 1, 0, 0, 0, 4, 4 > + 0.15 | 1, 0, 1, 0, 4, 4 >",
          "0.141 | 1, 0, 1, 0, 6, -4 > + 0.094 | 1, 0, 1, 0, 4, -4 > + 0.082 | 1, 0, 0, 0, 6, -4 >",
          "0.066 | 1, 0, 1, 0, 4, 0 > + 0.058 | 0, 0, 1, 0, 4, 0 > + 0.058 | 1, 0, 0, 0, 4, 0 >",
          "0.084 | 1, 0, 1, 0, 4, 0 > + 0.067 | 1, 0, 0, 0, 4, 0 > + 0.067 | 0, 0, 1, 0, 4, 0 >",
          "0.12 | 1, 0, 1, 0, 6, -1 > + 0.102 | 1, 0, 1, 0, 4, -1 > + 0.084 | 1, 0, 0, 0, 6, -1 >",
          "0.12 | 1, 0, 1, 0, 6, -1 > + 0.102 | 1, 0, 1, 0, 4, -1 > + 0.084 | 1, 0, 0, 0, 6, -1 >",
          "0.115 | 1, 0, 1, 0, 4, -2 > + 0.089 | 1, 0, 1, 0, 2, -2 > + 0.077 | 0, 0, 1, 0, 4, -2 >",
          "0.22 | 1, 0, 1, 0, 4, 3 > + 0.148 | 1, 0, 0, 0, 4, 3 > + 0.148 | 0, 0, 1, 0, 4, 3 >",
          "0.226 | 1, 0, 1, 0, 4, -3 > + 0.152 | 0, 0, 1, 0, 4, -3 > + 0.152 | 1, 0, 0, 0, 4, -3 >",
          "0.229 | 1, 0, 1, 0, 4, 3 > + 0.154 | 1, 0, 0, 0, 4, 3 > + 0.154 | 0, 0, 1, 0, 4, 3 >",
          "0.23 | 1, 0, 1, 0, 4, 3 > + 0.155 | 0, 0, 1, 0, 4, 3 > + 0.155 | 1, 0, 0, 0, 4, 3 >",
          "0.232 | 1, 0, 1, 0, 4, 3 > + 0.156 | 0, 0, 1, 0, 4, 3 > + 0.156 | 1, 0, 0, 0, 4, 3 >",
          "0.232 | 1, 0, 1, 0, 4, -3 > + 0.156 | 0, 0, 1, 0, 4, -3 > + 0.156 | 1, 0, 0, 0, 4, -3 >",
          "0.233 | 1, 0, 1, 0, 4, 3 > + 0.157 | 1, 0, 0, 0, 4, 3 > + 0.157 | 0, 0, 1, 0, 4, 3 >",
          "0.234 | 1, 0, 1, 0, 4, 3 > + 0.157 | 0, 0, 1, 0, 4, 3 > + 0.157 | 1, 0, 0, 0, 4, 3 >",
          "0.234 | 1, 0, 1, 0, 4, 3 > + 0.157 | 1, 0, 0, 0, 4, 3 > + 0.157 | 0, 0, 1, 0, 4, 3 >",
          "0.234 | 1, 0, 1, 0, 4, 3 > + 0.157 | 1, 0, 0, 0, 4, 3 > + 0.157 | 0, 0, 1, 0, 4, 3 >"
         ],
         "type": "scatter",
         "x": [
          100,
          140,
          180,
          220,
          260,
          300.00000000000006,
          340,
          380,
          420,
          460,
          500,
          500,
          900,
          1299.9999999999998,
          1700,
          2100,
          2500,
          2900,
          3000,
          4000,
          5000,
          6000,
          7000
         ],
         "y": [
          0.08891019965936135,
          0.4139629498706659,
          0.4664433956264806,
          0.4362858518299564,
          0.4305671634973872,
          0.4296400952189802,
          0.4293121348417767,
          0.42899207366860503,
          0.4288056261557328,
          0.4287018928307565,
          0.4286253144035215,
          0.4286253144035215,
          0.42843361269578223,
          0.4284156756406731,
          0.4284098450533409,
          0.4284070660914323,
          0.42840551930162046,
          0.4284045701591548,
          0.4284043904263451,
          0.42840327255037114,
          0.4284027576149884,
          0.4284024789459105,
          0.42840231141437474
         ]
        },
        {
         "name": "State 714",
         "text": [
          "0.045 | 1, 0, 2, -2, 6, -2 > + 0.045 | 2, -2, 1, 0, 6, -2 > + 0.042 | 2, 0, 1, -1, 6, -3 >",
          "0.025 | 0, 0, 2, 1, 6, 1 > + 0.025 | 2, 1, 0, 0, 6, 1 > + 0.025 | 0, 0, 2, -1, 6, 3 >",
          "0.065 | 2, 0, 0, 0, 6, 1 > + 0.065 | 0, 0, 2, 0, 6, 1 > + 0.054 | 0, 0, 1, 0, 6, 1 >",
          "0.095 | 0, 0, 2, 0, 4, 0 > + 0.095 | 2, 0, 0, 0, 4, 0 > + 0.076 | 1, 0, 0, 0, 4, 0 >",
          "0.171 | 1, 0, 1, 0, 6, 5 > + 0.158 | 0, 0, 1, 0, 6, 5 > + 0.158 | 1, 0, 0, 0, 6, 5 >",
          "0.186 | 1, 0, 1, 0, 6, 5 > + 0.165 | 0, 0, 1, 0, 6, 5 > + 0.165 | 1, 0, 0, 0, 6, 5 >",
          "0.198 | 1, 0, 1, 0, 6, 5 > + 0.166 | 0, 0, 1, 0, 6, 5 > + 0.166 | 1, 0, 0, 0, 6, 5 >",
          "0.136 | 1, 0, 1, 0, 2, 1 > + 0.129 | 1, 0, 1, 0, 6, 1 > + 0.072 | 0, 0, 1, 0, 2, 1 >",
          "0.073 | 1, 0, 1, 0, 4, 2 > + 0.067 | 1, 0, 1, 0, 2, 2 > + 0.065 | 1, 0, 0, 0, 2, 2 >",
          "0.092 | 1, 0, 1, 0, 4, -2 > + 0.074 | 1, 0, 0, 0, 4, -2 > + 0.074 | 0, 0, 1, 0, 4, -2 >",
          "0.13 | 1, 0, 1, 0, 4, 2 > + 0.095 | 0, 0, 1, 0, 4, 2 > + 0.095 | 1, 0, 0, 0, 4, 2 >",
          "0.13 | 1, 0, 1, 0, 4, 2 > + 0.095 | 0, 0, 1, 0, 4, 2 > + 0.095 | 1, 0, 0, 0, 4, 2 >",
          "0.205 | 1, 0, 1, 0, 4, -4 > + 0.141 | 0, 0, 1, 0, 4, -4 > + 0.141 | 1, 0, 0, 0, 4, -4 >",
          "0.223 | 1, 0, 1, 0, 4, -4 > + 0.151 | 1, 0, 0, 0, 4, -4 > + 0.151 | 0, 0, 1, 0, 4, -4 >",
          "0.229 | 1, 0, 1, 0, 4, -4 > + 0.154 | 1, 0, 0, 0, 4, -4 > + 0.154 | 0, 0, 1, 0, 4, -4 >",
          "0.231 | 1, 0, 1, 0, 4, -4 > + 0.156 | 0, 0, 1, 0, 4, -4 > + 0.156 | 1, 0, 0, 0, 4, -4 >",
          "0.232 | 1, 0, 1, 0, 4, 4 > + 0.156 | 1, 0, 0, 0, 4, 4 > + 0.156 | 0, 0, 1, 0, 4, 4 >",
          "0.233 | 1, 0, 1, 0, 4, 4 > + 0.157 | 1, 0, 0, 0, 4, 4 > + 0.157 | 0, 0, 1, 0, 4, 4 >",
          "0.233 | 1, 0, 1, 0, 4, 4 > + 0.157 | 1, 0, 0, 0, 4, 4 > + 0.157 | 0, 0, 1, 0, 4, 4 >",
          "0.234 | 1, 0, 1, 0, 4, 4 > + 0.157 | 0, 0, 1, 0, 4, 4 > + 0.157 | 1, 0, 0, 0, 4, 4 >",
          "0.234 | 1, 0, 1, 0, 4, -4 > + 0.157 | 0, 0, 1, 0, 4, -4 > + 0.157 | 1, 0, 0, 0, 4, -4 >",
          "0.234 | 1, 0, 1, 0, 4, 4 > + 0.158 | 0, 0, 1, 0, 4, 4 > + 0.158 | 1, 0, 0, 0, 4, 4 >",
          "0.234 | 1, 0, 1, 0, 4, 4 > + 0.158 | 0, 0, 1, 0, 4, 4 > + 0.158 | 1, 0, 0, 0, 4, 4 >"
         ],
         "type": "scatter",
         "x": [
          100,
          140,
          180,
          220,
          260,
          300.00000000000006,
          340,
          380,
          420,
          460,
          500,
          500,
          900,
          1299.9999999999998,
          1700,
          2100,
          2500,
          2900,
          3000,
          4000,
          5000,
          6000,
          7000
         ],
         "y": [
          0.0889419652401593,
          0.414224510846982,
          0.4664826820464668,
          0.4365051932678066,
          0.4307978458239422,
          0.4298550013494337,
          0.4293407394090988,
          0.4290427238608358,
          0.428822920070988,
          0.42871622183438446,
          0.42864275988361333,
          0.42864275988361333,
          0.42844380827356715,
          0.4284196124321875,
          0.4284115995690567,
          0.42840798771850036,
          0.428406060566261,
          0.42840491429973054,
          0.428404700769277,
          0.4284034018111448,
          0.4284028232590139,
          0.4284025167229825,
          0.42840233510810316
         ]
        },
        {
         "name": "State 728",
         "text": [
          "0.119 | 1, 1, 2, 1, 6, 5 > + 0.119 | 2, 1, 1, 1, 6, 5 > + 0.102 | 2, 2, 0, 0, 6, 5 >",
          "0.167 | 2, 2, 1, 1, 4, 3 > + 0.167 | 1, 1, 2, 2, 4, 3 > + 0.077 | 1, 1, 2, 1, 6, 4 >",
          "0.089 | 2, 2, 1, -1, 4, -1 > + 0.089 | 1, 1, 2, -2, 4, 1 > + 0.089 | 1, -1, 2, 2, 4, -1 >",
          "0.179 | 1, 0, 1, 0, 2, 0 > + 0.157 | 1, 0, 1, 0, 4, 0 > + 0.088 | 2, 0, 0, 0, 2, 0 >",
          "0.169 | 1, 0, 1, 0, 2, 0 > + 0.151 | 1, 0, 1, 0, 4, 0 > + 0.095 | 2, 0, 0, 0, 2, 0 >",
          "0.162 | 1, 0, 1, 0, 2, 0 > + 0.148 | 1, 0, 1, 0, 4, 0 > + 0.09 | 0, 0, 2, 0, 2, 0 >",
          "0.152 | 1, 0, 1, 0, 2, 0 > + 0.143 | 1, 0, 1, 0, 4, 0 > + 0.079 | 0, 0, 2, 0, 2, 0 >",
          "0.139 | 1, 0, 1, 0, 2, 0 > + 0.138 | 1, 0, 1, 0, 4, 0 > + 0.066 | 2, 0, 0, 0, 2, 0 >",
          "0.132 | 1, 0, 1, 0, 4, 0 > + 0.125 | 1, 0, 1, 0, 2, 0 > + 0.056 | 0, 0, 2, 0, 4, 0 >",
          "0.129 | 1, 0, 1, 0, 4, 0 > + 0.109 | 1, 0, 1, 0, 2, 0 > + 0.05 | 0, 0, 1, 0, 4, 0 >",
          "0.127 | 1, 0, 1, 0, 4, 0 > + 0.092 | 1, 0, 1, 0, 2, 0 > + 0.057 | 1, 0, 1, 0, 6, 0 >",
          "0.127 | 1, 0, 1, 0, 4, 0 > + 0.092 | 1, 0, 1, 0, 2, 0 > + 0.057 | 1, 0, 1, 0, 6, 0 >",
          "0.23 | 1, 0, 1, 0, 6, 6 > + 0.16 | 0, 0, 1, 0, 6, 6 > + 0.16 | 1, 0, 0, 0, 6, 6 >",
          "0.233 | 1, 0, 1, 0, 6, -6 > + 0.158 | 0, 0, 1, 0, 6, -6 > + 0.158 | 1, 0, 0, 0, 6, -6 >",
          "0.234 | 1, 0, 1, 0, 6, 6 > + 0.158 | 0, 0, 1, 0, 6, 6 > + 0.158 | 1, 0, 0, 0, 6, 6 >",
          "0.234 | 1, 0, 1, 0, 6, 6 > + 0.158 | 1, 0, 0, 0, 6, 6 > + 0.158 | 0, 0, 1, 0, 6, 6 >",
          "0.234 | 1, 0, 1, 0, 6, -6 > + 0.158 | 1, 0, 0, 0, 6, -6 > + 0.158 | 0, 0, 1, 0, 6, -6 >",
          "0.234 | 1, 0, 1, 0, 6, -6 > + 0.158 | 1, 0, 0, 0, 6, -6 > + 0.158 | 0, 0, 1, 0, 6, -6 >",
          "0.234 | 1, 0, 1, 0, 6, -6 > + 0.158 | 1, 0, 0, 0, 6, -6 > + 0.158 | 0, 0, 1, 0, 6, -6 >",
          "0.234 | 1, 0, 1, 0, 6, -6 > + 0.158 | 1, 0, 0, 0, 6, -6 > + 0.158 | 0, 0, 1, 0, 6, -6 >",
          "0.235 | 1, 0, 1, 0, 6, -6 > + 0.158 | 1, 0, 0, 0, 6, -6 > + 0.158 | 0, 0, 1, 0, 6, -6 >",
          "0.235 | 1, 0, 1, 0, 6, -6 > + 0.158 | 0, 0, 1, 0, 6, -6 > + 0.158 | 1, 0, 0, 0, 6, -6 >",
          "0.235 | 1, 0, 1, 0, 6, -6 > + 0.158 | 1, 0, 0, 0, 6, -6 > + 0.158 | 0, 0, 1, 0, 6, -6 >"
         ],
         "type": "scatter",
         "x": [
          100,
          140,
          180,
          220,
          260,
          300.00000000000006,
          340,
          380,
          420,
          460,
          500,
          500,
          900,
          1299.9999999999998,
          1700,
          2100,
          2500,
          2900,
          3000,
          4000,
          5000,
          6000,
          7000
         ],
         "y": [
          0.09567503070181507,
          0.4203182660388525,
          0.47608871271649555,
          0.47602604934232107,
          0.4520751802600529,
          0.44034476363840336,
          0.43445952584416236,
          0.431515746572237,
          0.43004651901643565,
          0.4293019549640725,
          0.42891382098195663,
          0.42891382098195663,
          0.4284781024426581,
          0.42843506811459126,
          0.4284204334647578,
          0.42841371096525815,
          0.4284100716938059,
          0.42840788206057817,
          0.42840747155109865,
          0.42840495121958044,
          0.42840381173610387,
          0.4284032018092327,
          0.42840283775918275
         ]
        },
        {
         "name": "State 726",
         "text": [
          "0.114 | 1, -1, 2, 2, 6, 6 > + 0.114 | 2, 2, 1, -1, 6, 6 > + 0.075 | 0, 0, 3, 3, 4, 4 >",
          "0.042 | 2, 1, 1, 0, 4, 2 > + 0.042 | 1, 0, 2, 1, 4, 2 > + 0.036 | 1, 1, 1, 1, 4, 1 >",
          "0.119 | 1, 0, 1, 0, 6, 4 > + 0.041 | 0, 0, 2, -1, 6, 5 > + 0.041 | 2, -1, 0, 0, 6, 5 >",
          "0.214 | 1, 0, 1, 0, 4, 1 > + 0.099 | 2, 0, 0, 0, 4, 1 > + 0.099 | 0, 0, 2, 0, 4, 1 >",
          "0.21 | 1, 0, 1, 0, 4, -1 > + 0.111 | 0, 0, 2, 0, 4, -1 > + 0.111 | 2, 0, 0, 0, 4, -1 >",
          "0.205 | 1, 0, 1, 0, 4, 1 > + 0.106 | 2, 0, 0, 0, 4, 1 > + 0.106 | 0, 0, 2, 0, 4, 1 >",
          "0.194 | 1, 0, 1, 0, 4, 1 > + 0.092 | 2, 0, 0, 0, 4, 1 > + 0.092 | 0, 0, 2, 0, 4, 1 >",
          "0.183 | 1, 0, 1, 0, 4, -1 > + 0.089 | 1, 0, 1, 0, 6, -1 > + 0.079 | 0, 0, 2, 0, 4, -1 >",
          "0.171 | 1, 0, 1, 0, 4, -1 > + 0.089 | 1, 0, 1, 0, 6, -1 > + 0.067 | 0, 0, 2, 0, 4, -1 >",
          "0.159 | 1, 0, 1, 0, 4, 1 > + 0.093 | 1, 0, 1, 0, 6, 1 > + 0.068 | 0, 0, 1, 0, 4, 1 >",
          "0.142 | 1, 0, 1, 0, 4, -1 > + 0.107 | 1, 0, 1, 0, 6, -1 > + 0.067 | 1, 0, 0, 0, 4, -1 >",
          "0.142 | 1, 0, 1, 0, 4, -1 > + 0.107 | 1, 0, 1, 0, 6, -1 > + 0.067 | 1, 0, 0, 0, 4, -1 >",
          "0.232 | 1, 0, 1, 0, 6, 5 > + 0.159 | 0, 0, 1, 0, 6, 5 > + 0.159 | 1, 0, 0, 0, 6, 5 >",
          "0.234 | 1, 0, 1, 0, 6, 5 > + 0.158 | 0, 0, 1, 0, 6, 5 > + 0.158 | 1, 0, 0, 0, 6, 5 >",
          "0.234 | 1, 0, 1, 0, 6, 5 > + 0.158 | 0, 0, 1, 0, 6, 5 > + 0.158 | 1, 0, 0, 0, 6, 5 >",
          "0.234 | 1, 0, 1, 0, 6, -5 > + 0.158 | 0, 0, 1, 0, 6, -5 > + 0.158 | 1, 0, 0, 0, 6, -5 >",
          "0.234 | 1, 0, 1, 0, 6, 5 > + 0.158 | 1, 0, 0, 0, 6, 5 > + 0.158 | 0, 0, 1, 0, 6, 5 >",
          "0.234 | 1, 0, 1, 0, 6, -5 > + 0.158 | 1, 0, 0, 0, 6, -5 > + 0.158 | 0, 0, 1, 0, 6, -5 >",
          "0.234 | 1, 0, 1, 0, 6, -5 > + 0.158 | 1, 0, 0, 0, 6, -5 > + 0.158 | 0, 0, 1, 0, 6, -5 >",
          "0.235 | 1, 0, 1, 0, 6, -5 > + 0.158 | 1, 0, 0, 0, 6, -5 > + 0.158 | 0, 0, 1, 0, 6, -5 >",
          "0.235 | 1, 0, 1, 0, 6, 5 > + 0.158 | 0, 0, 1, 0, 6, 5 > + 0.158 | 1, 0, 0, 0, 6, 5 >",
          "0.235 | 1, 0, 1, 0, 6, -5 > + 0.158 | 0, 0, 1, 0, 6, -5 > + 0.158 | 1, 0, 0, 0, 6, -5 >",
          "0.235 | 1, 0, 1, 0, 6, -5 > + 0.158 | 1, 0, 0, 0, 6, -5 > + 0.158 | 0, 0, 1, 0, 6, -5 >"
         ],
         "type": "scatter",
         "x": [
          100,
          140,
          180,
          220,
          260,
          300.00000000000006,
          340,
          380,
          420,
          460,
          500,
          500,
          900,
          1299.9999999999998,
          1700,
          2100,
          2500,
          2900,
          3000,
          4000,
          5000,
          6000,
          7000
         ],
         "y": [
          0.09419008483576607,
          0.42013040401605223,
          0.47118108773191597,
          0.4699188007765633,
          0.44797889226348203,
          0.43781719647676437,
          0.4330104925308839,
          0.4307314315275184,
          0.42963471279171267,
          0.4290889232260413,
          0.428806057989405,
          0.428806057989405,
          0.42846895511414834,
          0.4284322906583244,
          0.42841922373780095,
          0.42841307574620124,
          0.42840969698682635,
          0.4284076426019938,
          0.42840725534258267,
          0.42840486021979246,
          0.4284037651830989,
          0.42840317487878754,
          0.42840282080325753
         ]
        },
        {
         "name": "State 724",
         "text": [
          "0.07 | 0, 0, 2, 2, 6, 4 > + 0.07 | 2, 2, 0, 0, 6, 4 > + 0.068 | 2, 0, 1, 1, 6, 5 >",
          "0.03 | 0, 0, 2, -2, 4, -2 > + 0.03 | 2, -2, 0, 0, 4, -2 > + 0.028 | 1, 0, 2, -2, 4, -2 >",
          "0.182 | 2, 2, 1, -1, 4, -4 > + 0.182 | 1, -1, 2, 2, 4, -4 > + 0.162 | 1, 1, 2, -2, 2, -2 >",
          "0.197 | 1, 0, 1, 0, 4, 2 > + 0.134 | 1, 0, 1, 0, 6, 2 > + 0.085 | 2, 0, 0, 0, 4, 2 >",
          "0.198 | 1, 0, 1, 0, 4, -2 > + 0.143 | 1, 0, 1, 0, 6, -2 > + 0.096 | 2, 0, 0, 0, 4, -2 >",
          "0.192 | 1, 0, 1, 0, 4, -2 > + 0.142 | 1, 0, 1, 0, 6, -2 > + 0.089 | 2, 0, 0, 0, 4, -2 >",
          "0.18 | 1, 0, 1, 0, 4, 2 > + 0.136 | 1, 0, 1, 0, 6, 2 > + 0.075 | 2, 0, 0, 0, 4, 2 >",
          "0.166 | 1, 0, 1, 0, 4, 2 > + 0.131 | 1, 0, 1, 0, 6, 2 > + 0.063 | 1, 0, 0, 0, 4, 2 >",
          "0.151 | 1, 0, 1, 0, 4, -2 > + 0.132 | 1, 0, 1, 0, 6, -2 > + 0.067 | 1, 0, 0, 0, 4, -2 >",
          "0.143 | 1, 0, 1, 0, 6, -2 > + 0.13 | 1, 0, 1, 0, 4, -2 > + 0.07 | 1, 0, 0, 0, 6, -2 >",
          "0.209 | 1, 0, 1, 0, 6, 6 > + 0.167 | 1, 0, 0, 0, 6, 6 > + 0.167 | 0, 0, 1, 0, 6, 6 >",
          "0.209 | 1, 0, 1, 0, 6, 6 > + 0.167 | 1, 0, 0, 0, 6, 6 > + 0.167 | 0, 0, 1, 0, 6, 6 >",
          "0.207 | 1, 0, 1, 0, 6, -4 > + 0.14 | 0, 0, 1, 0, 6, -4 > + 0.14 | 1, 0, 0, 0, 6, -4 >",
          "0.224 | 1, 0, 1, 0, 6, 4 > + 0.151 | 1, 0, 0, 0, 6, 4 > + 0.151 | 0, 0, 1, 0, 6, 4 >",
          "0.229 | 1, 0, 1, 0, 6, -4 > + 0.154 | 1, 0, 0, 0, 6, -4 > + 0.154 | 0, 0, 1, 0, 6, -4 >",
          "0.231 | 1, 0, 1, 0, 6, -4 > + 0.156 | 0, 0, 1, 0, 6, -4 > + 0.156 | 1, 0, 0, 0, 6, -4 >",
          "0.232 | 1, 0, 1, 0, 6, 4 > + 0.156 | 1, 0, 0, 0, 6, 4 > + 0.156 | 0, 0, 1, 0, 6, 4 >",
          "0.233 | 1, 0, 1, 0, 6, -4 > + 0.157 | 1, 0, 0, 0, 6, -4 > + 0.157 | 0, 0, 1, 0, 6, -4 >",
          "0.233 | 1, 0, 1, 0, 6, -4 > + 0.157 | 0, 0, 1, 0, 6, -4 > + 0.157 | 1, 0, 0, 0, 6, -4 >",
          "0.234 | 1, 0, 1, 0, 6, -4 > + 0.157 | 1, 0, 0, 0, 6, -4 > + 0.157 | 0, 0, 1, 0, 6, -4 >",
          "0.234 | 1, 0, 1, 0, 6, 4 > + 0.157 | 0, 0, 1, 0, 6, 4 > + 0.157 | 1, 0, 0, 0, 6, 4 >",
          "0.234 | 1, 0, 1, 0, 6, -4 > + 0.158 | 0, 0, 1, 0, 6, -4 > + 0.158 | 1, 0, 0, 0, 6, -4 >",
          "0.234 | 1, 0, 1, 0, 6, -4 > + 0.158 | 1, 0, 0, 0, 6, -4 > + 0.158 | 0, 0, 1, 0, 6, -4 >"
         ],
         "type": "scatter",
         "x": [
          100,
          140,
          180,
          220,
          260,
          300.00000000000006,
          340,
          380,
          420,
          460,
          500,
          500,
          900,
          1299.9999999999998,
          1700,
          2100,
          2500,
          2900,
          3000,
          4000,
          5000,
          6000,
          7000
         ],
         "y": [
          0.09391835333645625,
          0.41994919320433133,
          0.46905450437678164,
          0.4615809055568215,
          0.44277115119088867,
          0.4348518719631168,
          0.43143973058782736,
          0.4299293343230205,
          0.42922753206286984,
          0.42888204891451215,
          0.4287637102741283,
          0.4287637102741283,
          0.42846496809182844,
          0.42843061628889495,
          0.4284184091002346,
          0.42841262462485125,
          0.42840942258855025,
          0.42840746373752253,
          0.42840709321435316,
          0.42840479017727034,
          0.4284037288447869,
          0.4284031536723218,
          0.42840280737089126
         ]
        },
        {
         "name": "State 722",
         "text": [
          "0.043 | 2, 0, 2, 0, 0, 0 > + 0.041 | 2, 1, 2, -1, 0, 0 > + 0.041 | 2, -1, 2, 1, 0, 0 >",
          "0.066 | 2, -2, 1, 0, 4, -3 > + 0.066 | 1, 0, 2, -2, 4, -3 > + 0.064 | 0, 0, 0, 0, 6, -5 >",
          "0.182 | 1, -1, 2, 2, 4, -4 > + 0.182 | 2, 2, 1, -1, 4, -4 > + 0.16 | 2, -2, 1, 1, 2, -2 >",
          "0.176 | 1, 0, 1, 0, 6, 3 > + 0.134 | 1, 0, 1, 0, 4, 3 > + 0.087 | 2, 0, 0, 0, 6, 3 >",
          "0.189 | 1, 0, 1, 0, 6, -3 > + 0.138 | 1, 0, 1, 0, 4, -3 > + 0.09 | 0, 0, 2, 0, 6, -3 >",
          "0.181 | 1, 0, 1, 0, 6, -3 > + 0.132 | 1, 0, 1, 0, 4, -3 > + 0.077 | 2, 0, 0, 0, 6, -3 >",
          "0.17 | 1, 0, 1, 0, 6, 3 > + 0.123 | 1, 0, 1, 0, 4, 3 > + 0.066 | 1, 0, 0, 0, 6, 3 >",
          "0.169 | 1, 0, 1, 0, 6, -3 > + 0.11 | 1, 0, 1, 0, 4, -3 > + 0.079 | 1, 0, 0, 0, 6, -3 >",
          "0.193 | 1, 0, 1, 0, 6, -6 > + 0.171 | 1, 0, 0, 0, 6, -6 > + 0.171 | 0, 0, 1, 0, 6, -6 >",
          "0.202 | 1, 0, 1, 0, 6, 6 > + 0.169 | 1, 0, 0, 0, 6, 6 > + 0.169 | 0, 0, 1, 0, 6, 6 >",
          "0.177 | 1, 0, 1, 0, 6, -2 > + 0.098 | 1, 0, 0, 0, 6, -2 > + 0.098 | 0, 0, 1, 0, 6, -2 >",
          "0.177 | 1, 0, 1, 0, 6, -2 > + 0.098 | 1, 0, 0, 0, 6, -2 > + 0.098 | 0, 0, 1, 0, 6, -2 >",
          "0.209 | 1, 0, 1, 0, 6, 3 > + 0.141 | 0, 0, 1, 0, 6, 3 > + 0.141 | 1, 0, 0, 0, 6, 3 >",
          "0.22 | 1, 0, 1, 0, 6, 3 > + 0.148 | 0, 0, 1, 0, 6, 3 > + 0.148 | 1, 0, 0, 0, 6, 3 >",
          "0.226 | 1, 0, 1, 0, 6, -3 > + 0.152 | 1, 0, 0, 0, 6, -3 > + 0.152 | 0, 0, 1, 0, 6, -3 >",
          "0.229 | 1, 0, 1, 0, 6, 3 > + 0.154 | 1, 0, 0, 0, 6, 3 > + 0.154 | 0, 0, 1, 0, 6, 3 >",
          "0.23 | 1, 0, 1, 0, 6, -3 > + 0.155 | 0, 0, 1, 0, 6, -3 > + 0.155 | 1, 0, 0, 0, 6, -3 >",
          "0.232 | 1, 0, 1, 0, 6, -3 > + 0.156 | 0, 0, 1, 0, 6, -3 > + 0.156 | 1, 0, 0, 0, 6, -3 >",
          "0.232 | 1, 0, 1, 0, 6, 3 > + 0.156 | 1, 0, 0, 0, 6, 3 > + 0.156 | 0, 0, 1, 0, 6, 3 >",
          "0.233 | 1, 0, 1, 0, 6, 3 > + 0.157 | 0, 0, 1, 0, 6, 3 > + 0.157 | 1, 0, 0, 0, 6, 3 >",
          "0.234 | 1, 0, 1, 0, 6, -3 > + 0.157 | 0, 0, 1, 0, 6, -3 > + 0.157 | 1, 0, 0, 0, 6, -3 >",
          "0.234 | 1, 0, 1, 0, 6, 3 > + 0.157 | 1, 0, 0, 0, 6, 3 > + 0.157 | 0, 0, 1, 0, 6, 3 >",
          "0.234 | 1, 0, 1, 0, 6, -3 > + 0.157 | 0, 0, 1, 0, 6, -3 > + 0.157 | 1, 0, 0, 0, 6, -3 >"
         ],
         "type": "scatter",
         "x": [
          100,
          140,
          180,
          220,
          260,
          300.00000000000006,
          340,
          380,
          420,
          460,
          500,
          500,
          900,
          1299.9999999999998,
          1700,
          2100,
          2500,
          2900,
          3000,
          4000,
          5000,
          6000,
          7000
         ],
         "y": [
          0.09375124772345889,
          0.4169639397331455,
          0.4689088945140859,
          0.45115966525915424,
          0.437042429388034,
          0.43202746949751325,
          0.43011056697768607,
          0.4293028257874805,
          0.42903840328699994,
          0.4288727722962042,
          0.42870365290059326,
          0.42870365290059326,
          0.4284615070040319,
          0.42842940141331326,
          0.42841782474280005,
          0.42841229848585094,
          0.4284092224028621,
          0.4284073322293248,
          0.42840697380704473,
          0.42840473791307104,
          0.4284037015072174,
          0.4284031376301664,
          0.42840279716929214
         ]
        },
        {
         "name": "State 720",
         "text": [
          "0.045 | 1, -1, 2, 0, 6, -1 > + 0.045 | 2, 0, 1, -1, 6, -1 > + 0.031 | 1, -1, 2, -1, 6, 0 >",
          "0.051 | 1, 1, 1, 1, 4, -1 > + 0.038 | 1, 0, 2, 0, 4, 1 > + 0.038 | 2, 0, 1, 0, 4, 1 >",
          "0.145 | 2, 2, 1, -1, 2, -2 > + 0.145 | 1, -1, 2, 2, 2, -2 > + 0.087 | 1, 1, 2, -2, 0, 0 >",
          "0.147 | 1, 0, 1, 0, 2, 1 > + 0.143 | 1, 0, 1, 0, 6, 1 > + 0.071 | 2, 0, 0, 0, 6, 1 >",
          "0.16 | 1, 0, 1, 0, 2, 1 > + 0.145 | 1, 0, 1, 0, 6, 1 > + 0.066 | 0, 0, 2, 0, 6, 1 >",
          "0.16 | 1, 0, 1, 0, 2, 1 > + 0.132 | 1, 0, 1, 0, 6, 1 > + 0.066 | 1, 0, 0, 0, 2, 1 >",
          "0.177 | 0, 0, 1, 0, 6, -6 > + 0.177 | 1, 0, 0, 0, 6, -6 > + 0.164 | 1, 0, 1, 0, 6, -6 >",
          "0.181 | 1, 0, 1, 0, 6, 6 > + 0.174 | 1, 0, 0, 0, 6, 6 > + 0.174 | 0, 0, 1, 0, 6, 6 >",
          "0.186 | 1, 0, 1, 0, 6, -3 > + 0.099 | 0, 0, 1, 0, 6, -3 > + 0.099 | 1, 0, 0, 0, 6, -3 >",
          "0.108 | 1, 0, 1, 0, 6, 4 > + 0.097 | 1, 0, 1, 0, 4, 4 > + 0.087 | 0, 0, 1, 0, 4, 4 >",
          "0.222 | 1, 0, 1, 0, 6, -5 > + 0.162 | 1, 0, 0, 0, 6, -5 > + 0.162 | 0, 0, 1, 0, 6, -5 >",
          "0.222 | 1, 0, 1, 0, 6, -5 > + 0.162 | 1, 0, 0, 0, 6, -5 > + 0.162 | 0, 0, 1, 0, 6, -5 >",
          "0.203 | 1, 0, 1, 0, 6, 2 > + 0.136 | 0, 0, 1, 0, 6, 2 > + 0.136 | 1, 0, 0, 0, 6, 2 >",
          "0.216 | 1, 0, 1, 0, 6, 2 > + 0.145 | 1, 0, 0, 0, 6, 2 > + 0.145 | 0, 0, 1, 0, 6, 2 >",
          "0.223 | 1, 0, 1, 0, 6, -2 > + 0.15 | 1, 0, 0, 0, 6, -2 > + 0.15 | 0, 0, 1, 0, 6, -2 >",
          "0.227 | 1, 0, 1, 0, 6, 2 > + 0.152 | 1, 0, 0, 0, 6, 2 > + 0.152 | 0, 0, 1, 0, 6, 2 >",
          "0.229 | 1, 0, 1, 0, 6, 2 > + 0.154 | 0, 0, 1, 0, 6, 2 > + 0.154 | 1, 0, 0, 0, 6, 2 >",
          "0.23 | 1, 0, 1, 0, 6, 2 > + 0.155 | 0, 0, 1, 0, 6, 2 > + 0.155 | 1, 0, 0, 0, 6, 2 >",
          "0.231 | 1, 0, 1, 0, 6, 2 > + 0.155 | 0, 0, 1, 0, 6, 2 > + 0.155 | 1, 0, 0, 0, 6, 2 >",
          "0.232 | 1, 0, 1, 0, 6, -2 > + 0.156 | 1, 0, 0, 0, 6, -2 > + 0.156 | 0, 0, 1, 0, 6, -2 >",
          "0.233 | 1, 0, 1, 0, 6, -2 > + 0.157 | 0, 0, 1, 0, 6, -2 > + 0.157 | 1, 0, 0, 0, 6, -2 >",
          "0.234 | 1, 0, 1, 0, 6, 2 > + 0.157 | 0, 0, 1, 0, 6, 2 > + 0.157 | 1, 0, 0, 0, 6, 2 >",
          "0.234 | 1, 0, 1, 0, 6, -2 > + 0.157 | 0, 0, 1, 0, 6, -2 > + 0.157 | 1, 0, 0, 0, 6, -2 >"
         ],
         "type": "scatter",
         "x": [
          100,
          140,
          180,
          220,
          260,
          300.00000000000006,
          340,
          380,
          420,
          460,
          500,
          500,
          900,
          1299.9999999999998,
          1700,
          2100,
          2500,
          2900,
          3000,
          4000,
          5000,
          6000,
          7000
         ],
         "y": [
          0.09356873371035282,
          0.4164719505528379,
          0.4677946675285097,
          0.4464422121222002,
          0.4347817757601806,
          0.4309996507165848,
          0.4297341989084474,
          0.429301104466469,
          0.4289288152121767,
          0.4287623102202958,
          0.4286819500794542,
          0.4286819500794542,
          0.4284596698950586,
          0.42842861832636914,
          0.42841743434222124,
          0.4284120775101034,
          0.42840908564132146,
          0.42840724186620577,
          0.42840689166036194,
          0.4284047016404583,
          0.4284036824312133,
          0.4284031263946043,
          0.4284027900051199
         ]
        },
        {
         "name": "State 717",
         "text": [
          "0.05 | 1, -1, 2, -1, 6, -1 > + 0.05 | 2, -1, 1, -1, 6, -1 > + 0.04 | 1, -1, 2, 0, 6, -2 >",
          "0.078 | 2, 2, 1, 1, 2, 1 > + 0.078 | 1, 1, 2, 2, 2, 1 > + 0.07 | 1, 1, 2, 1, 2, 2 >",
          "0.145 | 1, -1, 2, 2, 2, -2 > + 0.145 | 2, 2, 1, -1, 2, -2 > + 0.086 | 2, -2, 1, 1, 0, 0 >",
          "0.208 | 1, 0, 1, 0, 6, -4 > + 0.075 | 0, 0, 2, 0, 6, -4 > + 0.075 | 2, 0, 0, 0, 6, -4 >",
          "0.213 | 1, 0, 1, 0, 6, -4 > + 0.089 | 0, 0, 1, 0, 6, -4 > + 0.089 | 1, 0, 0, 0, 6, -4 >",
          "0.178 | 0, 0, 1, 0, 6, -6 > + 0.178 | 1, 0, 0, 0, 6, -6 > + 0.143 | 1, 0, 1, 0, 6, -6 >",
          "0.154 | 1, 0, 1, 0, 2, -1 > + 0.122 | 1, 0, 1, 0, 6, -1 > + 0.076 | 1, 0, 0, 0, 2, -1 >",
          "0.099 | 0, 0, 1, 0, 4, -4 > + 0.099 | 1, 0, 0, 0, 4, -4 > + 0.093 | 1, 0, 1, 0, 4, -4 >",
          "0.101 | 1, 0, 1, 0, 4, 4 > + 0.097 | 1, 0, 0, 0, 4, 4 > + 0.097 | 0, 0, 1, 0, 4, 4 >",
          "0.218 | 1, 0, 1, 0, 6, -5 > + 0.163 | 1, 0, 0, 0, 6, -5 > + 0.163 | 0, 0, 1, 0, 6, -5 >",
          "0.237 | 1, 0, 1, 0, 6, 3 > + 0.153 | 1, 0, 0, 0, 6, 3 > + 0.153 | 0, 0, 1, 0, 6, 3 >",
          "0.237 | 1, 0, 1, 0, 6, 3 > + 0.153 | 1, 0, 0, 0, 6, 3 > + 0.153 | 0, 0, 1, 0, 6, 3 >",
          "0.204 | 1, 0, 1, 0, 6, -1 > + 0.136 | 1, 0, 0, 0, 6, -1 > + 0.136 | 0, 0, 1, 0, 6, -1 >",
          "0.214 | 1, 0, 1, 0, 6, -1 > + 0.144 | 1, 0, 0, 0, 6, -1 > + 0.144 | 0, 0, 1, 0, 6, -1 >",
          "0.221 | 1, 0, 1, 0, 6, 1 > + 0.148 | 1, 0, 0, 0, 6, 1 > + 0.148 | 0, 0, 1, 0, 6, 1 >",
          "0.225 | 1, 0, 1, 0, 6, -1 > + 0.151 | 1, 0, 0, 0, 6, -1 > + 0.151 | 0, 0, 1, 0, 6, -1 >",
          "0.228 | 1, 0, 1, 0, 6, -1 > + 0.153 | 1, 0, 0, 0, 6, -1 > + 0.153 | 0, 0, 1, 0, 6, -1 >",
          "0.229 | 1, 0, 1, 0, 6, 1 > + 0.154 | 0, 0, 1, 0, 6, 1 > + 0.154 | 1, 0, 0, 0, 6, 1 >",
          "0.23 | 1, 0, 1, 0, 6, -1 > + 0.155 | 0, 0, 1, 0, 6, -1 > + 0.155 | 1, 0, 0, 0, 6, -1 >",
          "0.232 | 1, 0, 1, 0, 6, -1 > + 0.156 | 1, 0, 0, 0, 6, -1 > + 0.156 | 0, 0, 1, 0, 6, -1 >",
          "0.233 | 1, 0, 1, 0, 6, 1 > + 0.157 | 1, 0, 0, 0, 6, 1 > + 0.157 | 0, 0, 1, 0, 6, 1 >",
          "0.233 | 1, 0, 1, 0, 6, 1 > + 0.157 | 1, 0, 0, 0, 6, 1 > + 0.157 | 0, 0, 1, 0, 6, 1 >",
          "0.234 | 1, 0, 1, 0, 6, -1 > + 0.157 | 0, 0, 1, 0, 6, -1 > + 0.157 | 1, 0, 0, 0, 6, -1 >"
         ],
         "type": "scatter",
         "x": [
          100,
          140,
          180,
          220,
          260,
          300.00000000000006,
          340,
          380,
          420,
          460,
          500,
          500,
          900,
          1299.9999999999998,
          1700,
          2100,
          2500,
          2900,
          3000,
          4000,
          5000,
          6000,
          7000
         ],
         "y": [
          0.08964777003726614,
          0.41489732445184063,
          0.4676725194850772,
          0.4396603775385293,
          0.4323069376505298,
          0.4304624452460432,
          0.4296178313578948,
          0.42905855981782226,
          0.4288809052039372,
          0.4287574616580727,
          0.4286551814485296,
          0.4286551814485296,
          0.42845842973723136,
          0.4284281586261548,
          0.4284172074534409,
          0.4284119488206361,
          0.42840900574213653,
          0.42840718892321644,
          0.4284068435005556,
          0.42840468026853706,
          0.4284036711548649,
          0.42840311973784784,
          0.4284027857534507
         ]
        },
        {
         "name": "State 716",
         "text": [
          "0.05 | 1, 1, 2, 1, 6, 1 > + 0.05 | 2, 1, 1, 1, 6, 1 > + 0.04 | 2, 0, 1, 1, 6, 2 >",
          "0.078 | 2, -2, 1, -1, 2, -1 > + 0.078 | 1, -1, 2, -2, 2, -1 > + 0.07 | 1, -1, 2, -1, 2, -2 >",
          "0.062 | 0, 0, 2, 0, 6, -2 > + 0.062 | 2, 0, 0, 0, 6, -2 > + 0.044 | 0, 0, 1, 0, 6, -2 >",
          "0.096 | 2, 0, 0, 0, 4, -1 > + 0.096 | 0, 0, 2, 0, 4, -1 > + 0.07 | 1, 0, 0, 0, 4, -1 >",
          "0.175 | 1, 0, 0, 0, 6, 6 > + 0.175 | 0, 0, 1, 0, 6, 6 > + 0.152 | 2, 0, 1, 0, 6, 6 >",
          "0.205 | 1, 0, 1, 0, 6, 4 > + 0.109 | 1, 0, 0, 0, 6, 4 > + 0.109 | 0, 0, 1, 0, 6, 4 >",
          "0.22 | 1, 0, 1, 0, 6, 4 > + 0.135 | 0, 0, 1, 0, 6, 4 > + 0.135 | 1, 0, 0, 0, 6, 4 >",
          "0.207 | 1, 0, 1, 0, 6, 5 > + 0.165 | 1, 0, 0, 0, 6, 5 > + 0.165 | 0, 0, 1, 0, 6, 5 >",
          "0.213 | 1, 0, 1, 0, 6, 5 > + 0.164 | 0, 0, 1, 0, 6, 5 > + 0.164 | 1, 0, 0, 0, 6, 5 >",
          "0.23 | 1, 0, 1, 0, 6, 3 > + 0.138 | 1, 0, 0, 0, 6, 3 > + 0.138 | 0, 0, 1, 0, 6, 3 >",
          "0.237 | 1, 0, 1, 0, 6, -3 > + 0.153 | 1, 0, 0, 0, 6, -3 > + 0.153 | 0, 0, 1, 0, 6, -3 >",
          "0.237 | 1, 0, 1, 0, 6, -3 > + 0.153 | 1, 0, 0, 0, 6, -3 > + 0.153 | 0, 0, 1, 0, 6, -3 >",
          "0.202 | 1, 0, 1, 0, 6, 0 > + 0.134 | 1, 0, 0, 0, 6, 0 > + 0.134 | 0, 0, 1, 0, 6, 0 >",
          "0.214 | 1, 0, 1, 0, 6, 0 > + 0.143 | 1, 0, 0, 0, 6, 0 > + 0.143 | 0, 0, 1, 0, 6, 0 >",
          "0.221 | 1, 0, 1, 0, 6, 0 > + 0.148 | 0, 0, 1, 0, 6, 0 > + 0.148 | 1, 0, 0, 0, 6, 0 >",
          "0.225 | 1, 0, 1, 0, 6, 0 > + 0.151 | 0, 0, 1, 0, 6, 0 > + 0.151 | 1, 0, 0, 0, 6, 0 >",
          "0.228 | 1, 0, 1, 0, 6, 0 > + 0.153 | 1, 0, 0, 0, 6, 0 > + 0.153 | 0, 0, 1, 0, 6, 0 >",
          "0.229 | 1, 0, 1, 0, 6, 0 > + 0.154 | 1, 0, 0, 0, 6, 0 > + 0.154 | 0, 0, 1, 0, 6, 0 >",
          "0.23 | 1, 0, 1, 0, 6, 0 > + 0.154 | 1, 0, 0, 0, 6, 0 > + 0.154 | 0, 0, 1, 0, 6, 0 >",
          "0.232 | 1, 0, 1, 0, 6, 0 > + 0.156 | 1, 0, 0, 0, 6, 0 > + 0.156 | 0, 0, 1, 0, 6, 0 >",
          "0.233 | 1, 0, 1, 0, 6, 0 > + 0.156 | 1, 0, 0, 0, 6, 0 > + 0.156 | 0, 0, 1, 0, 6, 0 >",
          "0.233 | 1, 0, 1, 0, 6, 0 > + 0.157 | 0, 0, 1, 0, 6, 0 > + 0.157 | 1, 0, 0, 0, 6, 0 >",
          "0.234 | 1, 0, 1, 0, 6, 0 > + 0.157 | 1, 0, 0, 0, 6, 0 > + 0.157 | 0, 0, 1, 0, 6, 0 >"
         ],
         "type": "scatter",
         "x": [
          100,
          140,
          180,
          220,
          260,
          300.00000000000006,
          340,
          380,
          420,
          460,
          500,
          500,
          900,
          1299.9999999999998,
          1700,
          2100,
          2500,
          2900,
          3000,
          4000,
          5000,
          6000,
          7000
         ],
         "y": [
          0.08964777003726566,
          0.4148973244518401,
          0.466533270146421,
          0.4366970941692792,
          0.43164466971955273,
          0.4301800384447213,
          0.42937009788531616,
          0.4290470255773436,
          0.42887009802799897,
          0.4287453161290971,
          0.42865518144852816,
          0.42865518144852816,
          0.4284581592999036,
          0.42842801501268,
          0.4284171338040975,
          0.42841190667226425,
          0.4284089794799857,
          0.4284071714860806,
          0.42840682763260407,
          0.42840467320776443,
          0.42840366742341907,
          0.42840311753263116,
          0.42840278434383355
         ]
        },
        {
         "name": "State 718",
         "text": [
          "0.068 | 2, 0, 1, -1, 6, -4 > + 0.068 | 1, -1, 2, 0, 6, -4 > + 0.053 | 0, 0, 2, -2, 6, -3 >",
          "0.023 | 0, 0, 2, 1, 6, -1 > + 0.023 | 2, 1, 0, 0, 6, -1 > + 0.023 | 0, 0, 2, -1, 6, 1 >",
          "0.145 | 1, 1, 2, -2, 2, 2 > + 0.145 | 2, -2, 1, 1, 2, 2 > + 0.086 | 2, 2, 1, -1, 0, 0 >",
          "0.208 | 1, 0, 1, 0, 6, 4 > + 0.075 | 2, 0, 0, 0, 6, 4 > + 0.075 | 0, 0, 2, 0, 6, 4 >",
          "0.213 | 1, 0, 1, 0, 6, 4 > + 0.089 | 1, 0, 0, 0, 6, 4 > + 0.089 | 0, 0, 1, 0, 6, 4 >",
          "0.178 | 0, 0, 1, 0, 6, 6 > + 0.178 | 1, 0, 0, 0, 6, 6 > + 0.143 | 1, 0, 1, 0, 6, 6 >",
          "0.154 | 1, 0, 1, 0, 2, 1 > + 0.122 | 1, 0, 1, 0, 6, 1 > + 0.076 | 0, 0, 1, 0, 2, 1 >",
          "0.099 | 1, 0, 0, 0, 4, 4 > + 0.099 | 0, 0, 1, 0, 4, 4 > + 0.093 | 1, 0, 1, 0, 4, 4 >",
          "0.101 | 1, 0, 1, 0, 4, -4 > + 0.097 | 0, 0, 1, 0, 4, -4 > + 0.097 | 1, 0, 0, 0, 4, -4 >",
          "0.218 | 1, 0, 1, 0, 6, 5 > + 0.163 | 0, 0, 1, 0, 6, 5 > + 0.163 | 1, 0, 0, 0, 6, 5 >",
          "0.123 | 1, 0, 1, 0, 6, -4 > + 0.09 | 1, 0, 0, 0, 6, -4 > + 0.09 | 0, 0, 1, 0, 6, -4 >",
          "0.123 | 1, 0, 1, 0, 6, -4 > + 0.09 | 1, 0, 0, 0, 6, -4 > + 0.09 | 0, 0, 1, 0, 6, -4 >",
          "0.204 | 1, 0, 1, 0, 6, 1 > + 0.136 | 0, 0, 1, 0, 6, 1 > + 0.136 | 1, 0, 0, 0, 6, 1 >",
          "0.214 | 1, 0, 1, 0, 6, 1 > + 0.144 | 1, 0, 0, 0, 6, 1 > + 0.144 | 0, 0, 1, 0, 6, 1 >",
          "0.221 | 1, 0, 1, 0, 6, -1 > + 0.148 | 0, 0, 1, 0, 6, -1 > + 0.148 | 1, 0, 0, 0, 6, -1 >",
          "0.225 | 1, 0, 1, 0, 6, 1 > + 0.151 | 0, 0, 1, 0, 6, 1 > + 0.151 | 1, 0, 0, 0, 6, 1 >",
          "0.228 | 1, 0, 1, 0, 6, 1 > + 0.153 | 0, 0, 1, 0, 6, 1 > + 0.153 | 1, 0, 0, 0, 6, 1 >",
          "0.229 | 1, 0, 1, 0, 6, -1 > + 0.154 | 1, 0, 0, 0, 6, -1 > + 0.154 | 0, 0, 1, 0, 6, -1 >",
          "0.23 | 1, 0, 1, 0, 6, 1 > + 0.155 | 0, 0, 1, 0, 6, 1 > + 0.155 | 1, 0, 0, 0, 6, 1 >",
          "0.232 | 1, 0, 1, 0, 6, 1 > + 0.156 | 0, 0, 1, 0, 6, 1 > + 0.156 | 1, 0, 0, 0, 6, 1 >",
          "0.233 | 1, 0, 1, 0, 6, -1 > + 0.157 | 1, 0, 0, 0, 6, -1 > + 0.157 | 0, 0, 1, 0, 6, -1 >",
          "0.233 | 1, 0, 1, 0, 6, -1 > + 0.157 | 1, 0, 0, 0, 6, -1 > + 0.157 | 0, 0, 1, 0, 6, -1 >",
          "0.234 | 1, 0, 1, 0, 6, 1 > + 0.157 | 1, 0, 0, 0, 6, 1 > + 0.157 | 0, 0, 1, 0, 6, 1 >"
         ],
         "type": "scatter",
         "x": [
          100,
          140,
          180,
          220,
          260,
          300.00000000000006,
          340,
          380,
          420,
          460,
          500,
          500,
          900,
          1299.9999999999998,
          1700,
          2100,
          2500,
          2900,
          3000,
          4000,
          5000,
          6000,
          7000
         ],
         "y": [
          0.09269793423936548,
          0.41538036304129206,
          0.4676725194850784,
          0.4396603775385304,
          0.4323069376505301,
          0.43046244524604493,
          0.4296178313578956,
          0.4290585598178242,
          0.42888090520393785,
          0.4287574616580765,
          0.4286818564042192,
          0.4286818564042192,
          0.42845842973723325,
          0.42842815862615524,
          0.42841720745344153,
          0.4284119488206398,
          0.4284090057421374,
          0.4284071889232167,
          0.42840684350056035,
          0.42840468026853834,
          0.4284036711548689,
          0.42840311973785167,
          0.4284027857534524
         ]
        },
        {
         "name": "State 719",
         "text": [
          "0.068 | 2, 0, 1, 1, 6, 4 > + 0.068 | 1, 1, 2, 0, 6, 4 > + 0.053 | 0, 0, 2, 2, 6, 3 >",
          "0.051 | 1, -1, 1, -1, 4, 1 > + 0.038 | 1, 0, 2, 0, 4, -1 > + 0.038 | 2, 0, 1, 0, 4, -1 >",
          "0.145 | 2, -2, 1, 1, 2, 2 > + 0.145 | 1, 1, 2, -2, 2, 2 > + 0.087 | 1, -1, 2, 2, 0, 0 >",
          "0.147 | 1, 0, 1, 0, 2, -1 > + 0.143 | 1, 0, 1, 0, 6, -1 > + 0.071 | 2, 0, 0, 0, 6, -1 >",
          "0.16 | 1, 0, 1, 0, 2, -1 > + 0.145 | 1, 0, 1, 0, 6, -1 > + 0.066 | 0, 0, 2, 0, 6, -1 >",
          "0.16 | 1, 0, 1, 0, 2, -1 > + 0.132 | 1, 0, 1, 0, 6, -1 > + 0.066 | 1, 0, 0, 0, 2, -1 >",
          "0.177 | 0, 0, 1, 0, 6, 6 > + 0.177 | 1, 0, 0, 0, 6, 6 > + 0.164 | 1, 0, 1, 0, 6, 6 >",
          "0.181 | 1, 0, 1, 0, 6, -6 > + 0.174 | 1, 0, 0, 0, 6, -6 > + 0.174 | 0, 0, 1, 0, 6, -6 >",
          "0.186 | 1, 0, 1, 0, 6, 3 > + 0.099 | 1, 0, 0, 0, 6, 3 > + 0.099 | 0, 0, 1, 0, 6, 3 >",
          "0.108 | 1, 0, 1, 0, 6, -4 > + 0.097 | 1, 0, 1, 0, 4, -4 > + 0.087 | 0, 0, 1, 0, 4, -4 >",
          "0.123 | 1, 0, 1, 0, 6, 4 > + 0.09 | 1, 0, 0, 0, 6, 4 > + 0.09 | 0, 0, 1, 0, 6, 4 >",
          "0.123 | 1, 0, 1, 0, 6, 4 > + 0.09 | 1, 0, 0, 0, 6, 4 > + 0.09 | 0, 0, 1, 0, 6, 4 >",
          "0.203 | 1, 0, 1, 0, 6, -2 > + 0.136 | 0, 0, 1, 0, 6, -2 > + 0.136 | 1, 0, 0, 0, 6, -2 >",
          "0.216 | 1, 0, 1, 0, 6, -2 > + 0.145 | 0, 0, 1, 0, 6, -2 > + 0.145 | 1, 0, 0, 0, 6, -2 >",
          "0.223 | 1, 0, 1, 0, 6, 2 > + 0.15 | 1, 0, 0, 0, 6, 2 > + 0.15 | 0, 0, 1, 0, 6, 2 >",
          "0.227 | 1, 0, 1, 0, 6, -2 > + 0.152 | 1, 0, 0, 0, 6, -2 > + 0.152 | 0, 0, 1, 0, 6, -2 >",
          "0.229 | 1, 0, 1, 0, 6, -2 > + 0.154 | 0, 0, 1, 0, 6, -2 > + 0.154 | 1, 0, 0, 0, 6, -2 >",
          "0.23 | 1, 0, 1, 0, 6, -2 > + 0.155 | 1, 0, 0, 0, 6, -2 > + 0.155 | 0, 0, 1, 0, 6, -2 >",
          "0.231 | 1, 0, 1, 0, 6, -2 > + 0.155 | 1, 0, 0, 0, 6, -2 > + 0.155 | 0, 0, 1, 0, 6, -2 >",
          "0.232 | 1, 0, 1, 0, 6, 2 > + 0.156 | 0, 0, 1, 0, 6, 2 > + 0.156 | 1, 0, 0, 0, 6, 2 >",
          "0.233 | 1, 0, 1, 0, 6, 2 > + 0.157 | 0, 0, 1, 0, 6, 2 > + 0.157 | 1, 0, 0, 0, 6, 2 >",
          "0.234 | 1, 0, 1, 0, 6, -2 > + 0.157 | 0, 0, 1, 0, 6, -2 > + 0.157 | 1, 0, 0, 0, 6, -2 >",
          "0.234 | 1, 0, 1, 0, 6, 2 > + 0.157 | 1, 0, 0, 0, 6, 2 > + 0.157 | 0, 0, 1, 0, 6, 2 >"
         ],
         "type": "scatter",
         "x": [
          100,
          140,
          180,
          220,
          260,
          300.00000000000006,
          340,
          380,
          420,
          460,
          500,
          500,
          900,
          1299.9999999999998,
          1700,
          2100,
          2500,
          2900,
          3000,
          4000,
          5000,
          6000,
          7000
         ],
         "y": [
          0.09269793423936581,
          0.4164719505528379,
          0.4677946675285096,
          0.4464422121221983,
          0.43478177576018023,
          0.43099965071658386,
          0.42973419890844655,
          0.4293011044664681,
          0.4289288152121757,
          0.42876231022029293,
          0.42868185640422124,
          0.42868185640422124,
          0.4284596698950579,
          0.42842861832636764,
          0.42841743434221985,
          0.42841207751010263,
          0.42840908564132013,
          0.42840724186620494,
          0.4284068916603612,
          0.4284047016404559,
          0.428403682431211,
          0.4284031263946037,
          0.4284027900051178
         ]
        },
        {
         "name": "State 721",
         "text": [
          "0.045 | 2, 0, 1, 1, 6, 1 > + 0.045 | 1, 1, 2, 0, 6, 1 > + 0.031 | 1, 1, 2, 1, 6, 0 >",
          "0.066 | 1, 0, 2, 2, 4, 3 > + 0.066 | 2, 2, 1, 0, 4, 3 > + 0.064 | 0, 0, 0, 0, 6, 5 >",
          "0.182 | 1, 1, 2, -2, 4, 4 > + 0.182 | 2, -2, 1, 1, 4, 4 > + 0.16 | 2, 2, 1, -1, 2, 2 >",
          "0.176 | 1, 0, 1, 0, 6, -3 > + 0.134 | 1, 0, 1, 0, 4, -3 > + 0.087 | 0, 0, 2, 0, 6, -3 >",
          "0.189 | 1, 0, 1, 0, 6, 3 > + 0.138 | 1, 0, 1, 0, 4, 3 > + 0.09 | 0, 0, 2, 0, 6, 3 >",
          "0.181 | 1, 0, 1, 0, 6, 3 > + 0.132 | 1, 0, 1, 0, 4, 3 > + 0.077 | 0, 0, 2, 0, 6, 3 >",
          "0.17 | 1, 0, 1, 0, 6, -3 > + 0.123 | 1, 0, 1, 0, 4, -3 > + 0.066 | 0, 0, 1, 0, 6, -3 >",
          "0.169 | 1, 0, 1, 0, 6, 3 > + 0.11 | 1, 0, 1, 0, 4, 3 > + 0.079 | 1, 0, 0, 0, 6, 3 >",
          "0.193 | 1, 0, 1, 0, 6, 6 > + 0.171 | 1, 0, 0, 0, 6, 6 > + 0.171 | 0, 0, 1, 0, 6, 6 >",
          "0.134 | 1, 0, 1, 0, 6, 0 > + 0.078 | 1, 0, 1, 0, 2, 0 > + 0.07 | 1, 0, 0, 0, 6, 0 >",
          "0.222 | 1, 0, 1, 0, 6, 5 > + 0.162 | 0, 0, 1, 0, 6, 5 > + 0.162 | 1, 0, 0, 0, 6, 5 >",
          "0.222 | 1, 0, 1, 0, 6, 5 > + 0.162 | 0, 0, 1, 0, 6, 5 > + 0.162 | 1, 0, 0, 0, 6, 5 >",
          "0.209 | 1, 0, 1, 0, 6, -3 > + 0.141 | 0, 0, 1, 0, 6, -3 > + 0.141 | 1, 0, 0, 0, 6, -3 >",
          "0.22 | 1, 0, 1, 0, 6, -3 > + 0.148 | 0, 0, 1, 0, 6, -3 > + 0.148 | 1, 0, 0, 0, 6, -3 >",
          "0.226 | 1, 0, 1, 0, 6, 3 > + 0.152 | 0, 0, 1, 0, 6, 3 > + 0.152 | 1, 0, 0, 0, 6, 3 >",
          "0.229 | 1, 0, 1, 0, 6, -3 > + 0.154 | 0, 0, 1, 0, 6, -3 > + 0.154 | 1, 0, 0, 0, 6, -3 >",
          "0.23 | 1, 0, 1, 0, 6, 3 > + 0.155 | 0, 0, 1, 0, 6, 3 > + 0.155 | 1, 0, 0, 0, 6, 3 >",
          "0.232 | 1, 0, 1, 0, 6, 3 > + 0.156 | 1, 0, 0, 0, 6, 3 > + 0.156 | 0, 0, 1, 0, 6, 3 >",
          "0.232 | 1, 0, 1, 0, 6, -3 > + 0.156 | 0, 0, 1, 0, 6, -3 > + 0.156 | 1, 0, 0, 0, 6, -3 >",
          "0.233 | 1, 0, 1, 0, 6, -3 > + 0.157 | 1, 0, 0, 0, 6, -3 > + 0.157 | 0, 0, 1, 0, 6, -3 >",
          "0.234 | 1, 0, 1, 0, 6, 3 > + 0.157 | 0, 0, 1, 0, 6, 3 > + 0.157 | 1, 0, 0, 0, 6, 3 >",
          "0.234 | 1, 0, 1, 0, 6, -3 > + 0.157 | 1, 0, 0, 0, 6, -3 > + 0.157 | 0, 0, 1, 0, 6, -3 >",
          "0.234 | 1, 0, 1, 0, 6, 3 > + 0.157 | 1, 0, 0, 0, 6, 3 > + 0.157 | 0, 0, 1, 0, 6, 3 >"
         ],
         "type": "scatter",
         "x": [
          100,
          140,
          180,
          220,
          260,
          300.00000000000006,
          340,
          380,
          420,
          460,
          500,
          500,
          900,
          1299.9999999999998,
          1700,
          2100,
          2500,
          2900,
          3000,
          4000,
          5000,
          6000,
          7000
         ],
         "y": [
          0.09356873371035429,
          0.4169639397331451,
          0.4689088945140855,
          0.45115966525915213,
          0.4370424293880337,
          0.4320274694975123,
          0.4301105669776851,
          0.4293028257874783,
          0.429038403286999,
          0.42879039915813916,
          0.42868195007945614,
          0.42868195007945614,
          0.42846150700403096,
          0.428429401413312,
          0.4284178247427997,
          0.4284122984858504,
          0.4284092224028618,
          0.4284073322293245,
          0.4284069738070437,
          0.428404737913071,
          0.4284037015072161,
          0.42840313763016624,
          0.42840279716928714
         ]
        },
        {
         "name": "State 723",
         "text": [
          "0.07 | 2, -2, 0, 0, 6, -4 > + 0.07 | 0, 0, 2, -2, 6, -4 > + 0.068 | 1, -1, 2, 0, 6, -5 >",
          "0.03 | 0, 0, 2, 2, 4, 2 > + 0.03 | 2, 2, 0, 0, 4, 2 > + 0.028 | 1, 0, 2, 2, 4, 2 >",
          "0.182 | 2, -2, 1, 1, 4, 4 > + 0.182 | 1, 1, 2, -2, 4, 4 > + 0.162 | 1, -1, 2, 2, 2, 2 >",
          "0.124 | 1, 0, 1, 0, 6, 0 > + 0.086 | 1, 0, 1, 0, 0, 0 > + 0.069 | 1, 0, 1, 0, 4, 0 >",
          "0.132 | 1, 0, 1, 0, 6, 0 > + 0.085 | 1, 0, 1, 0, 0, 0 > + 0.073 | 0, 0, 2, 0, 6, 0 >",
          "0.129 | 1, 0, 1, 0, 6, 0 > + 0.082 | 1, 0, 1, 0, 0, 0 > + 0.073 | 1, 0, 1, 0, 2, 0 >",
          "0.122 | 1, 0, 1, 0, 6, 0 > + 0.075 | 1, 0, 1, 0, 0, 0 > + 0.073 | 1, 0, 1, 0, 2, 0 >",
          "0.116 | 1, 0, 1, 0, 6, 0 > + 0.075 | 1, 0, 1, 0, 2, 0 > + 0.067 | 1, 0, 1, 0, 0, 0 >",
          "0.117 | 1, 0, 1, 0, 6, 0 > + 0.078 | 1, 0, 1, 0, 2, 0 > + 0.058 | 1, 0, 1, 0, 0, 0 >",
          "0.202 | 1, 0, 1, 0, 6, -6 > + 0.169 | 0, 0, 1, 0, 6, -6 > + 0.169 | 1, 0, 0, 0, 6, -6 >",
          "0.177 | 1, 0, 1, 0, 6, 2 > + 0.098 | 0, 0, 1, 0, 6, 2 > + 0.098 | 1, 0, 0, 0, 6, 2 >",
          "0.177 | 1, 0, 1, 0, 6, 2 > + 0.098 | 0, 0, 1, 0, 6, 2 > + 0.098 | 1, 0, 0, 0, 6, 2 >",
          "0.207 | 1, 0, 1, 0, 6, 4 > + 0.14 | 1, 0, 0, 0, 6, 4 > + 0.14 | 0, 0, 1, 0, 6, 4 >",
          "0.224 | 1, 0, 1, 0, 6, -4 > + 0.151 | 1, 0, 0, 0, 6, -4 > + 0.151 | 0, 0, 1, 0, 6, -4 >",
          "0.229 | 1, 0, 1, 0, 6, 4 > + 0.154 | 1, 0, 0, 0, 6, 4 > + 0.154 | 0, 0, 1, 0, 6, 4 >",
          "0.231 | 1, 0, 1, 0, 6, 4 > + 0.156 | 0, 0, 1, 0, 6, 4 > + 0.156 | 1, 0, 0, 0, 6, 4 >",
          "0.232 | 1, 0, 1, 0, 6, -4 > + 0.156 | 0, 0, 1, 0, 6, -4 > + 0.156 | 1, 0, 0, 0, 6, -4 >",
          "0.233 | 1, 0, 1, 0, 6, 4 > + 0.157 | 0, 0, 1, 0, 6, 4 > + 0.157 | 1, 0, 0, 0, 6, 4 >",
          "0.233 | 1, 0, 1, 0, 6, 4 > + 0.157 | 0, 0, 1, 0, 6, 4 > + 0.157 | 1, 0, 0, 0, 6, 4 >",
          "0.234 | 1, 0, 1, 0, 6, 4 > + 0.157 | 1, 0, 0, 0, 6, 4 > + 0.157 | 0, 0, 1, 0, 6, 4 >",
          "0.234 | 1, 0, 1, 0, 6, -4 > + 0.157 | 1, 0, 0, 0, 6, -4 > + 0.157 | 0, 0, 1, 0, 6, -4 >",
          "0.234 | 1, 0, 1, 0, 6, 4 > + 0.158 | 0, 0, 1, 0, 6, 4 > + 0.158 | 1, 0, 0, 0, 6, 4 >",
          "0.234 | 1, 0, 1, 0, 6, 4 > + 0.158 | 0, 0, 1, 0, 6, 4 > + 0.158 | 1, 0, 0, 0, 6, 4 >"
         ],
         "type": "scatter",
         "x": [
          100,
          140,
          180,
          220,
          260,
          300.00000000000006,
          340,
          380,
          420,
          460,
          500,
          500,
          900,
          1299.9999999999998,
          1700,
          2100,
          2500,
          2900,
          3000,
          4000,
          5000,
          6000,
          7000
         ],
         "y": [
          0.09391835333645586,
          0.419949193204331,
          0.4690545043767813,
          0.4587828982623596,
          0.44118694167742906,
          0.4339925426145109,
          0.4309840524477288,
          0.4296798299721525,
          0.42908145819568566,
          0.42887277229620635,
          0.4287036529005945,
          0.4287036529005945,
          0.4284649680918283,
          0.42843061628889273,
          0.4284184091002338,
          0.4284126246248512,
          0.42840942258855,
          0.4284074637375198,
          0.42840709321435083,
          0.4284047901772692,
          0.42840372884478656,
          0.42840315367231885,
          0.4284028073708898
         ]
        },
        {
         "name": "State 725",
         "text": [
          "0.114 | 1, 1, 2, -2, 6, -6 > + 0.114 | 2, -2, 1, 1, 6, -6 > + 0.075 | 0, 0, 3, -3, 4, -4 >",
          "0.042 | 1, 0, 2, -1, 4, -2 > + 0.042 | 2, -1, 1, 0, 4, -2 > + 0.036 | 1, -1, 1, -1, 4, -1 >",
          "0.119 | 1, 0, 1, 0, 6, -4 > + 0.041 | 2, 1, 0, 0, 6, -5 > + 0.041 | 0, 0, 2, 1, 6, -5 >",
          "0.197 | 1, 0, 1, 0, 4, -2 > + 0.134 | 1, 0, 1, 0, 6, -2 > + 0.085 | 2, 0, 0, 0, 4, -2 >",
          "0.198 | 1, 0, 1, 0, 4, 2 > + 0.143 | 1, 0, 1, 0, 6, 2 > + 0.096 | 0, 0, 2, 0, 4, 2 >",
          "0.192 | 1, 0, 1, 0, 4, 2 > + 0.142 | 1, 0, 1, 0, 6, 2 > + 0.089 | 0, 0, 2, 0, 4, 2 >",
          "0.18 | 1, 0, 1, 0, 4, -2 > + 0.136 | 1, 0, 1, 0, 6, -2 > + 0.075 | 2, 0, 0, 0, 4, -2 >",
          "0.166 | 1, 0, 1, 0, 4, -2 > + 0.131 | 1, 0, 1, 0, 6, -2 > + 0.063 | 1, 0, 0, 0, 4, -2 >",
          "0.151 | 1, 0, 1, 0, 4, 2 > + 0.132 | 1, 0, 1, 0, 6, 2 > + 0.067 | 0, 0, 1, 0, 4, 2 >",
          "0.143 | 1, 0, 1, 0, 6, 2 > + 0.13 | 1, 0, 1, 0, 4, 2 > + 0.07 | 1, 0, 0, 0, 6, 2 >",
          "0.209 | 1, 0, 1, 0, 6, -6 > + 0.167 | 1, 0, 0, 0, 6, -6 > + 0.167 | 0, 0, 1, 0, 6, -6 >",
          "0.209 | 1, 0, 1, 0, 6, -6 > + 0.167 | 1, 0, 0, 0, 6, -6 > + 0.167 | 0, 0, 1, 0, 6, -6 >",
          "0.232 | 1, 0, 1, 0, 6, -5 > + 0.159 | 0, 0, 1, 0, 6, -5 > + 0.159 | 1, 0, 0, 0, 6, -5 >",
          "0.234 | 1, 0, 1, 0, 6, -5 > + 0.158 | 0, 0, 1, 0, 6, -5 > + 0.158 | 1, 0, 0, 0, 6, -5 >",
          "0.234 | 1, 0, 1, 0, 6, -5 > + 0.158 | 0, 0, 1, 0, 6, -5 > + 0.158 | 1, 0, 0, 0, 6, -5 >",
          "0.234 | 1, 0, 1, 0, 6, 5 > + 0.158 | 0, 0, 1, 0, 6, 5 > + 0.158 | 1, 0, 0, 0, 6, 5 >",
          "0.234 | 1, 0, 1, 0, 6, -5 > + 0.158 | 1, 0, 0, 0, 6, -5 > + 0.158 | 0, 0, 1, 0, 6, -5 >",
          "0.234 | 1, 0, 1, 0, 6, 5 > + 0.158 | 0, 0, 1, 0, 6, 5 > + 0.158 | 1, 0, 0, 0, 6, 5 >",
          "0.234 | 1, 0, 1, 0, 6, 5 > + 0.158 | 1, 0, 0, 0, 6, 5 > + 0.158 | 0, 0, 1, 0, 6, 5 >",
          "0.235 | 1, 0, 1, 0, 6, 5 > + 0.158 | 0, 0, 1, 0, 6, 5 > + 0.158 | 1, 0, 0, 0, 6, 5 >",
          "0.235 | 1, 0, 1, 0, 6, -5 > + 0.158 | 1, 0, 0, 0, 6, -5 > + 0.158 | 0, 0, 1, 0, 6, -5 >",
          "0.235 | 1, 0, 1, 0, 6, 5 > + 0.158 | 0, 0, 1, 0, 6, 5 > + 0.158 | 1, 0, 0, 0, 6, 5 >",
          "0.235 | 1, 0, 1, 0, 6, 5 > + 0.158 | 0, 0, 1, 0, 6, 5 > + 0.158 | 1, 0, 0, 0, 6, 5 >"
         ],
         "type": "scatter",
         "x": [
          100,
          140,
          180,
          220,
          260,
          300.00000000000006,
          340,
          380,
          420,
          460,
          500,
          500,
          900,
          1299.9999999999998,
          1700,
          2100,
          2500,
          2900,
          3000,
          4000,
          5000,
          6000,
          7000
         ],
         "y": [
          0.09419008483576491,
          0.42013040401605134,
          0.47118108773191586,
          0.46158090555682185,
          0.44277115119088944,
          0.4348518719631189,
          0.4314397305878295,
          0.42992933432302105,
          0.4292275320628703,
          0.4288820489145129,
          0.4287637102741289,
          0.4287637102741289,
          0.42846895511414523,
          0.42843229065832283,
          0.42841922373779945,
          0.42841307574620074,
          0.4284096969868258,
          0.42840764260199304,
          0.4284072553425825,
          0.42840486021979235,
          0.42840376518309864,
          0.42840317487878593,
          0.4284028208032541
         ]
        },
        {
         "name": "State 727",
         "text": [
          "0.044 | 2, -2, 2, 2, 2, 0 > + 0.044 | 2, 2, 2, -2, 2, 0 > + 0.032 | 1, -1, 1, 1, 2, 0 >",
          "0.167 | 2, -2, 1, -1, 4, -3 > + 0.167 | 1, -1, 2, -2, 4, -3 > + 0.077 | 1, -1, 2, -1, 6, -4 >",
          "0.09 | 1, -1, 2, 2, 4, -1 > + 0.09 | 2, -2, 1, 1, 4, 1 > + 0.09 | 2, 2, 1, -1, 4, -1 >",
          "0.214 | 1, 0, 1, 0, 4, -1 > + 0.099 | 2, 0, 0, 0, 4, -1 > + 0.099 | 0, 0, 2, 0, 4, -1 >",
          "0.21 | 1, 0, 1, 0, 4, 1 > + 0.111 | 2, 0, 0, 0, 4, 1 > + 0.111 | 0, 0, 2, 0, 4, 1 >",
          "0.205 | 1, 0, 1, 0, 4, -1 > + 0.106 | 0, 0, 2, 0, 4, -1 > + 0.106 | 2, 0, 0, 0, 4, -1 >",
          "0.194 | 1, 0, 1, 0, 4, -1 > + 0.092 | 2, 0, 0, 0, 4, -1 > + 0.092 | 0, 0, 2, 0, 4, -1 >",
          "0.183 | 1, 0, 1, 0, 4, 1 > + 0.089 | 1, 0, 1, 0, 6, 1 > + 0.079 | 0, 0, 2, 0, 4, 1 >",
          "0.171 | 1, 0, 1, 0, 4, 1 > + 0.089 | 1, 0, 1, 0, 6, 1 > + 0.067 | 2, 0, 0, 0, 4, 1 >",
          "0.159 | 1, 0, 1, 0, 4, -1 > + 0.093 | 1, 0, 1, 0, 6, -1 > + 0.068 | 0, 0, 1, 0, 4, -1 >",
          "0.142 | 1, 0, 1, 0, 4, 1 > + 0.107 | 1, 0, 1, 0, 6, 1 > + 0.067 | 1, 0, 0, 0, 4, 1 >",
          "0.142 | 1, 0, 1, 0, 4, 1 > + 0.107 | 1, 0, 1, 0, 6, 1 > + 0.067 | 1, 0, 0, 0, 4, 1 >",
          "0.23 | 1, 0, 1, 0, 6, -6 > + 0.16 | 0, 0, 1, 0, 6, -6 > + 0.16 | 1, 0, 0, 0, 6, -6 >",
          "0.233 | 1, 0, 1, 0, 6, 6 > + 0.158 | 1, 0, 0, 0, 6, 6 > + 0.158 | 0, 0, 1, 0, 6, 6 >",
          "0.234 | 1, 0, 1, 0, 6, -6 > + 0.158 | 1, 0, 0, 0, 6, -6 > + 0.158 | 0, 0, 1, 0, 6, -6 >",
          "0.234 | 1, 0, 1, 0, 6, -6 > + 0.158 | 0, 0, 1, 0, 6, -6 > + 0.158 | 1, 0, 0, 0, 6, -6 >",
          "0.234 | 1, 0, 1, 0, 6, 6 > + 0.158 | 1, 0, 0, 0, 6, 6 > + 0.158 | 0, 0, 1, 0, 6, 6 >",
          "0.234 | 1, 0, 1, 0, 6, 6 > + 0.158 | 1, 0, 0, 0, 6, 6 > + 0.158 | 0, 0, 1, 0, 6, 6 >",
          "0.234 | 1, 0, 1, 0, 6, 6 > + 0.158 | 1, 0, 0, 0, 6, 6 > + 0.158 | 0, 0, 1, 0, 6, 6 >",
          "0.234 | 1, 0, 1, 0, 6, 6 > + 0.158 | 1, 0, 0, 0, 6, 6 > + 0.158 | 0, 0, 1, 0, 6, 6 >",
          "0.235 | 1, 0, 1, 0, 6, 6 > + 0.158 | 1, 0, 0, 0, 6, 6 > + 0.158 | 0, 0, 1, 0, 6, 6 >",
          "0.235 | 1, 0, 1, 0, 6, 6 > + 0.158 | 0, 0, 1, 0, 6, 6 > + 0.158 | 1, 0, 0, 0, 6, 6 >",
          "0.235 | 1, 0, 1, 0, 6, 6 > + 0.158 | 1, 0, 0, 0, 6, 6 > + 0.158 | 0, 0, 1, 0, 6, 6 >"
         ],
         "type": "scatter",
         "x": [
          100,
          140,
          180,
          220,
          260,
          300.00000000000006,
          340,
          380,
          420,
          460,
          500,
          500,
          900,
          1299.9999999999998,
          1700,
          2100,
          2500,
          2900,
          3000,
          4000,
          5000,
          6000,
          7000
         ],
         "y": [
          0.09566720886122097,
          0.4203182660388521,
          0.47575387454889645,
          0.46991880077656384,
          0.44797889226348264,
          0.43781719647676526,
          0.4330104925308839,
          0.430731431527521,
          0.4296347127917144,
          0.42908892322604253,
          0.4288060579894055,
          0.4288060579894055,
          0.42847810244265616,
          0.428435068114591,
          0.42842043346475756,
          0.42841371096525643,
          0.4284100716938038,
          0.42840788206057434,
          0.4284074715510964,
          0.4284049512195759,
          0.4284038117361003,
          0.4284032018092313,
          0.4284028377591822
         ]
        }
       ],
       "frames": [],
       "layout": {
        "height": 400,
        "margin": {
         "b": 50,
         "l": 50,
         "r": 50,
         "t": 60
        },
        "plot_bgcolor": "white",
        "template": {
         "data": {
          "bar": [
           {
            "error_x": {
             "color": "#2a3f5f"
            },
            "error_y": {
             "color": "#2a3f5f"
            },
            "marker": {
             "line": {
              "color": "#E5ECF6",
              "width": 0.5
             }
            },
            "type": "bar"
           }
          ],
          "barpolar": [
           {
            "marker": {
             "line": {
              "color": "#E5ECF6",
              "width": 0.5
             }
            },
            "type": "barpolar"
           }
          ],
          "carpet": [
           {
            "aaxis": {
             "endlinecolor": "#2a3f5f",
             "gridcolor": "white",
             "linecolor": "white",
             "minorgridcolor": "white",
             "startlinecolor": "#2a3f5f"
            },
            "baxis": {
             "endlinecolor": "#2a3f5f",
             "gridcolor": "white",
             "linecolor": "white",
             "minorgridcolor": "white",
             "startlinecolor": "#2a3f5f"
            },
            "type": "carpet"
           }
          ],
          "choropleth": [
           {
            "colorbar": {
             "outlinewidth": 0,
             "ticks": ""
            },
            "type": "choropleth"
           }
          ],
          "contour": [
           {
            "colorbar": {
             "outlinewidth": 0,
             "ticks": ""
            },
            "colorscale": [
             [
              0,
              "#0d0887"
             ],
             [
              0.1111111111111111,
              "#46039f"
             ],
             [
              0.2222222222222222,
              "#7201a8"
             ],
             [
              0.3333333333333333,
              "#9c179e"
             ],
             [
              0.4444444444444444,
              "#bd3786"
             ],
             [
              0.5555555555555556,
              "#d8576b"
             ],
             [
              0.6666666666666666,
              "#ed7953"
             ],
             [
              0.7777777777777778,
              "#fb9f3a"
             ],
             [
              0.8888888888888888,
              "#fdca26"
             ],
             [
              1,
              "#f0f921"
             ]
            ],
            "type": "contour"
           }
          ],
          "contourcarpet": [
           {
            "colorbar": {
             "outlinewidth": 0,
             "ticks": ""
            },
            "type": "contourcarpet"
           }
          ],
          "heatmap": [
           {
            "colorbar": {
             "outlinewidth": 0,
             "ticks": ""
            },
            "colorscale": [
             [
              0,
              "#0d0887"
             ],
             [
              0.1111111111111111,
              "#46039f"
             ],
             [
              0.2222222222222222,
              "#7201a8"
             ],
             [
              0.3333333333333333,
              "#9c179e"
             ],
             [
              0.4444444444444444,
              "#bd3786"
             ],
             [
              0.5555555555555556,
              "#d8576b"
             ],
             [
              0.6666666666666666,
              "#ed7953"
             ],
             [
              0.7777777777777778,
              "#fb9f3a"
             ],
             [
              0.8888888888888888,
              "#fdca26"
             ],
             [
              1,
              "#f0f921"
             ]
            ],
            "type": "heatmap"
           }
          ],
          "heatmapgl": [
           {
            "colorbar": {
             "outlinewidth": 0,
             "ticks": ""
            },
            "colorscale": [
             [
              0,
              "#0d0887"
             ],
             [
              0.1111111111111111,
              "#46039f"
             ],
             [
              0.2222222222222222,
              "#7201a8"
             ],
             [
              0.3333333333333333,
              "#9c179e"
             ],
             [
              0.4444444444444444,
              "#bd3786"
             ],
             [
              0.5555555555555556,
              "#d8576b"
             ],
             [
              0.6666666666666666,
              "#ed7953"
             ],
             [
              0.7777777777777778,
              "#fb9f3a"
             ],
             [
              0.8888888888888888,
              "#fdca26"
             ],
             [
              1,
              "#f0f921"
             ]
            ],
            "type": "heatmapgl"
           }
          ],
          "histogram": [
           {
            "marker": {
             "colorbar": {
              "outlinewidth": 0,
              "ticks": ""
             }
            },
            "type": "histogram"
           }
          ],
          "histogram2d": [
           {
            "colorbar": {
             "outlinewidth": 0,
             "ticks": ""
            },
            "colorscale": [
             [
              0,
              "#0d0887"
             ],
             [
              0.1111111111111111,
              "#46039f"
             ],
             [
              0.2222222222222222,
              "#7201a8"
             ],
             [
              0.3333333333333333,
              "#9c179e"
             ],
             [
              0.4444444444444444,
              "#bd3786"
             ],
             [
              0.5555555555555556,
              "#d8576b"
             ],
             [
              0.6666666666666666,
              "#ed7953"
             ],
             [
              0.7777777777777778,
              "#fb9f3a"
             ],
             [
              0.8888888888888888,
              "#fdca26"
             ],
             [
              1,
              "#f0f921"
             ]
            ],
            "type": "histogram2d"
           }
          ],
          "histogram2dcontour": [
           {
            "colorbar": {
             "outlinewidth": 0,
             "ticks": ""
            },
            "colorscale": [
             [
              0,
              "#0d0887"
             ],
             [
              0.1111111111111111,
              "#46039f"
             ],
             [
              0.2222222222222222,
              "#7201a8"
             ],
             [
              0.3333333333333333,
              "#9c179e"
             ],
             [
              0.4444444444444444,
              "#bd3786"
             ],
             [
              0.5555555555555556,
              "#d8576b"
             ],
             [
              0.6666666666666666,
              "#ed7953"
             ],
             [
              0.7777777777777778,
              "#fb9f3a"
             ],
             [
              0.8888888888888888,
              "#fdca26"
             ],
             [
              1,
              "#f0f921"
             ]
            ],
            "type": "histogram2dcontour"
           }
          ],
          "mesh3d": [
           {
            "colorbar": {
             "outlinewidth": 0,
             "ticks": ""
            },
            "type": "mesh3d"
           }
          ],
          "parcoords": [
           {
            "line": {
             "colorbar": {
              "outlinewidth": 0,
              "ticks": ""
             }
            },
            "type": "parcoords"
           }
          ],
          "pie": [
           {
            "automargin": true,
            "type": "pie"
           }
          ],
          "scatter": [
           {
            "marker": {
             "colorbar": {
              "outlinewidth": 0,
              "ticks": ""
             }
            },
            "type": "scatter"
           }
          ],
          "scatter3d": [
           {
            "line": {
             "colorbar": {
              "outlinewidth": 0,
              "ticks": ""
             }
            },
            "marker": {
             "colorbar": {
              "outlinewidth": 0,
              "ticks": ""
             }
            },
            "type": "scatter3d"
           }
          ],
          "scattercarpet": [
           {
            "marker": {
             "colorbar": {
              "outlinewidth": 0,
              "ticks": ""
             }
            },
            "type": "scattercarpet"
           }
          ],
          "scattergeo": [
           {
            "marker": {
             "colorbar": {
              "outlinewidth": 0,
              "ticks": ""
             }
            },
            "type": "scattergeo"
           }
          ],
          "scattergl": [
           {
            "marker": {
             "colorbar": {
              "outlinewidth": 0,
              "ticks": ""
             }
            },
            "type": "scattergl"
           }
          ],
          "scattermapbox": [
           {
            "marker": {
             "colorbar": {
              "outlinewidth": 0,
              "ticks": ""
             }
            },
            "type": "scattermapbox"
           }
          ],
          "scatterpolar": [
           {
            "marker": {
             "colorbar": {
              "outlinewidth": 0,
              "ticks": ""
             }
            },
            "type": "scatterpolar"
           }
          ],
          "scatterpolargl": [
           {
            "marker": {
             "colorbar": {
              "outlinewidth": 0,
              "ticks": ""
             }
            },
            "type": "scatterpolargl"
           }
          ],
          "scatterternary": [
           {
            "marker": {
             "colorbar": {
              "outlinewidth": 0,
              "ticks": ""
             }
            },
            "type": "scatterternary"
           }
          ],
          "surface": [
           {
            "colorbar": {
             "outlinewidth": 0,
             "ticks": ""
            },
            "colorscale": [
             [
              0,
              "#0d0887"
             ],
             [
              0.1111111111111111,
              "#46039f"
             ],
             [
              0.2222222222222222,
              "#7201a8"
             ],
             [
              0.3333333333333333,
              "#9c179e"
             ],
             [
              0.4444444444444444,
              "#bd3786"
             ],
             [
              0.5555555555555556,
              "#d8576b"
             ],
             [
              0.6666666666666666,
              "#ed7953"
             ],
             [
              0.7777777777777778,
              "#fb9f3a"
             ],
             [
              0.8888888888888888,
              "#fdca26"
             ],
             [
              1,
              "#f0f921"
             ]
            ],
            "type": "surface"
           }
          ],
          "table": [
           {
            "cells": {
             "fill": {
              "color": "#EBF0F8"
             },
             "line": {
              "color": "white"
             }
            },
            "header": {
             "fill": {
              "color": "#C8D4E3"
             },
             "line": {
              "color": "white"
             }
            },
            "type": "table"
           }
          ]
         },
         "layout": {
          "annotationdefaults": {
           "arrowcolor": "#2a3f5f",
           "arrowhead": 0,
           "arrowwidth": 1
          },
          "autotypenumbers": "strict",
          "coloraxis": {
           "colorbar": {
            "outlinewidth": 0,
            "ticks": ""
           }
          },
          "colorscale": {
           "diverging": [
            [
             0,
             "#8e0152"
            ],
            [
             0.1,
             "#c51b7d"
            ],
            [
             0.2,
             "#de77ae"
            ],
            [
             0.3,
             "#f1b6da"
            ],
            [
             0.4,
             "#fde0ef"
            ],
            [
             0.5,
             "#f7f7f7"
            ],
            [
             0.6,
             "#e6f5d0"
            ],
            [
             0.7,
             "#b8e186"
            ],
            [
             0.8,
             "#7fbc41"
            ],
            [
             0.9,
             "#4d9221"
            ],
            [
             1,
             "#276419"
            ]
           ],
           "sequential": [
            [
             0,
             "#0d0887"
            ],
            [
             0.1111111111111111,
             "#46039f"
            ],
            [
             0.2222222222222222,
             "#7201a8"
            ],
            [
             0.3333333333333333,
             "#9c179e"
            ],
            [
             0.4444444444444444,
             "#bd3786"
            ],
            [
             0.5555555555555556,
             "#d8576b"
            ],
            [
             0.6666666666666666,
             "#ed7953"
            ],
            [
             0.7777777777777778,
             "#fb9f3a"
            ],
            [
             0.8888888888888888,
             "#fdca26"
            ],
            [
             1,
             "#f0f921"
            ]
           ],
           "sequentialminus": [
            [
             0,
             "#0d0887"
            ],
            [
             0.1111111111111111,
             "#46039f"
            ],
            [
             0.2222222222222222,
             "#7201a8"
            ],
            [
             0.3333333333333333,
             "#9c179e"
            ],
            [
             0.4444444444444444,
             "#bd3786"
            ],
            [
             0.5555555555555556,
             "#d8576b"
            ],
            [
             0.6666666666666666,
             "#ed7953"
            ],
            [
             0.7777777777777778,
             "#fb9f3a"
            ],
            [
             0.8888888888888888,
             "#fdca26"
            ],
            [
             1,
             "#f0f921"
            ]
           ]
          },
          "colorway": [
           "#636efa",
           "#EF553B",
           "#00cc96",
           "#ab63fa",
           "#FFA15A",
           "#19d3f3",
           "#FF6692",
           "#B6E880",
           "#FF97FF",
           "#FECB52"
          ],
          "font": {
           "color": "#2a3f5f"
          },
          "geo": {
           "bgcolor": "white",
           "lakecolor": "white",
           "landcolor": "#E5ECF6",
           "showlakes": true,
           "showland": true,
           "subunitcolor": "white"
          },
          "hoverlabel": {
           "align": "left"
          },
          "hovermode": "closest",
          "mapbox": {
           "style": "light"
          },
          "paper_bgcolor": "white",
          "plot_bgcolor": "#E5ECF6",
          "polar": {
           "angularaxis": {
            "gridcolor": "white",
            "linecolor": "white",
            "ticks": ""
           },
           "bgcolor": "#E5ECF6",
           "radialaxis": {
            "gridcolor": "white",
            "linecolor": "white",
            "ticks": ""
           }
          },
          "scene": {
           "xaxis": {
            "backgroundcolor": "#E5ECF6",
            "gridcolor": "white",
            "gridwidth": 2,
            "linecolor": "white",
            "showbackground": true,
            "ticks": "",
            "zerolinecolor": "white"
           },
           "yaxis": {
            "backgroundcolor": "#E5ECF6",
            "gridcolor": "white",
            "gridwidth": 2,
            "linecolor": "white",
            "showbackground": true,
            "ticks": "",
            "zerolinecolor": "white"
           },
           "zaxis": {
            "backgroundcolor": "#E5ECF6",
            "gridcolor": "white",
            "gridwidth": 2,
            "linecolor": "white",
            "showbackground": true,
            "ticks": "",
            "zerolinecolor": "white"
           }
          },
          "shapedefaults": {
           "line": {
            "color": "#2a3f5f"
           }
          },
          "ternary": {
           "aaxis": {
            "gridcolor": "white",
            "linecolor": "white",
            "ticks": ""
           },
           "baxis": {
            "gridcolor": "white",
            "linecolor": "white",
            "ticks": ""
           },
           "bgcolor": "#E5ECF6",
           "caxis": {
            "gridcolor": "white",
            "linecolor": "white",
            "ticks": ""
           }
          },
          "title": {
           "x": 0.05
          },
          "xaxis": {
           "automargin": true,
           "gridcolor": "white",
           "linecolor": "white",
           "ticks": "",
           "title": {
            "standoff": 15
           },
           "zerolinecolor": "white",
           "zerolinewidth": 2
          },
          "yaxis": {
           "automargin": true,
           "gridcolor": "white",
           "linecolor": "white",
           "ticks": "",
           "title": {
            "standoff": 15
           },
           "zerolinecolor": "white",
           "zerolinewidth": 2
          }
         }
        },
        "title": "Energy Spectrum",
        "width": 1000,
        "xaxis": {
         "gridcolor": "lightgrey",
         "linecolor": "black",
         "mirror": true,
         "showline": true,
         "ticks": "outside",
         "title": "R (a0)",
         "type": "log"
        },
        "yaxis": {
         "gridcolor": "lightgrey",
         "linecolor": "black",
         "mirror": true,
         "showline": true,
         "ticks": "outside",
         "title": "Energy (K)"
        }
       }
      },
      "text/html": [
       "<div\n",
       "    class=\"webio-mountpoint\"\n",
       "    data-webio-mountpoint=\"3764906989773751317\"\n",
       ">\n",
       "    <script>\n",
       "    (function(){\n",
       "    // Some integrations (namely, IJulia/Jupyter) use an alternate render pathway than\n",
       "    // just putting the html on the page. If WebIO isn't defined, then it's pretty likely\n",
       "    // that we're in one of those situations and the integration just isn't installed\n",
       "    // correctly.\n",
       "    if (typeof window.WebIO === \"undefined\") {\n",
       "        document\n",
       "            .querySelector('[data-webio-mountpoint=\"3764906989773751317\"]')\n",
       "            .innerHTML = (\n",
       "                '<div style=\"padding: 1em; background-color: #f8d6da; border: 1px solid #f5c6cb; font-weight: bold;\">' +\n",
       "                '<p><strong>WebIO not detected.</strong></p>' +\n",
       "                '<p>Please read ' +\n",
       "                '<a href=\"https://juliagizmos.github.io/WebIO.jl/latest/troubleshooting/not-detected/\" target=\"_blank\">the troubleshooting guide</a> ' +\n",
       "                'for more information on how to resolve this issue.</p>' +\n",
       "                '<p><a href=\"https://juliagizmos.github.io/WebIO.jl/latest/troubleshooting/not-detected/\" target=\"_blank\">https://juliagizmos.github.io/WebIO.jl/latest/troubleshooting/not-detected/</a></p>' +\n",
       "                '</div>'\n",
       "            );\n",
       "        return;\n",
       "    }\n",
       "    WebIO.mount(\n",
       "        document.querySelector('[data-webio-mountpoint=\"3764906989773751317\"]'),\n",
       "        {\"props\":{},\"nodeType\":\"Scope\",\"type\":\"node\",\"instanceArgs\":{\"imports\":{\"data\":[{\"name\":\"Plotly\",\"type\":\"js\",\"url\":\"\\/assetserver\\/b039e8b2816b3419c8cf3a0d65d34e1c494930ad-plotly.min.js\"},{\"name\":null,\"type\":\"js\",\"url\":\"\\/assetserver\\/cca053ecfc4e8e565aa8ba96281f9266c41c681a-plotly_webio.bundle.js\"}],\"type\":\"async_block\"},\"id\":\"22227379763266391\",\"handlers\":{\"_toImage\":[\"(function (options){return this.Plotly.toImage(this.plotElem,options).then((function (data){return WebIO.setval({\\\"name\\\":\\\"image\\\",\\\"scope\\\":\\\"22227379763266391\\\",\\\"id\\\":\\\"1912121702951284606\\\",\\\"type\\\":\\\"observable\\\"},data)}))})\"],\"__get_gd_contents\":[\"(function (prop){prop==\\\"data\\\" ? (WebIO.setval({\\\"name\\\":\\\"__gd_contents\\\",\\\"scope\\\":\\\"22227379763266391\\\",\\\"id\\\":\\\"3761310548731181792\\\",\\\"type\\\":\\\"observable\\\"},this.plotElem.data)) : undefined; return prop==\\\"layout\\\" ? (WebIO.setval({\\\"name\\\":\\\"__gd_contents\\\",\\\"scope\\\":\\\"22227379763266391\\\",\\\"id\\\":\\\"3761310548731181792\\\",\\\"type\\\":\\\"observable\\\"},this.plotElem.layout)) : undefined})\"],\"_downloadImage\":[\"(function (options){return this.Plotly.downloadImage(this.plotElem,options)})\"],\"_commands\":[\"(function (args){var fn=args.shift(); var elem=this.plotElem; var Plotly=this.Plotly; args.unshift(elem); return Plotly[fn].apply(this,args)})\"]},\"systemjs_options\":null,\"mount_callbacks\":[\"function () {\\n    var handler = ((function (Plotly,PlotlyWebIO){PlotlyWebIO.init(WebIO); var gd=this.dom.querySelector(\\\"#plot-db5da4e5-c14d-4b08-959b-bcc5dfded83a\\\"); this.plotElem=gd; this.Plotly=Plotly; (window.Blink!==undefined) ? (gd.style.width=\\\"100%\\\", gd.style.height=\\\"100vh\\\", gd.style.marginLeft=\\\"0%\\\", gd.style.marginTop=\\\"0vh\\\") : undefined; window.onresize=(function (){return Plotly.Plots.resize(gd)}); Plotly.newPlot(gd,[],{\\\"template\\\":{\\\"layout\\\":{\\\"coloraxis\\\":{\\\"colorbar\\\":{\\\"ticks\\\":\\\"\\\",\\\"outlinewidth\\\":0}},\\\"xaxis\\\":{\\\"gridcolor\\\":\\\"white\\\",\\\"zerolinewidth\\\":2,\\\"title\\\":{\\\"standoff\\\":15},\\\"ticks\\\":\\\"\\\",\\\"zerolinecolor\\\":\\\"white\\\",\\\"automargin\\\":true,\\\"linecolor\\\":\\\"white\\\"},\\\"hovermode\\\":\\\"closest\\\",\\\"paper_bgcolor\\\":\\\"white\\\",\\\"geo\\\":{\\\"showlakes\\\":true,\\\"showland\\\":true,\\\"landcolor\\\":\\\"#E5ECF6\\\",\\\"bgcolor\\\":\\\"white\\\",\\\"subunitcolor\\\":\\\"white\\\",\\\"lakecolor\\\":\\\"white\\\"},\\\"colorscale\\\":{\\\"sequential\\\":[[0.0,\\\"#0d0887\\\"],[0.1111111111111111,\\\"#46039f\\\"],[0.2222222222222222,\\\"#7201a8\\\"],[0.3333333333333333,\\\"#9c179e\\\"],[0.4444444444444444,\\\"#bd3786\\\"],[0.5555555555555556,\\\"#d8576b\\\"],[0.6666666666666666,\\\"#ed7953\\\"],[0.7777777777777778,\\\"#fb9f3a\\\"],[0.8888888888888888,\\\"#fdca26\\\"],[1.0,\\\"#f0f921\\\"]],\\\"diverging\\\":[[0,\\\"#8e0152\\\"],[0.1,\\\"#c51b7d\\\"],[0.2,\\\"#de77ae\\\"],[0.3,\\\"#f1b6da\\\"],[0.4,\\\"#fde0ef\\\"],[0.5,\\\"#f7f7f7\\\"],[0.6,\\\"#e6f5d0\\\"],[0.7,\\\"#b8e186\\\"],[0.8,\\\"#7fbc41\\\"],[0.9,\\\"#4d9221\\\"],[1,\\\"#276419\\\"]],\\\"sequentialminus\\\":[[0.0,\\\"#0d0887\\\"],[0.1111111111111111,\\\"#46039f\\\"],[0.2222222222222222,\\\"#7201a8\\\"],[0.3333333333333333,\\\"#9c179e\\\"],[0.4444444444444444,\\\"#bd3786\\\"],[0.5555555555555556,\\\"#d8576b\\\"],[0.6666666666666666,\\\"#ed7953\\\"],[0.7777777777777778,\\\"#fb9f3a\\\"],[0.8888888888888888,\\\"#fdca26\\\"],[1.0,\\\"#f0f921\\\"]]},\\\"yaxis\\\":{\\\"gridcolor\\\":\\\"white\\\",\\\"zerolinewidth\\\":2,\\\"title\\\":{\\\"standoff\\\":15},\\\"ticks\\\":\\\"\\\",\\\"zerolinecolor\\\":\\\"white\\\",\\\"automargin\\\":true,\\\"linecolor\\\":\\\"white\\\"},\\\"shapedefaults\\\":{\\\"line\\\":{\\\"color\\\":\\\"#2a3f5f\\\"}},\\\"hoverlabel\\\":{\\\"align\\\":\\\"left\\\"},\\\"mapbox\\\":{\\\"style\\\":\\\"light\\\"},\\\"polar\\\":{\\\"angularaxis\\\":{\\\"gridcolor\\\":\\\"white\\\",\\\"ticks\\\":\\\"\\\",\\\"linecolor\\\":\\\"white\\\"},\\\"bgcolor\\\":\\\"#E5ECF6\\\",\\\"radialaxis\\\":{\\\"gridcolor\\\":\\\"white\\\",\\\"ticks\\\":\\\"\\\",\\\"linecolor\\\":\\\"white\\\"}},\\\"autotypenumbers\\\":\\\"strict\\\",\\\"font\\\":{\\\"color\\\":\\\"#2a3f5f\\\"},\\\"ternary\\\":{\\\"baxis\\\":{\\\"gridcolor\\\":\\\"white\\\",\\\"ticks\\\":\\\"\\\",\\\"linecolor\\\":\\\"white\\\"},\\\"bgcolor\\\":\\\"#E5ECF6\\\",\\\"caxis\\\":{\\\"gridcolor\\\":\\\"white\\\",\\\"ticks\\\":\\\"\\\",\\\"linecolor\\\":\\\"white\\\"},\\\"aaxis\\\":{\\\"gridcolor\\\":\\\"white\\\",\\\"ticks\\\":\\\"\\\",\\\"linecolor\\\":\\\"white\\\"}},\\\"annotationdefaults\\\":{\\\"arrowhead\\\":0,\\\"arrowwidth\\\":1,\\\"arrowcolor\\\":\\\"#2a3f5f\\\"},\\\"plot_bgcolor\\\":\\\"#E5ECF6\\\",\\\"title\\\":{\\\"x\\\":0.05},\\\"scene\\\":{\\\"xaxis\\\":{\\\"gridcolor\\\":\\\"white\\\",\\\"gridwidth\\\":2,\\\"backgroundcolor\\\":\\\"#E5ECF6\\\",\\\"ticks\\\":\\\"\\\",\\\"showbackground\\\":true,\\\"zerolinecolor\\\":\\\"white\\\",\\\"linecolor\\\":\\\"white\\\"},\\\"zaxis\\\":{\\\"gridcolor\\\":\\\"white\\\",\\\"gridwidth\\\":2,\\\"backgroundcolor\\\":\\\"#E5ECF6\\\",\\\"ticks\\\":\\\"\\\",\\\"showbackground\\\":true,\\\"zerolinecolor\\\":\\\"white\\\",\\\"linecolor\\\":\\\"white\\\"},\\\"yaxis\\\":{\\\"gridcolor\\\":\\\"white\\\",\\\"gridwidth\\\":2,\\\"backgroundcolor\\\":\\\"#E5ECF6\\\",\\\"ticks\\\":\\\"\\\",\\\"showbackground\\\":true,\\\"zerolinecolor\\\":\\\"white\\\",\\\"linecolor\\\":\\\"white\\\"}},\\\"colorway\\\":[\\\"#636efa\\\",\\\"#EF553B\\\",\\\"#00cc96\\\",\\\"#ab63fa\\\",\\\"#FFA15A\\\",\\\"#19d3f3\\\",\\\"#FF6692\\\",\\\"#B6E880\\\",\\\"#FF97FF\\\",\\\"#FECB52\\\"]},\\\"data\\\":{\\\"barpolar\\\":[{\\\"type\\\":\\\"barpolar\\\",\\\"marker\\\":{\\\"line\\\":{\\\"color\\\":\\\"#E5ECF6\\\",\\\"width\\\":0.5}}}],\\\"carpet\\\":[{\\\"aaxis\\\":{\\\"gridcolor\\\":\\\"white\\\",\\\"endlinecolor\\\":\\\"#2a3f5f\\\",\\\"minorgridcolor\\\":\\\"white\\\",\\\"startlinecolor\\\":\\\"#2a3f5f\\\",\\\"linecolor\\\":\\\"white\\\"},\\\"type\\\":\\\"carpet\\\",\\\"baxis\\\":{\\\"gridcolor\\\":\\\"white\\\",\\\"endlinecolor\\\":\\\"#2a3f5f\\\",\\\"minorgridcolor\\\":\\\"white\\\",\\\"startlinecolor\\\":\\\"#2a3f5f\\\",\\\"linecolor\\\":\\\"white\\\"}}],\\\"scatterpolar\\\":[{\\\"type\\\":\\\"scatterpolar\\\",\\\"marker\\\":{\\\"colorbar\\\":{\\\"ticks\\\":\\\"\\\",\\\"outlinewidth\\\":0}}}],\\\"parcoords\\\":[{\\\"line\\\":{\\\"colorbar\\\":{\\\"ticks\\\":\\\"\\\",\\\"outlinewidth\\\":0}},\\\"type\\\":\\\"parcoords\\\"}],\\\"scatter\\\":[{\\\"type\\\":\\\"scatter\\\",\\\"marker\\\":{\\\"colorbar\\\":{\\\"ticks\\\":\\\"\\\",\\\"outlinewidth\\\":0}}}],\\\"histogram2dcontour\\\":[{\\\"colorbar\\\":{\\\"ticks\\\":\\\"\\\",\\\"outlinewidth\\\":0},\\\"type\\\":\\\"histogram2dcontour\\\",\\\"colorscale\\\":[[0.0,\\\"#0d0887\\\"],[0.1111111111111111,\\\"#46039f\\\"],[0.2222222222222222,\\\"#7201a8\\\"],[0.3333333333333333,\\\"#9c179e\\\"],[0.4444444444444444,\\\"#bd3786\\\"],[0.5555555555555556,\\\"#d8576b\\\"],[0.6666666666666666,\\\"#ed7953\\\"],[0.7777777777777778,\\\"#fb9f3a\\\"],[0.8888888888888888,\\\"#fdca26\\\"],[1.0,\\\"#f0f921\\\"]]}],\\\"contour\\\":[{\\\"colorbar\\\":{\\\"ticks\\\":\\\"\\\",\\\"outlinewidth\\\":0},\\\"type\\\":\\\"contour\\\",\\\"colorscale\\\":[[0.0,\\\"#0d0887\\\"],[0.1111111111111111,\\\"#46039f\\\"],[0.2222222222222222,\\\"#7201a8\\\"],[0.3333333333333333,\\\"#9c179e\\\"],[0.4444444444444444,\\\"#bd3786\\\"],[0.5555555555555556,\\\"#d8576b\\\"],[0.6666666666666666,\\\"#ed7953\\\"],[0.7777777777777778,\\\"#fb9f3a\\\"],[0.8888888888888888,\\\"#fdca26\\\"],[1.0,\\\"#f0f921\\\"]]}],\\\"scattercarpet\\\":[{\\\"type\\\":\\\"scattercarpet\\\",\\\"marker\\\":{\\\"colorbar\\\":{\\\"ticks\\\":\\\"\\\",\\\"outlinewidth\\\":0}}}],\\\"mesh3d\\\":[{\\\"colorbar\\\":{\\\"ticks\\\":\\\"\\\",\\\"outlinewidth\\\":0},\\\"type\\\":\\\"mesh3d\\\"}],\\\"surface\\\":[{\\\"colorbar\\\":{\\\"ticks\\\":\\\"\\\",\\\"outlinewidth\\\":0},\\\"type\\\":\\\"surface\\\",\\\"colorscale\\\":[[0.0,\\\"#0d0887\\\"],[0.1111111111111111,\\\"#46039f\\\"],[0.2222222222222222,\\\"#7201a8\\\"],[0.3333333333333333,\\\"#9c179e\\\"],[0.4444444444444444,\\\"#bd3786\\\"],[0.5555555555555556,\\\"#d8576b\\\"],[0.6666666666666666,\\\"#ed7953\\\"],[0.7777777777777778,\\\"#fb9f3a\\\"],[0.8888888888888888,\\\"#fdca26\\\"],[1.0,\\\"#f0f921\\\"]]}],\\\"scattermapbox\\\":[{\\\"type\\\":\\\"scattermapbox\\\",\\\"marker\\\":{\\\"colorbar\\\":{\\\"ticks\\\":\\\"\\\",\\\"outlinewidth\\\":0}}}],\\\"scattergeo\\\":[{\\\"type\\\":\\\"scattergeo\\\",\\\"marker\\\":{\\\"colorbar\\\":{\\\"ticks\\\":\\\"\\\",\\\"outlinewidth\\\":0}}}],\\\"histogram\\\":[{\\\"type\\\":\\\"histogram\\\",\\\"marker\\\":{\\\"colorbar\\\":{\\\"ticks\\\":\\\"\\\",\\\"outlinewidth\\\":0}}}],\\\"pie\\\":[{\\\"type\\\":\\\"pie\\\",\\\"automargin\\\":true}],\\\"choropleth\\\":[{\\\"colorbar\\\":{\\\"ticks\\\":\\\"\\\",\\\"outlinewidth\\\":0},\\\"type\\\":\\\"choropleth\\\"}],\\\"heatmapgl\\\":[{\\\"colorbar\\\":{\\\"ticks\\\":\\\"\\\",\\\"outlinewidth\\\":0},\\\"type\\\":\\\"heatmapgl\\\",\\\"colorscale\\\":[[0.0,\\\"#0d0887\\\"],[0.1111111111111111,\\\"#46039f\\\"],[0.2222222222222222,\\\"#7201a8\\\"],[0.3333333333333333,\\\"#9c179e\\\"],[0.4444444444444444,\\\"#bd3786\\\"],[0.5555555555555556,\\\"#d8576b\\\"],[0.6666666666666666,\\\"#ed7953\\\"],[0.7777777777777778,\\\"#fb9f3a\\\"],[0.8888888888888888,\\\"#fdca26\\\"],[1.0,\\\"#f0f921\\\"]]}],\\\"bar\\\":[{\\\"type\\\":\\\"bar\\\",\\\"error_y\\\":{\\\"color\\\":\\\"#2a3f5f\\\"},\\\"error_x\\\":{\\\"color\\\":\\\"#2a3f5f\\\"},\\\"marker\\\":{\\\"line\\\":{\\\"color\\\":\\\"#E5ECF6\\\",\\\"width\\\":0.5}}}],\\\"heatmap\\\":[{\\\"colorbar\\\":{\\\"ticks\\\":\\\"\\\",\\\"outlinewidth\\\":0},\\\"type\\\":\\\"heatmap\\\",\\\"colorscale\\\":[[0.0,\\\"#0d0887\\\"],[0.1111111111111111,\\\"#46039f\\\"],[0.2222222222222222,\\\"#7201a8\\\"],[0.3333333333333333,\\\"#9c179e\\\"],[0.4444444444444444,\\\"#bd3786\\\"],[0.5555555555555556,\\\"#d8576b\\\"],[0.6666666666666666,\\\"#ed7953\\\"],[0.7777777777777778,\\\"#fb9f3a\\\"],[0.8888888888888888,\\\"#fdca26\\\"],[1.0,\\\"#f0f921\\\"]]}],\\\"contourcarpet\\\":[{\\\"colorbar\\\":{\\\"ticks\\\":\\\"\\\",\\\"outlinewidth\\\":0},\\\"type\\\":\\\"contourcarpet\\\"}],\\\"table\\\":[{\\\"type\\\":\\\"table\\\",\\\"header\\\":{\\\"line\\\":{\\\"color\\\":\\\"white\\\"},\\\"fill\\\":{\\\"color\\\":\\\"#C8D4E3\\\"}},\\\"cells\\\":{\\\"line\\\":{\\\"color\\\":\\\"white\\\"},\\\"fill\\\":{\\\"color\\\":\\\"#EBF0F8\\\"}}}],\\\"scatter3d\\\":[{\\\"line\\\":{\\\"colorbar\\\":{\\\"ticks\\\":\\\"\\\",\\\"outlinewidth\\\":0}},\\\"type\\\":\\\"scatter3d\\\",\\\"marker\\\":{\\\"colorbar\\\":{\\\"ticks\\\":\\\"\\\",\\\"outlinewidth\\\":0}}}],\\\"scattergl\\\":[{\\\"type\\\":\\\"scattergl\\\",\\\"marker\\\":{\\\"colorbar\\\":{\\\"ticks\\\":\\\"\\\",\\\"outlinewidth\\\":0}}}],\\\"histogram2d\\\":[{\\\"colorbar\\\":{\\\"ticks\\\":\\\"\\\",\\\"outlinewidth\\\":0},\\\"type\\\":\\\"histogram2d\\\",\\\"colorscale\\\":[[0.0,\\\"#0d0887\\\"],[0.1111111111111111,\\\"#46039f\\\"],[0.2222222222222222,\\\"#7201a8\\\"],[0.3333333333333333,\\\"#9c179e\\\"],[0.4444444444444444,\\\"#bd3786\\\"],[0.5555555555555556,\\\"#d8576b\\\"],[0.6666666666666666,\\\"#ed7953\\\"],[0.7777777777777778,\\\"#fb9f3a\\\"],[0.8888888888888888,\\\"#fdca26\\\"],[1.0,\\\"#f0f921\\\"]]}],\\\"scatterternary\\\":[{\\\"type\\\":\\\"scatterternary\\\",\\\"marker\\\":{\\\"colorbar\\\":{\\\"ticks\\\":\\\"\\\",\\\"outlinewidth\\\":0}}}],\\\"scatterpolargl\\\":[{\\\"type\\\":\\\"scatterpolargl\\\",\\\"marker\\\":{\\\"colorbar\\\":{\\\"ticks\\\":\\\"\\\",\\\"outlinewidth\\\":0}}}]}},\\\"margin\\\":{\\\"l\\\":50,\\\"b\\\":50,\\\"r\\\":50,\\\"t\\\":60}},{\\\"showLink\\\":false,\\\"editable\\\":false,\\\"responsive\\\":true,\\\"staticPlot\\\":false,\\\"scrollZoom\\\":true}); gd.on(\\\"plotly_hover\\\",(function (data){var filtered_data=WebIO.PlotlyCommands.filterEventData(gd,data,\\\"hover\\\"); return !(filtered_data.isnil) ? (WebIO.setval({\\\"name\\\":\\\"hover\\\",\\\"scope\\\":\\\"22227379763266391\\\",\\\"id\\\":\\\"3857355636093723223\\\",\\\"type\\\":\\\"observable\\\"},filtered_data.out)) : undefined})); gd.on(\\\"plotly_unhover\\\",(function (){return WebIO.setval({\\\"name\\\":\\\"hover\\\",\\\"scope\\\":\\\"22227379763266391\\\",\\\"id\\\":\\\"3857355636093723223\\\",\\\"type\\\":\\\"observable\\\"},{})})); gd.on(\\\"plotly_selected\\\",(function (data){var filtered_data=WebIO.PlotlyCommands.filterEventData(gd,data,\\\"selected\\\"); return !(filtered_data.isnil) ? (WebIO.setval({\\\"name\\\":\\\"selected\\\",\\\"scope\\\":\\\"22227379763266391\\\",\\\"id\\\":\\\"7108264740986732361\\\",\\\"type\\\":\\\"observable\\\"},filtered_data.out)) : undefined})); gd.on(\\\"plotly_deselect\\\",(function (){return WebIO.setval({\\\"name\\\":\\\"selected\\\",\\\"scope\\\":\\\"22227379763266391\\\",\\\"id\\\":\\\"7108264740986732361\\\",\\\"type\\\":\\\"observable\\\"},{})})); gd.on(\\\"plotly_relayout\\\",(function (data){var filtered_data=WebIO.PlotlyCommands.filterEventData(gd,data,\\\"relayout\\\"); return !(filtered_data.isnil) ? (WebIO.setval({\\\"name\\\":\\\"relayout\\\",\\\"scope\\\":\\\"22227379763266391\\\",\\\"id\\\":\\\"10177986076273438821\\\",\\\"type\\\":\\\"observable\\\"},filtered_data.out)) : undefined})); return gd.on(\\\"plotly_click\\\",(function (data){var filtered_data=WebIO.PlotlyCommands.filterEventData(gd,data,\\\"click\\\"); return !(filtered_data.isnil) ? (WebIO.setval({\\\"name\\\":\\\"click\\\",\\\"scope\\\":\\\"22227379763266391\\\",\\\"id\\\":\\\"18082035062165475845\\\",\\\"type\\\":\\\"observable\\\"},filtered_data.out)) : undefined}))}));\\n    (WebIO.importBlock({\\\"data\\\":[{\\\"name\\\":\\\"Plotly\\\",\\\"type\\\":\\\"js\\\",\\\"url\\\":\\\"\\/assetserver\\/b039e8b2816b3419c8cf3a0d65d34e1c494930ad-plotly.min.js\\\"},{\\\"name\\\":null,\\\"type\\\":\\\"js\\\",\\\"url\\\":\\\"\\/assetserver\\/cca053ecfc4e8e565aa8ba96281f9266c41c681a-plotly_webio.bundle.js\\\"}],\\\"type\\\":\\\"async_block\\\"})).then((imports) => handler.apply(this, imports));\\n}\\n\"],\"observables\":{\"_toImage\":{\"sync\":false,\"id\":\"5684106395887830701\",\"value\":{}},\"hover\":{\"sync\":false,\"id\":\"3857355636093723223\",\"value\":{}},\"selected\":{\"sync\":false,\"id\":\"7108264740986732361\",\"value\":{}},\"__gd_contents\":{\"sync\":false,\"id\":\"3761310548731181792\",\"value\":{}},\"click\":{\"sync\":false,\"id\":\"18082035062165475845\",\"value\":{}},\"image\":{\"sync\":true,\"id\":\"1912121702951284606\",\"value\":\"\"},\"__get_gd_contents\":{\"sync\":false,\"id\":\"2187029073498951326\",\"value\":\"\"},\"_downloadImage\":{\"sync\":false,\"id\":\"7972735926716675622\",\"value\":{}},\"relayout\":{\"sync\":false,\"id\":\"10177986076273438821\",\"value\":{}},\"_commands\":{\"sync\":false,\"id\":\"5004119936248572567\",\"value\":[\"update\",{},{\"xaxis\":{\"showline\":true,\"gridcolor\":\"lightgrey\",\"type\":\"log\",\"ticks\":\"outside\",\"title\":\"R (a0)\",\"mirror\":true,\"linecolor\":\"black\"},\"template\":{\"data\":{\"scatterpolargl\":[{\"type\":\"scatterpolargl\",\"marker\":{\"colorbar\":{\"ticks\":\"\",\"outlinewidth\":0}}}],\"carpet\":[{\"baxis\":{\"gridcolor\":\"white\",\"endlinecolor\":\"#2a3f5f\",\"minorgridcolor\":\"white\",\"startlinecolor\":\"#2a3f5f\",\"linecolor\":\"white\"},\"type\":\"carpet\",\"aaxis\":{\"gridcolor\":\"white\",\"endlinecolor\":\"#2a3f5f\",\"minorgridcolor\":\"white\",\"startlinecolor\":\"#2a3f5f\",\"linecolor\":\"white\"}}],\"scatterpolar\":[{\"type\":\"scatterpolar\",\"marker\":{\"colorbar\":{\"ticks\":\"\",\"outlinewidth\":0}}}],\"parcoords\":[{\"line\":{\"colorbar\":{\"ticks\":\"\",\"outlinewidth\":0}},\"type\":\"parcoords\"}],\"scatter\":[{\"type\":\"scatter\",\"marker\":{\"colorbar\":{\"ticks\":\"\",\"outlinewidth\":0}}}],\"histogram2dcontour\":[{\"colorbar\":{\"ticks\":\"\",\"outlinewidth\":0},\"type\":\"histogram2dcontour\",\"colorscale\":[[0.0,\"#0d0887\"],[0.1111111111111111,\"#46039f\"],[0.2222222222222222,\"#7201a8\"],[0.3333333333333333,\"#9c179e\"],[0.4444444444444444,\"#bd3786\"],[0.5555555555555556,\"#d8576b\"],[0.6666666666666666,\"#ed7953\"],[0.7777777777777778,\"#fb9f3a\"],[0.8888888888888888,\"#fdca26\"],[1.0,\"#f0f921\"]]}],\"contour\":[{\"colorbar\":{\"ticks\":\"\",\"outlinewidth\":0},\"type\":\"contour\",\"colorscale\":[[0.0,\"#0d0887\"],[0.1111111111111111,\"#46039f\"],[0.2222222222222222,\"#7201a8\"],[0.3333333333333333,\"#9c179e\"],[0.4444444444444444,\"#bd3786\"],[0.5555555555555556,\"#d8576b\"],[0.6666666666666666,\"#ed7953\"],[0.7777777777777778,\"#fb9f3a\"],[0.8888888888888888,\"#fdca26\"],[1.0,\"#f0f921\"]]}],\"scattercarpet\":[{\"type\":\"scattercarpet\",\"marker\":{\"colorbar\":{\"ticks\":\"\",\"outlinewidth\":0}}}],\"mesh3d\":[{\"colorbar\":{\"ticks\":\"\",\"outlinewidth\":0},\"type\":\"mesh3d\"}],\"surface\":[{\"colorbar\":{\"ticks\":\"\",\"outlinewidth\":0},\"type\":\"surface\",\"colorscale\":[[0.0,\"#0d0887\"],[0.1111111111111111,\"#46039f\"],[0.2222222222222222,\"#7201a8\"],[0.3333333333333333,\"#9c179e\"],[0.4444444444444444,\"#bd3786\"],[0.5555555555555556,\"#d8576b\"],[0.6666666666666666,\"#ed7953\"],[0.7777777777777778,\"#fb9f3a\"],[0.8888888888888888,\"#fdca26\"],[1.0,\"#f0f921\"]]}],\"scattermapbox\":[{\"type\":\"scattermapbox\",\"marker\":{\"colorbar\":{\"ticks\":\"\",\"outlinewidth\":0}}}],\"scattergeo\":[{\"type\":\"scattergeo\",\"marker\":{\"colorbar\":{\"ticks\":\"\",\"outlinewidth\":0}}}],\"histogram\":[{\"type\":\"histogram\",\"marker\":{\"colorbar\":{\"ticks\":\"\",\"outlinewidth\":0}}}],\"pie\":[{\"type\":\"pie\",\"automargin\":true}],\"choropleth\":[{\"colorbar\":{\"ticks\":\"\",\"outlinewidth\":0},\"type\":\"choropleth\"}],\"heatmapgl\":[{\"colorbar\":{\"ticks\":\"\",\"outlinewidth\":0},\"type\":\"heatmapgl\",\"colorscale\":[[0.0,\"#0d0887\"],[0.1111111111111111,\"#46039f\"],[0.2222222222222222,\"#7201a8\"],[0.3333333333333333,\"#9c179e\"],[0.4444444444444444,\"#bd3786\"],[0.5555555555555556,\"#d8576b\"],[0.6666666666666666,\"#ed7953\"],[0.7777777777777778,\"#fb9f3a\"],[0.8888888888888888,\"#fdca26\"],[1.0,\"#f0f921\"]]}],\"bar\":[{\"type\":\"bar\",\"error_y\":{\"color\":\"#2a3f5f\"},\"error_x\":{\"color\":\"#2a3f5f\"},\"marker\":{\"line\":{\"color\":\"#E5ECF6\",\"width\":0.5}}}],\"heatmap\":[{\"colorbar\":{\"ticks\":\"\",\"outlinewidth\":0},\"type\":\"heatmap\",\"colorscale\":[[0.0,\"#0d0887\"],[0.1111111111111111,\"#46039f\"],[0.2222222222222222,\"#7201a8\"],[0.3333333333333333,\"#9c179e\"],[0.4444444444444444,\"#bd3786\"],[0.5555555555555556,\"#d8576b\"],[0.6666666666666666,\"#ed7953\"],[0.7777777777777778,\"#fb9f3a\"],[0.8888888888888888,\"#fdca26\"],[1.0,\"#f0f921\"]]}],\"contourcarpet\":[{\"colorbar\":{\"ticks\":\"\",\"outlinewidth\":0},\"type\":\"contourcarpet\"}],\"table\":[{\"type\":\"table\",\"header\":{\"line\":{\"color\":\"white\"},\"fill\":{\"color\":\"#C8D4E3\"}},\"cells\":{\"line\":{\"color\":\"white\"},\"fill\":{\"color\":\"#EBF0F8\"}}}],\"scatter3d\":[{\"line\":{\"colorbar\":{\"ticks\":\"\",\"outlinewidth\":0}},\"type\":\"scatter3d\",\"marker\":{\"colorbar\":{\"ticks\":\"\",\"outlinewidth\":0}}}],\"scattergl\":[{\"type\":\"scattergl\",\"marker\":{\"colorbar\":{\"ticks\":\"\",\"outlinewidth\":0}}}],\"histogram2d\":[{\"colorbar\":{\"ticks\":\"\",\"outlinewidth\":0},\"type\":\"histogram2d\",\"colorscale\":[[0.0,\"#0d0887\"],[0.1111111111111111,\"#46039f\"],[0.2222222222222222,\"#7201a8\"],[0.3333333333333333,\"#9c179e\"],[0.4444444444444444,\"#bd3786\"],[0.5555555555555556,\"#d8576b\"],[0.6666666666666666,\"#ed7953\"],[0.7777777777777778,\"#fb9f3a\"],[0.8888888888888888,\"#fdca26\"],[1.0,\"#f0f921\"]]}],\"scatterternary\":[{\"type\":\"scatterternary\",\"marker\":{\"colorbar\":{\"ticks\":\"\",\"outlinewidth\":0}}}],\"barpolar\":[{\"type\":\"barpolar\",\"marker\":{\"line\":{\"color\":\"#E5ECF6\",\"width\":0.5}}}]},\"layout\":{\"xaxis\":{\"gridcolor\":\"white\",\"zerolinewidth\":2,\"title\":{\"standoff\":15},\"ticks\":\"\",\"zerolinecolor\":\"white\",\"automargin\":true,\"linecolor\":\"white\"},\"hovermode\":\"closest\",\"paper_bgcolor\":\"white\",\"geo\":{\"showlakes\":true,\"showland\":true,\"landcolor\":\"#E5ECF6\",\"bgcolor\":\"white\",\"subunitcolor\":\"white\",\"lakecolor\":\"white\"},\"colorscale\":{\"sequential\":[[0.0,\"#0d0887\"],[0.1111111111111111,\"#46039f\"],[0.2222222222222222,\"#7201a8\"],[0.3333333333333333,\"#9c179e\"],[0.4444444444444444,\"#bd3786\"],[0.5555555555555556,\"#d8576b\"],[0.6666666666666666,\"#ed7953\"],[0.7777777777777778,\"#fb9f3a\"],[0.8888888888888888,\"#fdca26\"],[1.0,\"#f0f921\"]],\"diverging\":[[0,\"#8e0152\"],[0.1,\"#c51b7d\"],[0.2,\"#de77ae\"],[0.3,\"#f1b6da\"],[0.4,\"#fde0ef\"],[0.5,\"#f7f7f7\"],[0.6,\"#e6f5d0\"],[0.7,\"#b8e186\"],[0.8,\"#7fbc41\"],[0.9,\"#4d9221\"],[1,\"#276419\"]],\"sequentialminus\":[[0.0,\"#0d0887\"],[0.1111111111111111,\"#46039f\"],[0.2222222222222222,\"#7201a8\"],[0.3333333333333333,\"#9c179e\"],[0.4444444444444444,\"#bd3786\"],[0.5555555555555556,\"#d8576b\"],[0.6666666666666666,\"#ed7953\"],[0.7777777777777778,\"#fb9f3a\"],[0.8888888888888888,\"#fdca26\"],[1.0,\"#f0f921\"]]},\"yaxis\":{\"gridcolor\":\"white\",\"zerolinewidth\":2,\"title\":{\"standoff\":15},\"ticks\":\"\",\"zerolinecolor\":\"white\",\"automargin\":true,\"linecolor\":\"white\"},\"shapedefaults\":{\"line\":{\"color\":\"#2a3f5f\"}},\"font\":{\"color\":\"#2a3f5f\"},\"annotationdefaults\":{\"arrowhead\":0,\"arrowwidth\":1,\"arrowcolor\":\"#2a3f5f\"},\"plot_bgcolor\":\"#E5ECF6\",\"title\":{\"x\":0.05},\"coloraxis\":{\"colorbar\":{\"ticks\":\"\",\"outlinewidth\":0}},\"hoverlabel\":{\"align\":\"left\"},\"mapbox\":{\"style\":\"light\"},\"polar\":{\"angularaxis\":{\"gridcolor\":\"white\",\"ticks\":\"\",\"linecolor\":\"white\"},\"bgcolor\":\"#E5ECF6\",\"radialaxis\":{\"gridcolor\":\"white\",\"ticks\":\"\",\"linecolor\":\"white\"}},\"autotypenumbers\":\"strict\",\"ternary\":{\"aaxis\":{\"gridcolor\":\"white\",\"ticks\":\"\",\"linecolor\":\"white\"},\"bgcolor\":\"#E5ECF6\",\"caxis\":{\"gridcolor\":\"white\",\"ticks\":\"\",\"linecolor\":\"white\"},\"baxis\":{\"gridcolor\":\"white\",\"ticks\":\"\",\"linecolor\":\"white\"}},\"scene\":{\"xaxis\":{\"gridcolor\":\"white\",\"gridwidth\":2,\"backgroundcolor\":\"#E5ECF6\",\"ticks\":\"\",\"showbackground\":true,\"zerolinecolor\":\"white\",\"linecolor\":\"white\"},\"zaxis\":{\"gridcolor\":\"white\",\"gridwidth\":2,\"backgroundcolor\":\"#E5ECF6\",\"ticks\":\"\",\"showbackground\":true,\"zerolinecolor\":\"white\",\"linecolor\":\"white\"},\"yaxis\":{\"gridcolor\":\"white\",\"gridwidth\":2,\"backgroundcolor\":\"#E5ECF6\",\"ticks\":\"\",\"showbackground\":true,\"zerolinecolor\":\"white\",\"linecolor\":\"white\"}},\"colorway\":[\"#636efa\",\"#EF553B\",\"#00cc96\",\"#ab63fa\",\"#FFA15A\",\"#19d3f3\",\"#FF6692\",\"#B6E880\",\"#FF97FF\",\"#FECB52\"]}},\"height\":400,\"margin\":{\"l\":50,\"b\":50,\"r\":50,\"t\":60},\"title\":\"Energy Spectrum\",\"yaxis\":{\"showline\":true,\"gridcolor\":\"lightgrey\",\"ticks\":\"outside\",\"title\":\"Energy (K)\",\"mirror\":true,\"linecolor\":\"black\"},\"plot_bgcolor\":\"white\",\"width\":1000}]}}},\"children\":[{\"props\":{\"id\":\"plot-db5da4e5-c14d-4b08-959b-bcc5dfded83a\"},\"nodeType\":\"DOM\",\"type\":\"node\",\"instanceArgs\":{\"namespace\":\"html\",\"tag\":\"div\"},\"children\":[]}]},\n",
       "        window,\n",
       "    );\n",
       "    })()\n",
       "    </script>\n",
       "</div>\n"
      ],
      "text/plain": [
       "data: [\n",
       "  \"scatter with fields name, text, type, x, and y\",\n",
       "  \"scatter with fields name, text, type, x, and y\",\n",
       "  \"scatter with fields name, text, type, x, and y\",\n",
       "  \"scatter with fields name, text, type, x, and y\",\n",
       "  \"scatter with fields name, text, type, x, and y\",\n",
       "  \"scatter with fields name, text, type, x, and y\",\n",
       "  \"scatter with fields name, text, type, x, and y\",\n",
       "  \"scatter with fields name, text, type, x, and y\",\n",
       "  \"scatter with fields name, text, type, x, and y\",\n",
       "  \"scatter with fields name, text, type, x, and y\",\n",
       "  \"scatter with fields name, text, type, x, and y\",\n",
       "  \"scatter with fields name, text, type, x, and y\",\n",
       "  \"scatter with fields name, text, type, x, and y\",\n",
       "  \"scatter with fields name, text, type, x, and y\",\n",
       "  \"scatter with fields name, text, type, x, and y\",\n",
       "  \"scatter with fields name, text, type, x, and y\",\n",
       "  \"scatter with fields name, text, type, x, and y\",\n",
       "  \"scatter with fields name, text, type, x, and y\",\n",
       "  \"scatter with fields name, text, type, x, and y\",\n",
       "  \"scatter with fields name, text, type, x, and y\",\n",
       "  \"scatter with fields name, text, type, x, and y\",\n",
       "  \"scatter with fields name, text, type, x, and y\",\n",
       "  \"scatter with fields name, text, type, x, and y\",\n",
       "  \"scatter with fields name, text, type, x, and y\",\n",
       "  \"scatter with fields name, text, type, x, and y\",\n",
       "  \"scatter with fields name, text, type, x, and y\",\n",
       "  \"scatter with fields name, text, type, x, and y\",\n",
       "  \"scatter with fields name, text, type, x, and y\"\n",
       "]\n",
       "\n",
       "layout: \"layout with fields height, margin, plot_bgcolor, template, title, width, xaxis, and yaxis\"\n",
       "\n"
      ]
     },
     "execution_count": 6,
     "metadata": {},
     "output_type": "execute_result"
    }
   ],
   "source": [
    "p = plotScan(H, sols_R, stateOI = [nothing, [0, 1.0], [0, 1.0]]) # stateOI = [[mL, L], [mN2, N2], [mN1, N1]]\n",
    "relayout!(p, xaxis=attr(type= \"log\"))\n",
    "p"
   ]
  },
  {
   "cell_type": "markdown",
   "metadata": {},
   "source": [
    "# Extracting Data"
   ]
  },
  {
   "cell_type": "code",
   "execution_count": 7,
   "metadata": {},
   "outputs": [
    {
     "name": "stdout",
     "output_type": "stream",
     "text": [
      "state: 701\n"
     ]
    }
   ],
   "source": [
    "energyVals = energies(sols_R)\n",
    "stateOF = State([0, 0, 0, 1.0, 0, 1.0], H) #QM = [mL, L, mN2, N2, mN1, N1]\n",
    "stateVec, adiabatOI = adiabats(sols_R, stateOF);"
   ]
  },
  {
   "cell_type": "markdown",
   "metadata": {},
   "source": [
    "# State searching Utils"
   ]
  },
  {
   "cell_type": "code",
   "execution_count": 8,
   "metadata": {},
   "outputs": [
    {
     "data": {
      "text/plain": [
       "701"
      ]
     },
     "execution_count": 8,
     "metadata": {},
     "output_type": "execute_result"
    }
   ],
   "source": [
    "stateOF = State([0, 0, 0, 1.0, 0, 1.0], H) #QM = [mL, L, mN2, N2, mN1, N1]\n",
    "stateInd = findStateMax(stateOF, sols_R[end])"
   ]
  },
  {
   "cell_type": "code",
   "execution_count": null,
   "metadata": {},
   "outputs": [],
   "source": []
  }
 ],
 "metadata": {
  "@webio": {
   "lastCommId": "a2f1c026c7d84479bf59c8f356e10641",
   "lastKernelId": "8e2e0479-c32a-4dbc-aea1-4d0da71a46a0"
  },
  "kernelspec": {
   "display_name": "Julia 1.8.2",
   "language": "julia",
   "name": "julia-1.8"
  },
  "language_info": {
   "file_extension": ".jl",
   "mimetype": "application/julia",
   "name": "julia",
   "version": "1.8.2"
  }
 },
 "nbformat": 4,
 "nbformat_minor": 2
}
